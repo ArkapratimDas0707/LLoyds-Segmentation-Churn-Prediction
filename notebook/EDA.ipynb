{
 "cells": [
  {
   "cell_type": "code",
   "execution_count": 18,
   "id": "1b17e732",
   "metadata": {},
   "outputs": [],
   "source": [
    "import pandas as pd\n",
    "import numpy as np\n",
    "import matplotlib.pyplot as plt \n",
    "import seaborn as sns \n",
    "import plotly.express as px \n",
    "from plotly.subplots import make_subplots\n",
    "import plotly.graph_objects as go"
   ]
  },
  {
   "cell_type": "code",
   "execution_count": 19,
   "id": "03dfc30f",
   "metadata": {},
   "outputs": [],
   "source": [
    "df=pd.read_csv(\"../data/raw/data_clean.csv\")"
   ]
  },
  {
   "cell_type": "code",
   "execution_count": 20,
   "id": "e35c47d9",
   "metadata": {},
   "outputs": [
    {
     "data": {
      "text/html": [
       "<div>\n",
       "<style scoped>\n",
       "    .dataframe tbody tr th:only-of-type {\n",
       "        vertical-align: middle;\n",
       "    }\n",
       "\n",
       "    .dataframe tbody tr th {\n",
       "        vertical-align: top;\n",
       "    }\n",
       "\n",
       "    .dataframe thead th {\n",
       "        text-align: right;\n",
       "    }\n",
       "</style>\n",
       "<table border=\"1\" class=\"dataframe\">\n",
       "  <thead>\n",
       "    <tr style=\"text-align: right;\">\n",
       "      <th></th>\n",
       "      <th>Age</th>\n",
       "      <th>Gender</th>\n",
       "      <th>MaritalStatus</th>\n",
       "      <th>IncomeLevel</th>\n",
       "      <th>TotalSpent</th>\n",
       "      <th>NumTransactions</th>\n",
       "      <th>NumInteractions</th>\n",
       "      <th>UnresolvedCount</th>\n",
       "      <th>LastLoginDate</th>\n",
       "      <th>LoginFrequency</th>\n",
       "      <th>ServiceUsage</th>\n",
       "      <th>ChurnStatus</th>\n",
       "      <th>Churn</th>\n",
       "      <th>AgeGroup</th>\n",
       "    </tr>\n",
       "  </thead>\n",
       "  <tbody>\n",
       "    <tr>\n",
       "      <th>0</th>\n",
       "      <td>62</td>\n",
       "      <td>M</td>\n",
       "      <td>Single</td>\n",
       "      <td>Low</td>\n",
       "      <td>416.50</td>\n",
       "      <td>1</td>\n",
       "      <td>1.0</td>\n",
       "      <td>0.0</td>\n",
       "      <td>2023-10-21</td>\n",
       "      <td>34</td>\n",
       "      <td>Mobile App</td>\n",
       "      <td>0</td>\n",
       "      <td>Not Churned</td>\n",
       "      <td>60-69</td>\n",
       "    </tr>\n",
       "    <tr>\n",
       "      <th>1</th>\n",
       "      <td>65</td>\n",
       "      <td>M</td>\n",
       "      <td>Married</td>\n",
       "      <td>Low</td>\n",
       "      <td>1547.42</td>\n",
       "      <td>7</td>\n",
       "      <td>1.0</td>\n",
       "      <td>0.0</td>\n",
       "      <td>2023-12-05</td>\n",
       "      <td>5</td>\n",
       "      <td>Website</td>\n",
       "      <td>1</td>\n",
       "      <td>Churned</td>\n",
       "      <td>60-69</td>\n",
       "    </tr>\n",
       "    <tr>\n",
       "      <th>2</th>\n",
       "      <td>18</td>\n",
       "      <td>M</td>\n",
       "      <td>Single</td>\n",
       "      <td>Low</td>\n",
       "      <td>1702.98</td>\n",
       "      <td>6</td>\n",
       "      <td>1.0</td>\n",
       "      <td>0.0</td>\n",
       "      <td>2023-11-15</td>\n",
       "      <td>3</td>\n",
       "      <td>Website</td>\n",
       "      <td>0</td>\n",
       "      <td>Not Churned</td>\n",
       "      <td>&lt;20</td>\n",
       "    </tr>\n",
       "    <tr>\n",
       "      <th>3</th>\n",
       "      <td>21</td>\n",
       "      <td>M</td>\n",
       "      <td>Widowed</td>\n",
       "      <td>Low</td>\n",
       "      <td>917.29</td>\n",
       "      <td>5</td>\n",
       "      <td>2.0</td>\n",
       "      <td>1.0</td>\n",
       "      <td>2023-08-25</td>\n",
       "      <td>2</td>\n",
       "      <td>Website</td>\n",
       "      <td>0</td>\n",
       "      <td>Not Churned</td>\n",
       "      <td>20-29</td>\n",
       "    </tr>\n",
       "    <tr>\n",
       "      <th>4</th>\n",
       "      <td>21</td>\n",
       "      <td>M</td>\n",
       "      <td>Divorced</td>\n",
       "      <td>Medium</td>\n",
       "      <td>2001.49</td>\n",
       "      <td>8</td>\n",
       "      <td>0.0</td>\n",
       "      <td>0.0</td>\n",
       "      <td>2023-10-27</td>\n",
       "      <td>41</td>\n",
       "      <td>Website</td>\n",
       "      <td>0</td>\n",
       "      <td>Not Churned</td>\n",
       "      <td>20-29</td>\n",
       "    </tr>\n",
       "    <tr>\n",
       "      <th>...</th>\n",
       "      <td>...</td>\n",
       "      <td>...</td>\n",
       "      <td>...</td>\n",
       "      <td>...</td>\n",
       "      <td>...</td>\n",
       "      <td>...</td>\n",
       "      <td>...</td>\n",
       "      <td>...</td>\n",
       "      <td>...</td>\n",
       "      <td>...</td>\n",
       "      <td>...</td>\n",
       "      <td>...</td>\n",
       "      <td>...</td>\n",
       "      <td>...</td>\n",
       "    </tr>\n",
       "    <tr>\n",
       "      <th>995</th>\n",
       "      <td>54</td>\n",
       "      <td>F</td>\n",
       "      <td>Single</td>\n",
       "      <td>Low</td>\n",
       "      <td>227.25</td>\n",
       "      <td>1</td>\n",
       "      <td>0.0</td>\n",
       "      <td>0.0</td>\n",
       "      <td>2023-01-29</td>\n",
       "      <td>38</td>\n",
       "      <td>Mobile App</td>\n",
       "      <td>0</td>\n",
       "      <td>Not Churned</td>\n",
       "      <td>50-59</td>\n",
       "    </tr>\n",
       "    <tr>\n",
       "      <th>996</th>\n",
       "      <td>19</td>\n",
       "      <td>M</td>\n",
       "      <td>Widowed</td>\n",
       "      <td>High</td>\n",
       "      <td>419.82</td>\n",
       "      <td>2</td>\n",
       "      <td>0.0</td>\n",
       "      <td>0.0</td>\n",
       "      <td>2023-04-01</td>\n",
       "      <td>5</td>\n",
       "      <td>Mobile App</td>\n",
       "      <td>0</td>\n",
       "      <td>Not Churned</td>\n",
       "      <td>&lt;20</td>\n",
       "    </tr>\n",
       "    <tr>\n",
       "      <th>997</th>\n",
       "      <td>47</td>\n",
       "      <td>M</td>\n",
       "      <td>Married</td>\n",
       "      <td>Low</td>\n",
       "      <td>252.15</td>\n",
       "      <td>1</td>\n",
       "      <td>0.0</td>\n",
       "      <td>0.0</td>\n",
       "      <td>2023-07-10</td>\n",
       "      <td>47</td>\n",
       "      <td>Website</td>\n",
       "      <td>0</td>\n",
       "      <td>Not Churned</td>\n",
       "      <td>40-49</td>\n",
       "    </tr>\n",
       "    <tr>\n",
       "      <th>998</th>\n",
       "      <td>23</td>\n",
       "      <td>M</td>\n",
       "      <td>Widowed</td>\n",
       "      <td>High</td>\n",
       "      <td>2393.26</td>\n",
       "      <td>9</td>\n",
       "      <td>0.0</td>\n",
       "      <td>0.0</td>\n",
       "      <td>2023-01-08</td>\n",
       "      <td>23</td>\n",
       "      <td>Website</td>\n",
       "      <td>0</td>\n",
       "      <td>Not Churned</td>\n",
       "      <td>20-29</td>\n",
       "    </tr>\n",
       "    <tr>\n",
       "      <th>999</th>\n",
       "      <td>34</td>\n",
       "      <td>M</td>\n",
       "      <td>Widowed</td>\n",
       "      <td>Low</td>\n",
       "      <td>1670.79</td>\n",
       "      <td>6</td>\n",
       "      <td>0.0</td>\n",
       "      <td>0.0</td>\n",
       "      <td>2023-08-13</td>\n",
       "      <td>22</td>\n",
       "      <td>Mobile App</td>\n",
       "      <td>0</td>\n",
       "      <td>Not Churned</td>\n",
       "      <td>30-39</td>\n",
       "    </tr>\n",
       "  </tbody>\n",
       "</table>\n",
       "<p>1000 rows × 14 columns</p>\n",
       "</div>"
      ],
      "text/plain": [
       "     Age Gender MaritalStatus IncomeLevel  TotalSpent  NumTransactions  \\\n",
       "0     62      M        Single         Low      416.50                1   \n",
       "1     65      M       Married         Low     1547.42                7   \n",
       "2     18      M        Single         Low     1702.98                6   \n",
       "3     21      M       Widowed         Low      917.29                5   \n",
       "4     21      M      Divorced      Medium     2001.49                8   \n",
       "..   ...    ...           ...         ...         ...              ...   \n",
       "995   54      F        Single         Low      227.25                1   \n",
       "996   19      M       Widowed        High      419.82                2   \n",
       "997   47      M       Married         Low      252.15                1   \n",
       "998   23      M       Widowed        High     2393.26                9   \n",
       "999   34      M       Widowed         Low     1670.79                6   \n",
       "\n",
       "     NumInteractions  UnresolvedCount LastLoginDate  LoginFrequency  \\\n",
       "0                1.0              0.0    2023-10-21              34   \n",
       "1                1.0              0.0    2023-12-05               5   \n",
       "2                1.0              0.0    2023-11-15               3   \n",
       "3                2.0              1.0    2023-08-25               2   \n",
       "4                0.0              0.0    2023-10-27              41   \n",
       "..               ...              ...           ...             ...   \n",
       "995              0.0              0.0    2023-01-29              38   \n",
       "996              0.0              0.0    2023-04-01               5   \n",
       "997              0.0              0.0    2023-07-10              47   \n",
       "998              0.0              0.0    2023-01-08              23   \n",
       "999              0.0              0.0    2023-08-13              22   \n",
       "\n",
       "    ServiceUsage  ChurnStatus        Churn AgeGroup  \n",
       "0     Mobile App            0  Not Churned    60-69  \n",
       "1        Website            1      Churned    60-69  \n",
       "2        Website            0  Not Churned      <20  \n",
       "3        Website            0  Not Churned    20-29  \n",
       "4        Website            0  Not Churned    20-29  \n",
       "..           ...          ...          ...      ...  \n",
       "995   Mobile App            0  Not Churned    50-59  \n",
       "996   Mobile App            0  Not Churned      <20  \n",
       "997      Website            0  Not Churned    40-49  \n",
       "998      Website            0  Not Churned    20-29  \n",
       "999   Mobile App            0  Not Churned    30-39  \n",
       "\n",
       "[1000 rows x 14 columns]"
      ]
     },
     "execution_count": 20,
     "metadata": {},
     "output_type": "execute_result"
    }
   ],
   "source": [
    "df=df.drop(columns=[\"CustomerID\"], axis=1)\n",
    "df"
   ]
  },
  {
   "cell_type": "markdown",
   "id": "98c88509",
   "metadata": {},
   "source": [
    "## Univariate Analysis"
   ]
  },
  {
   "cell_type": "code",
   "execution_count": 6,
   "id": "de97f8ef",
   "metadata": {},
   "outputs": [
    {
     "data": {
      "application/vnd.plotly.v1+json": {
       "config": {
        "plotlyServerURL": "https://plot.ly"
       },
       "data": [
        {
         "marker": {
          "color": "#005A30"
         },
         "type": "histogram",
         "x": {
          "bdata": "PkESFRU5GyUnRDYpGCoqHhM4OSlAKiM3Kx8aGyZFIkUXIUESJDUqQ0UvJSUgOTITGzIxHCk1HUQuNBISNhc4OiMhFjs8MRMTOTs1OB1AJC0SIDUePCYdFhgWQRUeNjogISY1KSEfJ0JDFzs1EjEXMBJDRDY0Qi8VNDwfQjknGxIcRD0pFDQ1MBUkQDUmI0QtIDsTNhwoPTodFEUiMhI4JUA8RTofMCoUFTA0PR9COholMRosFBU+IDIWFT8dKB8/HSIqLydAKyIlMzoyNhgnMR8ZKiE7JDohHThBLxMxPioqFSRBFTweODUoFyk9Mh06Jhw9Ny5BOhQtJSspRUAmLxU1ORsbOykVQCxEPhUxGxwtPxk5JzM+NDQqMxc6NhIdNBciGhMjQjUtOjZCKxU5NUQwL0MzJCMvJhQXNx4+FEEtJzk5HSgwIxgZJC49JUM7L0AnGytEMi0bLj0jOxIoIjw2MCoVRRotL0ApMiUaGSkfIxIdLjYrMjwgKC4mJBYoNSUZGh8XEhohIR0WOS4/LBxAQy1FNTskNEUwPSQ/KRMYPEIwIiw1QzwbPh8YODkaHxkiKCErGjUYIxkmKxQiRD8pKhY2PkMpMCsmMzcpLS8zRUUoGTtDGxIlNiMmQhU8EyY2FiJCQRw/OjAtPTEmGBstQTUlHiRDHDQzPRUeNhNDEjkqNjUXGBU0OjMuFiwyP0UbFzMZMBomGRUnLT4VOCYZJTESFy09MBslGSc3Lho9QBI6RTgrHEU0KTIlLCAyRRgzPkQ/OxYvLSM1FCY/ITY7FkNEHzA/KTQ1GywsKB4hNCxFOEAiQToSHB0fGTAYPzAhOzg9JBkuEzsURC4gNy02MS9EQC9EMx4yOyIUGkUcQiwtExIXKjQhFUA3PSUqGCYYLkUYFC4uODcXPxs2HycxIzU/RRorJz83KCIrQDcTFxgeLBwgGhk/F0E8FRxELSsVICQXFiMXMCoVFzo2QyozJDMgQxk9QEIzIy8eQDI0RSkrQEQ9O0ASHhskFhkVQh43P0I/JEVDGSxDQC8VHCY8EyYiPEQuLClCFDgbFD47KzYsFjscHjozNzkyMyw1K0QqJCYwLhokKyo5PC4qJBU+JT8SHBUYLTUYJTRERDgmPRI2PzsUMx4hMykeFzgTHBgYODgdRCdEREUUHi8bRRoXPRM9IR5BHickKx8wLj47Jxg2QjosMBchNzdDMTJCIjIcHi8SLyw5KCUXNiU2Fy4eLEMlHjgZIi8SKSEcFRUiQhsmN0IjGz4hOCAzFiI2GSktQBkoNDAiLUFBRB0pIDkwLDQjNRk/QjcWHzclPRoyIxc2Ey8XIg==",
          "dtype": "i1"
         },
         "xaxis": "x",
         "yaxis": "y"
        },
        {
         "marker": {
          "color": "#000000"
         },
         "type": "bar",
         "x": [
          "Widowed",
          "Married",
          "Divorced",
          "Single"
         ],
         "xaxis": "x2",
         "y": {
          "bdata": "FAEFAfgA1wA=",
          "dtype": "i2"
         },
         "yaxis": "y2"
        },
        {
         "marker": {
          "color": "#B1B3B3"
         },
         "type": "bar",
         "x": [
          "High",
          "Medium",
          "Low"
         ],
         "xaxis": "x3",
         "y": {
          "bdata": "XQFGAUUB",
          "dtype": "i2"
         },
         "yaxis": "y3"
        },
        {
         "domain": {
          "x": [
           0.55,
           1
          ],
          "y": [
           0,
           0.375
          ]
         },
         "labels": [
          "Not Churned",
          "Churned"
         ],
         "marker": {
          "colors": [
           "#005A30",
           "#000000"
          ]
         },
         "type": "pie",
         "values": {
          "bdata": "HAPMAA==",
          "dtype": "i2"
         }
        }
       ],
       "layout": {
        "annotations": [
         {
          "font": {
           "size": 16
          },
          "showarrow": false,
          "text": "Age Distribution",
          "x": 0.225,
          "xanchor": "center",
          "xref": "paper",
          "y": 1,
          "yanchor": "bottom",
          "yref": "paper"
         },
         {
          "font": {
           "size": 16
          },
          "showarrow": false,
          "text": "Marital Status",
          "x": 0.775,
          "xanchor": "center",
          "xref": "paper",
          "y": 1,
          "yanchor": "bottom",
          "yref": "paper"
         },
         {
          "font": {
           "size": 16
          },
          "showarrow": false,
          "text": "Income Level",
          "x": 0.225,
          "xanchor": "center",
          "xref": "paper",
          "y": 0.375,
          "yanchor": "bottom",
          "yref": "paper"
         },
         {
          "font": {
           "size": 16
          },
          "showarrow": false,
          "text": "Churn Status",
          "x": 0.775,
          "xanchor": "center",
          "xref": "paper",
          "y": 0.375,
          "yanchor": "bottom",
          "yref": "paper"
         }
        ],
        "showlegend": false,
        "template": {
         "data": {
          "bar": [
           {
            "error_x": {
             "color": "rgb(36,36,36)"
            },
            "error_y": {
             "color": "rgb(36,36,36)"
            },
            "marker": {
             "line": {
              "color": "white",
              "width": 0.5
             },
             "pattern": {
              "fillmode": "overlay",
              "size": 10,
              "solidity": 0.2
             }
            },
            "type": "bar"
           }
          ],
          "barpolar": [
           {
            "marker": {
             "line": {
              "color": "white",
              "width": 0.5
             },
             "pattern": {
              "fillmode": "overlay",
              "size": 10,
              "solidity": 0.2
             }
            },
            "type": "barpolar"
           }
          ],
          "carpet": [
           {
            "aaxis": {
             "endlinecolor": "rgb(36,36,36)",
             "gridcolor": "white",
             "linecolor": "white",
             "minorgridcolor": "white",
             "startlinecolor": "rgb(36,36,36)"
            },
            "baxis": {
             "endlinecolor": "rgb(36,36,36)",
             "gridcolor": "white",
             "linecolor": "white",
             "minorgridcolor": "white",
             "startlinecolor": "rgb(36,36,36)"
            },
            "type": "carpet"
           }
          ],
          "choropleth": [
           {
            "colorbar": {
             "outlinewidth": 1,
             "tickcolor": "rgb(36,36,36)",
             "ticks": "outside"
            },
            "type": "choropleth"
           }
          ],
          "contour": [
           {
            "colorbar": {
             "outlinewidth": 1,
             "tickcolor": "rgb(36,36,36)",
             "ticks": "outside"
            },
            "colorscale": [
             [
              0,
              "#440154"
             ],
             [
              0.1111111111111111,
              "#482878"
             ],
             [
              0.2222222222222222,
              "#3e4989"
             ],
             [
              0.3333333333333333,
              "#31688e"
             ],
             [
              0.4444444444444444,
              "#26828e"
             ],
             [
              0.5555555555555556,
              "#1f9e89"
             ],
             [
              0.6666666666666666,
              "#35b779"
             ],
             [
              0.7777777777777778,
              "#6ece58"
             ],
             [
              0.8888888888888888,
              "#b5de2b"
             ],
             [
              1,
              "#fde725"
             ]
            ],
            "type": "contour"
           }
          ],
          "contourcarpet": [
           {
            "colorbar": {
             "outlinewidth": 1,
             "tickcolor": "rgb(36,36,36)",
             "ticks": "outside"
            },
            "type": "contourcarpet"
           }
          ],
          "heatmap": [
           {
            "colorbar": {
             "outlinewidth": 1,
             "tickcolor": "rgb(36,36,36)",
             "ticks": "outside"
            },
            "colorscale": [
             [
              0,
              "#440154"
             ],
             [
              0.1111111111111111,
              "#482878"
             ],
             [
              0.2222222222222222,
              "#3e4989"
             ],
             [
              0.3333333333333333,
              "#31688e"
             ],
             [
              0.4444444444444444,
              "#26828e"
             ],
             [
              0.5555555555555556,
              "#1f9e89"
             ],
             [
              0.6666666666666666,
              "#35b779"
             ],
             [
              0.7777777777777778,
              "#6ece58"
             ],
             [
              0.8888888888888888,
              "#b5de2b"
             ],
             [
              1,
              "#fde725"
             ]
            ],
            "type": "heatmap"
           }
          ],
          "histogram": [
           {
            "marker": {
             "line": {
              "color": "white",
              "width": 0.6
             }
            },
            "type": "histogram"
           }
          ],
          "histogram2d": [
           {
            "colorbar": {
             "outlinewidth": 1,
             "tickcolor": "rgb(36,36,36)",
             "ticks": "outside"
            },
            "colorscale": [
             [
              0,
              "#440154"
             ],
             [
              0.1111111111111111,
              "#482878"
             ],
             [
              0.2222222222222222,
              "#3e4989"
             ],
             [
              0.3333333333333333,
              "#31688e"
             ],
             [
              0.4444444444444444,
              "#26828e"
             ],
             [
              0.5555555555555556,
              "#1f9e89"
             ],
             [
              0.6666666666666666,
              "#35b779"
             ],
             [
              0.7777777777777778,
              "#6ece58"
             ],
             [
              0.8888888888888888,
              "#b5de2b"
             ],
             [
              1,
              "#fde725"
             ]
            ],
            "type": "histogram2d"
           }
          ],
          "histogram2dcontour": [
           {
            "colorbar": {
             "outlinewidth": 1,
             "tickcolor": "rgb(36,36,36)",
             "ticks": "outside"
            },
            "colorscale": [
             [
              0,
              "#440154"
             ],
             [
              0.1111111111111111,
              "#482878"
             ],
             [
              0.2222222222222222,
              "#3e4989"
             ],
             [
              0.3333333333333333,
              "#31688e"
             ],
             [
              0.4444444444444444,
              "#26828e"
             ],
             [
              0.5555555555555556,
              "#1f9e89"
             ],
             [
              0.6666666666666666,
              "#35b779"
             ],
             [
              0.7777777777777778,
              "#6ece58"
             ],
             [
              0.8888888888888888,
              "#b5de2b"
             ],
             [
              1,
              "#fde725"
             ]
            ],
            "type": "histogram2dcontour"
           }
          ],
          "mesh3d": [
           {
            "colorbar": {
             "outlinewidth": 1,
             "tickcolor": "rgb(36,36,36)",
             "ticks": "outside"
            },
            "type": "mesh3d"
           }
          ],
          "parcoords": [
           {
            "line": {
             "colorbar": {
              "outlinewidth": 1,
              "tickcolor": "rgb(36,36,36)",
              "ticks": "outside"
             }
            },
            "type": "parcoords"
           }
          ],
          "pie": [
           {
            "automargin": true,
            "type": "pie"
           }
          ],
          "scatter": [
           {
            "fillpattern": {
             "fillmode": "overlay",
             "size": 10,
             "solidity": 0.2
            },
            "type": "scatter"
           }
          ],
          "scatter3d": [
           {
            "line": {
             "colorbar": {
              "outlinewidth": 1,
              "tickcolor": "rgb(36,36,36)",
              "ticks": "outside"
             }
            },
            "marker": {
             "colorbar": {
              "outlinewidth": 1,
              "tickcolor": "rgb(36,36,36)",
              "ticks": "outside"
             }
            },
            "type": "scatter3d"
           }
          ],
          "scattercarpet": [
           {
            "marker": {
             "colorbar": {
              "outlinewidth": 1,
              "tickcolor": "rgb(36,36,36)",
              "ticks": "outside"
             }
            },
            "type": "scattercarpet"
           }
          ],
          "scattergeo": [
           {
            "marker": {
             "colorbar": {
              "outlinewidth": 1,
              "tickcolor": "rgb(36,36,36)",
              "ticks": "outside"
             }
            },
            "type": "scattergeo"
           }
          ],
          "scattergl": [
           {
            "marker": {
             "colorbar": {
              "outlinewidth": 1,
              "tickcolor": "rgb(36,36,36)",
              "ticks": "outside"
             }
            },
            "type": "scattergl"
           }
          ],
          "scattermap": [
           {
            "marker": {
             "colorbar": {
              "outlinewidth": 1,
              "tickcolor": "rgb(36,36,36)",
              "ticks": "outside"
             }
            },
            "type": "scattermap"
           }
          ],
          "scattermapbox": [
           {
            "marker": {
             "colorbar": {
              "outlinewidth": 1,
              "tickcolor": "rgb(36,36,36)",
              "ticks": "outside"
             }
            },
            "type": "scattermapbox"
           }
          ],
          "scatterpolar": [
           {
            "marker": {
             "colorbar": {
              "outlinewidth": 1,
              "tickcolor": "rgb(36,36,36)",
              "ticks": "outside"
             }
            },
            "type": "scatterpolar"
           }
          ],
          "scatterpolargl": [
           {
            "marker": {
             "colorbar": {
              "outlinewidth": 1,
              "tickcolor": "rgb(36,36,36)",
              "ticks": "outside"
             }
            },
            "type": "scatterpolargl"
           }
          ],
          "scatterternary": [
           {
            "marker": {
             "colorbar": {
              "outlinewidth": 1,
              "tickcolor": "rgb(36,36,36)",
              "ticks": "outside"
             }
            },
            "type": "scatterternary"
           }
          ],
          "surface": [
           {
            "colorbar": {
             "outlinewidth": 1,
             "tickcolor": "rgb(36,36,36)",
             "ticks": "outside"
            },
            "colorscale": [
             [
              0,
              "#440154"
             ],
             [
              0.1111111111111111,
              "#482878"
             ],
             [
              0.2222222222222222,
              "#3e4989"
             ],
             [
              0.3333333333333333,
              "#31688e"
             ],
             [
              0.4444444444444444,
              "#26828e"
             ],
             [
              0.5555555555555556,
              "#1f9e89"
             ],
             [
              0.6666666666666666,
              "#35b779"
             ],
             [
              0.7777777777777778,
              "#6ece58"
             ],
             [
              0.8888888888888888,
              "#b5de2b"
             ],
             [
              1,
              "#fde725"
             ]
            ],
            "type": "surface"
           }
          ],
          "table": [
           {
            "cells": {
             "fill": {
              "color": "rgb(237,237,237)"
             },
             "line": {
              "color": "white"
             }
            },
            "header": {
             "fill": {
              "color": "rgb(217,217,217)"
             },
             "line": {
              "color": "white"
             }
            },
            "type": "table"
           }
          ]
         },
         "layout": {
          "annotationdefaults": {
           "arrowhead": 0,
           "arrowwidth": 1
          },
          "autotypenumbers": "strict",
          "coloraxis": {
           "colorbar": {
            "outlinewidth": 1,
            "tickcolor": "rgb(36,36,36)",
            "ticks": "outside"
           }
          },
          "colorscale": {
           "diverging": [
            [
             0,
             "rgb(103,0,31)"
            ],
            [
             0.1,
             "rgb(178,24,43)"
            ],
            [
             0.2,
             "rgb(214,96,77)"
            ],
            [
             0.3,
             "rgb(244,165,130)"
            ],
            [
             0.4,
             "rgb(253,219,199)"
            ],
            [
             0.5,
             "rgb(247,247,247)"
            ],
            [
             0.6,
             "rgb(209,229,240)"
            ],
            [
             0.7,
             "rgb(146,197,222)"
            ],
            [
             0.8,
             "rgb(67,147,195)"
            ],
            [
             0.9,
             "rgb(33,102,172)"
            ],
            [
             1,
             "rgb(5,48,97)"
            ]
           ],
           "sequential": [
            [
             0,
             "#440154"
            ],
            [
             0.1111111111111111,
             "#482878"
            ],
            [
             0.2222222222222222,
             "#3e4989"
            ],
            [
             0.3333333333333333,
             "#31688e"
            ],
            [
             0.4444444444444444,
             "#26828e"
            ],
            [
             0.5555555555555556,
             "#1f9e89"
            ],
            [
             0.6666666666666666,
             "#35b779"
            ],
            [
             0.7777777777777778,
             "#6ece58"
            ],
            [
             0.8888888888888888,
             "#b5de2b"
            ],
            [
             1,
             "#fde725"
            ]
           ],
           "sequentialminus": [
            [
             0,
             "#440154"
            ],
            [
             0.1111111111111111,
             "#482878"
            ],
            [
             0.2222222222222222,
             "#3e4989"
            ],
            [
             0.3333333333333333,
             "#31688e"
            ],
            [
             0.4444444444444444,
             "#26828e"
            ],
            [
             0.5555555555555556,
             "#1f9e89"
            ],
            [
             0.6666666666666666,
             "#35b779"
            ],
            [
             0.7777777777777778,
             "#6ece58"
            ],
            [
             0.8888888888888888,
             "#b5de2b"
            ],
            [
             1,
             "#fde725"
            ]
           ]
          },
          "colorway": [
           "#1F77B4",
           "#FF7F0E",
           "#2CA02C",
           "#D62728",
           "#9467BD",
           "#8C564B",
           "#E377C2",
           "#7F7F7F",
           "#BCBD22",
           "#17BECF"
          ],
          "font": {
           "color": "rgb(36,36,36)"
          },
          "geo": {
           "bgcolor": "white",
           "lakecolor": "white",
           "landcolor": "white",
           "showlakes": true,
           "showland": true,
           "subunitcolor": "white"
          },
          "hoverlabel": {
           "align": "left"
          },
          "hovermode": "closest",
          "mapbox": {
           "style": "light"
          },
          "paper_bgcolor": "white",
          "plot_bgcolor": "white",
          "polar": {
           "angularaxis": {
            "gridcolor": "rgb(232,232,232)",
            "linecolor": "rgb(36,36,36)",
            "showgrid": false,
            "showline": true,
            "ticks": "outside"
           },
           "bgcolor": "white",
           "radialaxis": {
            "gridcolor": "rgb(232,232,232)",
            "linecolor": "rgb(36,36,36)",
            "showgrid": false,
            "showline": true,
            "ticks": "outside"
           }
          },
          "scene": {
           "xaxis": {
            "backgroundcolor": "white",
            "gridcolor": "rgb(232,232,232)",
            "gridwidth": 2,
            "linecolor": "rgb(36,36,36)",
            "showbackground": true,
            "showgrid": false,
            "showline": true,
            "ticks": "outside",
            "zeroline": false,
            "zerolinecolor": "rgb(36,36,36)"
           },
           "yaxis": {
            "backgroundcolor": "white",
            "gridcolor": "rgb(232,232,232)",
            "gridwidth": 2,
            "linecolor": "rgb(36,36,36)",
            "showbackground": true,
            "showgrid": false,
            "showline": true,
            "ticks": "outside",
            "zeroline": false,
            "zerolinecolor": "rgb(36,36,36)"
           },
           "zaxis": {
            "backgroundcolor": "white",
            "gridcolor": "rgb(232,232,232)",
            "gridwidth": 2,
            "linecolor": "rgb(36,36,36)",
            "showbackground": true,
            "showgrid": false,
            "showline": true,
            "ticks": "outside",
            "zeroline": false,
            "zerolinecolor": "rgb(36,36,36)"
           }
          },
          "shapedefaults": {
           "fillcolor": "black",
           "line": {
            "width": 0
           },
           "opacity": 0.3
          },
          "ternary": {
           "aaxis": {
            "gridcolor": "rgb(232,232,232)",
            "linecolor": "rgb(36,36,36)",
            "showgrid": false,
            "showline": true,
            "ticks": "outside"
           },
           "baxis": {
            "gridcolor": "rgb(232,232,232)",
            "linecolor": "rgb(36,36,36)",
            "showgrid": false,
            "showline": true,
            "ticks": "outside"
           },
           "bgcolor": "white",
           "caxis": {
            "gridcolor": "rgb(232,232,232)",
            "linecolor": "rgb(36,36,36)",
            "showgrid": false,
            "showline": true,
            "ticks": "outside"
           }
          },
          "title": {
           "x": 0.05
          },
          "xaxis": {
           "automargin": true,
           "gridcolor": "rgb(232,232,232)",
           "linecolor": "rgb(36,36,36)",
           "showgrid": false,
           "showline": true,
           "ticks": "outside",
           "title": {
            "standoff": 15
           },
           "zeroline": false,
           "zerolinecolor": "rgb(36,36,36)"
          },
          "yaxis": {
           "automargin": true,
           "gridcolor": "rgb(232,232,232)",
           "linecolor": "rgb(36,36,36)",
           "showgrid": false,
           "showline": true,
           "ticks": "outside",
           "title": {
            "standoff": 15
           },
           "zeroline": false,
           "zerolinecolor": "rgb(36,36,36)"
          }
         }
        },
        "title": {
         "text": "Demographic Distributions"
        },
        "xaxis": {
         "anchor": "y",
         "domain": [
          0,
          0.45
         ]
        },
        "xaxis2": {
         "anchor": "y2",
         "domain": [
          0.55,
          1
         ]
        },
        "xaxis3": {
         "anchor": "y3",
         "domain": [
          0,
          0.45
         ]
        },
        "yaxis": {
         "anchor": "x",
         "domain": [
          0.625,
          1
         ]
        },
        "yaxis2": {
         "anchor": "x2",
         "domain": [
          0.625,
          1
         ]
        },
        "yaxis3": {
         "anchor": "x3",
         "domain": [
          0,
          0.375
         ]
        }
       }
      }
     },
     "metadata": {},
     "output_type": "display_data"
    }
   ],
   "source": [
    "\n",
    "\n",
    "# Lloyds Bank colour scheme\n",
    "lloyds_colors = ['#005A30', '#000000', '#B1B3B3', '#FFFFFF']\n",
    "\n",
    "# Create a 2x2 subplot layout; specify pie type in (2,2)\n",
    "fig = make_subplots(\n",
    "    rows=2, cols=2,\n",
    "    specs=[[{\"type\": \"xy\"}, {\"type\": \"xy\"}],\n",
    "           [{\"type\": \"xy\"}, {\"type\": \"domain\"}]],\n",
    "    subplot_titles=(\"Age Distribution\", \"Marital Status\", \"Income Level\", \"Churn Status\")\n",
    ")\n",
    "\n",
    "# Age distribution\n",
    "fig.add_trace(go.Histogram(x=df['Age'], marker_color=lloyds_colors[0]), row=1, col=1)\n",
    "\n",
    "# Marital status\n",
    "fig.add_trace(go.Bar(\n",
    "    x=df['MaritalStatus'].value_counts().index,\n",
    "    y=df['MaritalStatus'].value_counts().values,\n",
    "    marker_color=lloyds_colors[1]\n",
    "), row=1, col=2)\n",
    "\n",
    "# Income level\n",
    "fig.add_trace(go.Bar(\n",
    "    x=df['IncomeLevel'].value_counts().index,\n",
    "    y=df['IncomeLevel'].value_counts().values,\n",
    "    marker_color=lloyds_colors[2]\n",
    "), row=2, col=1)\n",
    "\n",
    "# Churn status (pie chart)\n",
    "fig.add_trace(go.Pie(\n",
    "    labels=df['Churn'].value_counts().index,\n",
    "    values=df['Churn'].value_counts().values,\n",
    "    marker=dict(colors=[lloyds_colors[0], lloyds_colors[1]])\n",
    "), row=2, col=2)\n",
    "\n",
    "# Update layout\n",
    "fig.update_layout(title_text=\"Demographic Distributions\", showlegend=False, template=\"simple_white\")\n",
    "fig.show()\n"
   ]
  },
  {
   "cell_type": "markdown",
   "id": "3acb2635",
   "metadata": {},
   "source": [
    "Insights:\n",
    "1. Majority of Customers belong to a more mature age group and are either married, divorced or widowed.\n",
    "2. More customers in the high income-band, but the distribution is not significantly different.\n",
    "3. Approximately 20% customers have historically churned.\n",
    "\n",
    "Note: Targetting the young demographic might increase customer base."
   ]
  },
  {
   "cell_type": "markdown",
   "id": "7efd202b",
   "metadata": {},
   "source": [
    "## Correlations Heatmap"
   ]
  },
  {
   "cell_type": "code",
   "execution_count": 15,
   "id": "dd7f45e5",
   "metadata": {},
   "outputs": [
    {
     "data": {
      "application/vnd.plotly.v1+json": {
       "config": {
        "plotlyServerURL": "https://plot.ly"
       },
       "data": [
        {
         "coloraxis": "coloraxis",
         "hovertemplate": "x: %{x}<br>y: %{y}<br>color: %{z}<extra></extra>",
         "name": "0",
         "texttemplate": "%{z}",
         "type": "heatmap",
         "x": [
          "Age",
          "TotalSpent",
          "NumTransactions",
          "NumInteractions",
          "UnresolvedCount",
          "LoginFrequency",
          "ChurnStatus"
         ],
         "xaxis": "x",
         "y": [
          "Age",
          "TotalSpent",
          "NumTransactions",
          "NumInteractions",
          "UnresolvedCount",
          "LoginFrequency",
          "ChurnStatus"
         ],
         "yaxis": "y",
         "z": {
          "bdata": "AAAAAAAA8D+BM+NHuWKGP3QddTv+v4E/p+y09Ym6k79WuyN6Fguhv/oy3FW9X5e/3Z/On9Ycnj+BM+NHuWKGPwAAAAAAAPA/YLFBfIO+7D/uwn6XHfi2P0F9bf29/LI/74t6klmbiD++5F76erJVP3QddTv+v4E/YLFBfIO+7D8AAAAAAADwPyDAW8hB3bA/wqZrssuPrD+Bn4XzHaSMv1W/VNz9m4G/p+y09Ym6k7/uwn6XHfi2PyDAW8hB3bA/AAAAAAAA8D8l6+CT3pbkPxkTxOZcmGS/X4xQsinUcz9WuyN6Fguhv0F9bf29/LI/wqZrssuPrD8l6+CT3pbkPwAAAAAAAPA/q4OG3cO6lz8cVdMe0AR1P/oy3FW9X5e/74t6klmbiD+Bn4XzHaSMvxkTxOZcmGS/q4OG3cO6lz8AAAAAAADwP5xt7SzA5LS/3Z/On9Ycnj++5F76erJVP1W/VNz9m4G/X4xQsinUcz8cVdMe0AR1P5xt7SzA5LS/AAAAAAAA8D8=",
          "dtype": "f8",
          "shape": "7, 7"
         }
        }
       ],
       "layout": {
        "coloraxis": {
         "colorscale": [
          [
           0,
           "#FFFFFF"
          ],
          [
           0.25,
           "#B1B3B3"
          ],
          [
           0.5,
           "#000000"
          ],
          [
           0.75,
           "#005A30"
          ],
          [
           1,
           "#005A30"
          ]
         ]
        },
        "font": {
         "size": 12
        },
        "height": 700,
        "margin": {
         "b": 50,
         "l": 50,
         "r": 50,
         "t": 70
        },
        "template": {
         "data": {
          "bar": [
           {
            "error_x": {
             "color": "rgb(36,36,36)"
            },
            "error_y": {
             "color": "rgb(36,36,36)"
            },
            "marker": {
             "line": {
              "color": "white",
              "width": 0.5
             },
             "pattern": {
              "fillmode": "overlay",
              "size": 10,
              "solidity": 0.2
             }
            },
            "type": "bar"
           }
          ],
          "barpolar": [
           {
            "marker": {
             "line": {
              "color": "white",
              "width": 0.5
             },
             "pattern": {
              "fillmode": "overlay",
              "size": 10,
              "solidity": 0.2
             }
            },
            "type": "barpolar"
           }
          ],
          "carpet": [
           {
            "aaxis": {
             "endlinecolor": "rgb(36,36,36)",
             "gridcolor": "white",
             "linecolor": "white",
             "minorgridcolor": "white",
             "startlinecolor": "rgb(36,36,36)"
            },
            "baxis": {
             "endlinecolor": "rgb(36,36,36)",
             "gridcolor": "white",
             "linecolor": "white",
             "minorgridcolor": "white",
             "startlinecolor": "rgb(36,36,36)"
            },
            "type": "carpet"
           }
          ],
          "choropleth": [
           {
            "colorbar": {
             "outlinewidth": 1,
             "tickcolor": "rgb(36,36,36)",
             "ticks": "outside"
            },
            "type": "choropleth"
           }
          ],
          "contour": [
           {
            "colorbar": {
             "outlinewidth": 1,
             "tickcolor": "rgb(36,36,36)",
             "ticks": "outside"
            },
            "colorscale": [
             [
              0,
              "#440154"
             ],
             [
              0.1111111111111111,
              "#482878"
             ],
             [
              0.2222222222222222,
              "#3e4989"
             ],
             [
              0.3333333333333333,
              "#31688e"
             ],
             [
              0.4444444444444444,
              "#26828e"
             ],
             [
              0.5555555555555556,
              "#1f9e89"
             ],
             [
              0.6666666666666666,
              "#35b779"
             ],
             [
              0.7777777777777778,
              "#6ece58"
             ],
             [
              0.8888888888888888,
              "#b5de2b"
             ],
             [
              1,
              "#fde725"
             ]
            ],
            "type": "contour"
           }
          ],
          "contourcarpet": [
           {
            "colorbar": {
             "outlinewidth": 1,
             "tickcolor": "rgb(36,36,36)",
             "ticks": "outside"
            },
            "type": "contourcarpet"
           }
          ],
          "heatmap": [
           {
            "colorbar": {
             "outlinewidth": 1,
             "tickcolor": "rgb(36,36,36)",
             "ticks": "outside"
            },
            "colorscale": [
             [
              0,
              "#440154"
             ],
             [
              0.1111111111111111,
              "#482878"
             ],
             [
              0.2222222222222222,
              "#3e4989"
             ],
             [
              0.3333333333333333,
              "#31688e"
             ],
             [
              0.4444444444444444,
              "#26828e"
             ],
             [
              0.5555555555555556,
              "#1f9e89"
             ],
             [
              0.6666666666666666,
              "#35b779"
             ],
             [
              0.7777777777777778,
              "#6ece58"
             ],
             [
              0.8888888888888888,
              "#b5de2b"
             ],
             [
              1,
              "#fde725"
             ]
            ],
            "type": "heatmap"
           }
          ],
          "histogram": [
           {
            "marker": {
             "line": {
              "color": "white",
              "width": 0.6
             }
            },
            "type": "histogram"
           }
          ],
          "histogram2d": [
           {
            "colorbar": {
             "outlinewidth": 1,
             "tickcolor": "rgb(36,36,36)",
             "ticks": "outside"
            },
            "colorscale": [
             [
              0,
              "#440154"
             ],
             [
              0.1111111111111111,
              "#482878"
             ],
             [
              0.2222222222222222,
              "#3e4989"
             ],
             [
              0.3333333333333333,
              "#31688e"
             ],
             [
              0.4444444444444444,
              "#26828e"
             ],
             [
              0.5555555555555556,
              "#1f9e89"
             ],
             [
              0.6666666666666666,
              "#35b779"
             ],
             [
              0.7777777777777778,
              "#6ece58"
             ],
             [
              0.8888888888888888,
              "#b5de2b"
             ],
             [
              1,
              "#fde725"
             ]
            ],
            "type": "histogram2d"
           }
          ],
          "histogram2dcontour": [
           {
            "colorbar": {
             "outlinewidth": 1,
             "tickcolor": "rgb(36,36,36)",
             "ticks": "outside"
            },
            "colorscale": [
             [
              0,
              "#440154"
             ],
             [
              0.1111111111111111,
              "#482878"
             ],
             [
              0.2222222222222222,
              "#3e4989"
             ],
             [
              0.3333333333333333,
              "#31688e"
             ],
             [
              0.4444444444444444,
              "#26828e"
             ],
             [
              0.5555555555555556,
              "#1f9e89"
             ],
             [
              0.6666666666666666,
              "#35b779"
             ],
             [
              0.7777777777777778,
              "#6ece58"
             ],
             [
              0.8888888888888888,
              "#b5de2b"
             ],
             [
              1,
              "#fde725"
             ]
            ],
            "type": "histogram2dcontour"
           }
          ],
          "mesh3d": [
           {
            "colorbar": {
             "outlinewidth": 1,
             "tickcolor": "rgb(36,36,36)",
             "ticks": "outside"
            },
            "type": "mesh3d"
           }
          ],
          "parcoords": [
           {
            "line": {
             "colorbar": {
              "outlinewidth": 1,
              "tickcolor": "rgb(36,36,36)",
              "ticks": "outside"
             }
            },
            "type": "parcoords"
           }
          ],
          "pie": [
           {
            "automargin": true,
            "type": "pie"
           }
          ],
          "scatter": [
           {
            "fillpattern": {
             "fillmode": "overlay",
             "size": 10,
             "solidity": 0.2
            },
            "type": "scatter"
           }
          ],
          "scatter3d": [
           {
            "line": {
             "colorbar": {
              "outlinewidth": 1,
              "tickcolor": "rgb(36,36,36)",
              "ticks": "outside"
             }
            },
            "marker": {
             "colorbar": {
              "outlinewidth": 1,
              "tickcolor": "rgb(36,36,36)",
              "ticks": "outside"
             }
            },
            "type": "scatter3d"
           }
          ],
          "scattercarpet": [
           {
            "marker": {
             "colorbar": {
              "outlinewidth": 1,
              "tickcolor": "rgb(36,36,36)",
              "ticks": "outside"
             }
            },
            "type": "scattercarpet"
           }
          ],
          "scattergeo": [
           {
            "marker": {
             "colorbar": {
              "outlinewidth": 1,
              "tickcolor": "rgb(36,36,36)",
              "ticks": "outside"
             }
            },
            "type": "scattergeo"
           }
          ],
          "scattergl": [
           {
            "marker": {
             "colorbar": {
              "outlinewidth": 1,
              "tickcolor": "rgb(36,36,36)",
              "ticks": "outside"
             }
            },
            "type": "scattergl"
           }
          ],
          "scattermap": [
           {
            "marker": {
             "colorbar": {
              "outlinewidth": 1,
              "tickcolor": "rgb(36,36,36)",
              "ticks": "outside"
             }
            },
            "type": "scattermap"
           }
          ],
          "scattermapbox": [
           {
            "marker": {
             "colorbar": {
              "outlinewidth": 1,
              "tickcolor": "rgb(36,36,36)",
              "ticks": "outside"
             }
            },
            "type": "scattermapbox"
           }
          ],
          "scatterpolar": [
           {
            "marker": {
             "colorbar": {
              "outlinewidth": 1,
              "tickcolor": "rgb(36,36,36)",
              "ticks": "outside"
             }
            },
            "type": "scatterpolar"
           }
          ],
          "scatterpolargl": [
           {
            "marker": {
             "colorbar": {
              "outlinewidth": 1,
              "tickcolor": "rgb(36,36,36)",
              "ticks": "outside"
             }
            },
            "type": "scatterpolargl"
           }
          ],
          "scatterternary": [
           {
            "marker": {
             "colorbar": {
              "outlinewidth": 1,
              "tickcolor": "rgb(36,36,36)",
              "ticks": "outside"
             }
            },
            "type": "scatterternary"
           }
          ],
          "surface": [
           {
            "colorbar": {
             "outlinewidth": 1,
             "tickcolor": "rgb(36,36,36)",
             "ticks": "outside"
            },
            "colorscale": [
             [
              0,
              "#440154"
             ],
             [
              0.1111111111111111,
              "#482878"
             ],
             [
              0.2222222222222222,
              "#3e4989"
             ],
             [
              0.3333333333333333,
              "#31688e"
             ],
             [
              0.4444444444444444,
              "#26828e"
             ],
             [
              0.5555555555555556,
              "#1f9e89"
             ],
             [
              0.6666666666666666,
              "#35b779"
             ],
             [
              0.7777777777777778,
              "#6ece58"
             ],
             [
              0.8888888888888888,
              "#b5de2b"
             ],
             [
              1,
              "#fde725"
             ]
            ],
            "type": "surface"
           }
          ],
          "table": [
           {
            "cells": {
             "fill": {
              "color": "rgb(237,237,237)"
             },
             "line": {
              "color": "white"
             }
            },
            "header": {
             "fill": {
              "color": "rgb(217,217,217)"
             },
             "line": {
              "color": "white"
             }
            },
            "type": "table"
           }
          ]
         },
         "layout": {
          "annotationdefaults": {
           "arrowhead": 0,
           "arrowwidth": 1
          },
          "autotypenumbers": "strict",
          "coloraxis": {
           "colorbar": {
            "outlinewidth": 1,
            "tickcolor": "rgb(36,36,36)",
            "ticks": "outside"
           }
          },
          "colorscale": {
           "diverging": [
            [
             0,
             "rgb(103,0,31)"
            ],
            [
             0.1,
             "rgb(178,24,43)"
            ],
            [
             0.2,
             "rgb(214,96,77)"
            ],
            [
             0.3,
             "rgb(244,165,130)"
            ],
            [
             0.4,
             "rgb(253,219,199)"
            ],
            [
             0.5,
             "rgb(247,247,247)"
            ],
            [
             0.6,
             "rgb(209,229,240)"
            ],
            [
             0.7,
             "rgb(146,197,222)"
            ],
            [
             0.8,
             "rgb(67,147,195)"
            ],
            [
             0.9,
             "rgb(33,102,172)"
            ],
            [
             1,
             "rgb(5,48,97)"
            ]
           ],
           "sequential": [
            [
             0,
             "#440154"
            ],
            [
             0.1111111111111111,
             "#482878"
            ],
            [
             0.2222222222222222,
             "#3e4989"
            ],
            [
             0.3333333333333333,
             "#31688e"
            ],
            [
             0.4444444444444444,
             "#26828e"
            ],
            [
             0.5555555555555556,
             "#1f9e89"
            ],
            [
             0.6666666666666666,
             "#35b779"
            ],
            [
             0.7777777777777778,
             "#6ece58"
            ],
            [
             0.8888888888888888,
             "#b5de2b"
            ],
            [
             1,
             "#fde725"
            ]
           ],
           "sequentialminus": [
            [
             0,
             "#440154"
            ],
            [
             0.1111111111111111,
             "#482878"
            ],
            [
             0.2222222222222222,
             "#3e4989"
            ],
            [
             0.3333333333333333,
             "#31688e"
            ],
            [
             0.4444444444444444,
             "#26828e"
            ],
            [
             0.5555555555555556,
             "#1f9e89"
            ],
            [
             0.6666666666666666,
             "#35b779"
            ],
            [
             0.7777777777777778,
             "#6ece58"
            ],
            [
             0.8888888888888888,
             "#b5de2b"
            ],
            [
             1,
             "#fde725"
            ]
           ]
          },
          "colorway": [
           "#1F77B4",
           "#FF7F0E",
           "#2CA02C",
           "#D62728",
           "#9467BD",
           "#8C564B",
           "#E377C2",
           "#7F7F7F",
           "#BCBD22",
           "#17BECF"
          ],
          "font": {
           "color": "rgb(36,36,36)"
          },
          "geo": {
           "bgcolor": "white",
           "lakecolor": "white",
           "landcolor": "white",
           "showlakes": true,
           "showland": true,
           "subunitcolor": "white"
          },
          "hoverlabel": {
           "align": "left"
          },
          "hovermode": "closest",
          "mapbox": {
           "style": "light"
          },
          "paper_bgcolor": "white",
          "plot_bgcolor": "white",
          "polar": {
           "angularaxis": {
            "gridcolor": "rgb(232,232,232)",
            "linecolor": "rgb(36,36,36)",
            "showgrid": false,
            "showline": true,
            "ticks": "outside"
           },
           "bgcolor": "white",
           "radialaxis": {
            "gridcolor": "rgb(232,232,232)",
            "linecolor": "rgb(36,36,36)",
            "showgrid": false,
            "showline": true,
            "ticks": "outside"
           }
          },
          "scene": {
           "xaxis": {
            "backgroundcolor": "white",
            "gridcolor": "rgb(232,232,232)",
            "gridwidth": 2,
            "linecolor": "rgb(36,36,36)",
            "showbackground": true,
            "showgrid": false,
            "showline": true,
            "ticks": "outside",
            "zeroline": false,
            "zerolinecolor": "rgb(36,36,36)"
           },
           "yaxis": {
            "backgroundcolor": "white",
            "gridcolor": "rgb(232,232,232)",
            "gridwidth": 2,
            "linecolor": "rgb(36,36,36)",
            "showbackground": true,
            "showgrid": false,
            "showline": true,
            "ticks": "outside",
            "zeroline": false,
            "zerolinecolor": "rgb(36,36,36)"
           },
           "zaxis": {
            "backgroundcolor": "white",
            "gridcolor": "rgb(232,232,232)",
            "gridwidth": 2,
            "linecolor": "rgb(36,36,36)",
            "showbackground": true,
            "showgrid": false,
            "showline": true,
            "ticks": "outside",
            "zeroline": false,
            "zerolinecolor": "rgb(36,36,36)"
           }
          },
          "shapedefaults": {
           "fillcolor": "black",
           "line": {
            "width": 0
           },
           "opacity": 0.3
          },
          "ternary": {
           "aaxis": {
            "gridcolor": "rgb(232,232,232)",
            "linecolor": "rgb(36,36,36)",
            "showgrid": false,
            "showline": true,
            "ticks": "outside"
           },
           "baxis": {
            "gridcolor": "rgb(232,232,232)",
            "linecolor": "rgb(36,36,36)",
            "showgrid": false,
            "showline": true,
            "ticks": "outside"
           },
           "bgcolor": "white",
           "caxis": {
            "gridcolor": "rgb(232,232,232)",
            "linecolor": "rgb(36,36,36)",
            "showgrid": false,
            "showline": true,
            "ticks": "outside"
           }
          },
          "title": {
           "x": 0.05
          },
          "xaxis": {
           "automargin": true,
           "gridcolor": "rgb(232,232,232)",
           "linecolor": "rgb(36,36,36)",
           "showgrid": false,
           "showline": true,
           "ticks": "outside",
           "title": {
            "standoff": 15
           },
           "zeroline": false,
           "zerolinecolor": "rgb(36,36,36)"
          },
          "yaxis": {
           "automargin": true,
           "gridcolor": "rgb(232,232,232)",
           "linecolor": "rgb(36,36,36)",
           "showgrid": false,
           "showline": true,
           "ticks": "outside",
           "title": {
            "standoff": 15
           },
           "zeroline": false,
           "zerolinecolor": "rgb(36,36,36)"
          }
         }
        },
        "title": {
         "text": "Correlation Heatmap"
        },
        "width": 900,
        "xaxis": {
         "anchor": "y",
         "domain": [
          0,
          1
         ],
         "tickangle": 45
        },
        "yaxis": {
         "anchor": "x",
         "autorange": "reversed",
         "domain": [
          0,
          1
         ]
        }
       }
      }
     },
     "metadata": {},
     "output_type": "display_data"
    }
   ],
   "source": [
    "\n",
    "\n",
    "# Select only numeric columns for correlation\n",
    "numeric_df = df.select_dtypes(include=[np.number])\n",
    "correlation_matrix = numeric_df.corr()\n",
    "\n",
    "# Lloyds-inspired custom color scale\n",
    "lloyds_colorscale = [\n",
    "    [0.0, \"#FFFFFF\"],\n",
    "    [0.25, \"#B1B3B3\"],\n",
    "    [0.5, \"#000000\"],\n",
    "    [0.75, \"#005A30\"],\n",
    "    [1.0, \"#005A30\"]\n",
    "]\n",
    "\n",
    "# Plot heatmap with improved layout\n",
    "fig = px.imshow(\n",
    "    correlation_matrix,\n",
    "    text_auto=True,\n",
    "    color_continuous_scale=lloyds_colorscale,\n",
    "    title=\"Correlation Heatmap\",\n",
    "    aspect=\"auto\"\n",
    ")\n",
    "\n",
    "# Update layout for readability\n",
    "fig.update_layout(\n",
    "    template=\"simple_white\",\n",
    "    width=900,\n",
    "    height=700,\n",
    "    font=dict(size=12),\n",
    "    margin=dict(l=50, r=50, t=70, b=50)\n",
    ")\n",
    "fig.update_xaxes(tickangle=45)\n",
    "fig.show()\n"
   ]
  },
  {
   "cell_type": "markdown",
   "id": "0021843b",
   "metadata": {},
   "source": [
    "1. Low log-in frequency seem to be correlated to customers churning.\n",
    "2. Customers with higher transactions seem to have higher number of interactions with the support.\n",
    "\n",
    "Note: Make remote services more user-friendly?\n"
   ]
  },
  {
   "cell_type": "code",
   "execution_count": 16,
   "id": "f76e6f32",
   "metadata": {},
   "outputs": [
    {
     "data": {
      "application/vnd.plotly.v1+json": {
       "config": {
        "plotlyServerURL": "https://plot.ly"
       },
       "data": [
        {
         "line": {
          "color": "#005A30"
         },
         "mode": "lines",
         "name": "Age",
         "showlegend": false,
         "type": "scatter",
         "x": {
          "bdata": "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",
          "dtype": "f8"
         },
         "xaxis": "x",
         "y": {
          "bdata": "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",
          "dtype": "f8"
         },
         "yaxis": "y"
        },
        {
         "line": {
          "color": "#000000"
         },
         "mode": "lines",
         "name": "TotalSpent",
         "showlegend": false,
         "type": "scatter",
         "x": {
          "bdata": "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",
          "dtype": "f8"
         },
         "xaxis": "x2",
         "y": {
          "bdata": "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",
          "dtype": "f8"
         },
         "yaxis": "y2"
        },
        {
         "line": {
          "color": "#B1B3B3"
         },
         "mode": "lines",
         "name": "NumTransactions",
         "showlegend": false,
         "type": "scatter",
         "x": {
          "bdata": "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",
          "dtype": "f8"
         },
         "xaxis": "x3",
         "y": {
          "bdata": "XganThmTtz9oaOlWsRG4Pzee8buChrg/YSvv+JjxuD+zlU34GVO5P6MVNK5Dq7k/I2FoTWn6uT8ALMow8EC6P+aEHZVMf7o/13EwP/61uj8XeZQpjeW6PxIdNlOGDrs/uIQvxXgxuz9i0XHi8k67P3B8fQ+AZ7s/EK2Yu6Z7uz/YQALQ5ou7P4LVyYS4mLs/X512louiuz9VIrjTxqm7P0/+LPfHrrs/nGL/vuOxuz/gz8QyZrO7PxZcvQeTs7s/yKo4FKayuz9DF3bE07C7Py28qIVJrrs/H0uyHi6ruz9TlXTxoae7PybiDyO/o7s/SBfJrJmfuz/9GW5aP5u7P1nArb23lrs/3TXRHwSSuz9irXd8H427P6ZqUJD+h7s/dkZOBpCCuz9ZKHzMvHy7P1uTipdodrs/tnaFmXJvuz9wJgtttme7P/MSDDMNX7s/hLzE3U5Vuz9mgH6gU0q7PyA643j1Pbs/1qh/xBEwuz9LtpTTiiC7P0EfqGlJD7s/tWJtHD78uj9ek56CYue6P2T9Iia60Lo/MCFVL1O4uj/fdTXCRp66P1Hqrgm5gro/fRWU8Nhluj+pfXSL30e6P9zZpjkPKbo/y6y5hrIJuj8tBsHXGuq5P7jEkfGeyrk/5aHWZZmruT87RgT1Zo25P9BPjvJkcLk/98xxt+9UuT8T/U4tYTu5P6aaCHoPJLk/RiBd0UsPuT9gZltvYf24Pzp+HLyU7rg/VZn6liLjuD9Wd7PFP9u4PxDzn4IY17g/R+F6JNDWuD8QxB3agNq4P9/CHHU74rg/Kj00PwfuuD9LgO/X4f24P2Y9rxm/Ebk/G94XB4kpuT+LU8nDH0W5PywM6ZxZZLk/eFZUJwOHuT98YSR636y5PxpJbIyo1bk/2Je2vA8Buj8rEL+Hvi66P0HvP3JXXro/SVd7J3ePuj9zopDLtcG6PwQ10X2o9Lo/Ey9WBOMnuz9/40CX+Vq7Pzvog7+Cjbs/C9j/Ohm/uz9VNU3WXe+7P7hW2yv5Hbw/ANAuOJ1KvD9HHgi0BnW8P+mbDyf+nLw/YAg7qFjCvD+vKFxE+OS8P5wz/QbMBL0/MPyspc8hvT+EwerRCjy9P0HxxjmQU70/6SjTQnxovT/6cu2N83q9P4xVplQhi70//YdWsjWZvT+4v1zrY6W9P3THaMTgr70/0+43+uC4vT9zQc/nl8C9P5SCNWY2x70/aBsg7enMvT9vCin429G9P6ouM7Ax1r0/EUrZ1AvavT/+2Fveht29Pwe/rE274L0/7kEfHr7jvT/QQQRLoea9Py7+JVt06b0/Plmt5ETsvT9z+m79Hu+9P1Im1o0N8r0/7UZ2fxr1vT9mYYrDTvi9PwYTHDGy+70/B8j3PUv/vT9wQcCYHgO+P+0UK60uB74/M4KEHXsLvj/VK+g9ABC+P131Dp62FL4/w2EgrpIZvj/Pp6WJhB6+P9JaovF3I74/lgMUfFQovj+lDNv7/Sy+P1SZiCBVMb4/DC/3STg1vj9XiymIhDi+PzKQ47wWO74/jw3+0cw8vj/XHcD1hj2+P0hjrM0oPb4/FNA8kJo7vj+cq/32yTi+PzA0SvyqNL4/7Ql/Wjgvvj9aUKHFcyi+P9m3C9xlIL4/nLx1zh0Xvj/Te2LDsAy+P9+Mev04Ab4/LP5Rz9T0vT8qS3Nppee9PzExF5HN2b0/W0ihTnDLvT+U+cGir7y9PzlpBlCrrb0/LIi6xH+evT9ORHIuRY+9Px22gL0OgL0/IklLG+pwvT+6s/sS32G9P7n0z2jvUr0/4E5i2RZEvT8TlO03SzW9P75w86B8Jr0/vBDftZUXvT8ep1TWewi9P5gV1kwP+bw/dokvZivpvD/9yJ9tpti8P5rgvopRx7w/UIOQgfi0vD/FSL1YYaG8P+UGY+1LjLw/LXINf3F1vD/0xf1AhFy8P3CRwv8uQbw/v6Ua6xQjvD8Esh6U0QG8P0Eyqi753Ls/Llb6Ihm0uz/1SYz5uIa7P7ytjKdbVLs/ms3VPYEcuz8a37/3qN66PzWaI6JTmro/3FMkTgZPuj+ASOM+Tfy5P6QdXv2+obk/97Kjev8+uT/BN2cmw9O4P3Pv6N7RX7g/jHU/nwnjtz+EWEbSYF23Pw==",
          "dtype": "f8"
         },
         "yaxis": "y3"
        },
        {
         "line": {
          "color": "#00703C"
         },
         "mode": "lines",
         "name": "NumInteractions",
         "showlegend": false,
         "type": "scatter",
         "x": {
          "bdata": "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",
          "dtype": "f8"
         },
         "xaxis": "x4",
         "y": {
          "bdata": "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",
          "dtype": "f8"
         },
         "yaxis": "y4"
        },
        {
         "line": {
          "color": "#004225"
         },
         "mode": "lines",
         "name": "UnresolvedCount",
         "showlegend": false,
         "type": "scatter",
         "x": {
          "bdata": "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",
          "dtype": "f8"
         },
         "xaxis": "x5",
         "y": {
          "bdata": "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",
          "dtype": "f8"
         },
         "yaxis": "y5"
        },
        {
         "line": {
          "color": "#666666"
         },
         "mode": "lines",
         "name": "LoginFrequency",
         "showlegend": false,
         "type": "scatter",
         "x": {
          "bdata": "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",
          "dtype": "f8"
         },
         "xaxis": "x6",
         "y": {
          "bdata": "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",
          "dtype": "f8"
         },
         "yaxis": "y6"
        },
        {
         "line": {
          "color": "#003E2F"
         },
         "mode": "lines",
         "name": "ChurnStatus",
         "showlegend": false,
         "type": "scatter",
         "x": {
          "bdata": "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",
          "dtype": "f8"
         },
         "xaxis": "x7",
         "y": {
          "bdata": "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",
          "dtype": "f8"
         },
         "yaxis": "y7"
        }
       ],
       "layout": {
        "annotations": [
         {
          "font": {
           "size": 16
          },
          "showarrow": false,
          "text": "Age",
          "x": 0.14444444444444446,
          "xanchor": "center",
          "xref": "paper",
          "y": 1,
          "yanchor": "bottom",
          "yref": "paper"
         },
         {
          "font": {
           "size": 16
          },
          "showarrow": false,
          "text": "TotalSpent",
          "x": 0.5,
          "xanchor": "center",
          "xref": "paper",
          "y": 1,
          "yanchor": "bottom",
          "yref": "paper"
         },
         {
          "font": {
           "size": 16
          },
          "showarrow": false,
          "text": "NumTransactions",
          "x": 0.8555555555555556,
          "xanchor": "center",
          "xref": "paper",
          "y": 1,
          "yanchor": "bottom",
          "yref": "paper"
         },
         {
          "font": {
           "size": 16
          },
          "showarrow": false,
          "text": "NumInteractions",
          "x": 0.14444444444444446,
          "xanchor": "center",
          "xref": "paper",
          "y": 0.6111111111111112,
          "yanchor": "bottom",
          "yref": "paper"
         },
         {
          "font": {
           "size": 16
          },
          "showarrow": false,
          "text": "UnresolvedCount",
          "x": 0.5,
          "xanchor": "center",
          "xref": "paper",
          "y": 0.6111111111111112,
          "yanchor": "bottom",
          "yref": "paper"
         },
         {
          "font": {
           "size": 16
          },
          "showarrow": false,
          "text": "LoginFrequency",
          "x": 0.8555555555555556,
          "xanchor": "center",
          "xref": "paper",
          "y": 0.6111111111111112,
          "yanchor": "bottom",
          "yref": "paper"
         },
         {
          "font": {
           "size": 16
          },
          "showarrow": false,
          "text": "ChurnStatus",
          "x": 0.14444444444444446,
          "xanchor": "center",
          "xref": "paper",
          "y": 0.22222222222222224,
          "yanchor": "bottom",
          "yref": "paper"
         }
        ],
        "height": 750,
        "margin": {
         "t": 60
        },
        "template": {
         "data": {
          "bar": [
           {
            "error_x": {
             "color": "rgb(36,36,36)"
            },
            "error_y": {
             "color": "rgb(36,36,36)"
            },
            "marker": {
             "line": {
              "color": "white",
              "width": 0.5
             },
             "pattern": {
              "fillmode": "overlay",
              "size": 10,
              "solidity": 0.2
             }
            },
            "type": "bar"
           }
          ],
          "barpolar": [
           {
            "marker": {
             "line": {
              "color": "white",
              "width": 0.5
             },
             "pattern": {
              "fillmode": "overlay",
              "size": 10,
              "solidity": 0.2
             }
            },
            "type": "barpolar"
           }
          ],
          "carpet": [
           {
            "aaxis": {
             "endlinecolor": "rgb(36,36,36)",
             "gridcolor": "white",
             "linecolor": "white",
             "minorgridcolor": "white",
             "startlinecolor": "rgb(36,36,36)"
            },
            "baxis": {
             "endlinecolor": "rgb(36,36,36)",
             "gridcolor": "white",
             "linecolor": "white",
             "minorgridcolor": "white",
             "startlinecolor": "rgb(36,36,36)"
            },
            "type": "carpet"
           }
          ],
          "choropleth": [
           {
            "colorbar": {
             "outlinewidth": 1,
             "tickcolor": "rgb(36,36,36)",
             "ticks": "outside"
            },
            "type": "choropleth"
           }
          ],
          "contour": [
           {
            "colorbar": {
             "outlinewidth": 1,
             "tickcolor": "rgb(36,36,36)",
             "ticks": "outside"
            },
            "colorscale": [
             [
              0,
              "#440154"
             ],
             [
              0.1111111111111111,
              "#482878"
             ],
             [
              0.2222222222222222,
              "#3e4989"
             ],
             [
              0.3333333333333333,
              "#31688e"
             ],
             [
              0.4444444444444444,
              "#26828e"
             ],
             [
              0.5555555555555556,
              "#1f9e89"
             ],
             [
              0.6666666666666666,
              "#35b779"
             ],
             [
              0.7777777777777778,
              "#6ece58"
             ],
             [
              0.8888888888888888,
              "#b5de2b"
             ],
             [
              1,
              "#fde725"
             ]
            ],
            "type": "contour"
           }
          ],
          "contourcarpet": [
           {
            "colorbar": {
             "outlinewidth": 1,
             "tickcolor": "rgb(36,36,36)",
             "ticks": "outside"
            },
            "type": "contourcarpet"
           }
          ],
          "heatmap": [
           {
            "colorbar": {
             "outlinewidth": 1,
             "tickcolor": "rgb(36,36,36)",
             "ticks": "outside"
            },
            "colorscale": [
             [
              0,
              "#440154"
             ],
             [
              0.1111111111111111,
              "#482878"
             ],
             [
              0.2222222222222222,
              "#3e4989"
             ],
             [
              0.3333333333333333,
              "#31688e"
             ],
             [
              0.4444444444444444,
              "#26828e"
             ],
             [
              0.5555555555555556,
              "#1f9e89"
             ],
             [
              0.6666666666666666,
              "#35b779"
             ],
             [
              0.7777777777777778,
              "#6ece58"
             ],
             [
              0.8888888888888888,
              "#b5de2b"
             ],
             [
              1,
              "#fde725"
             ]
            ],
            "type": "heatmap"
           }
          ],
          "histogram": [
           {
            "marker": {
             "line": {
              "color": "white",
              "width": 0.6
             }
            },
            "type": "histogram"
           }
          ],
          "histogram2d": [
           {
            "colorbar": {
             "outlinewidth": 1,
             "tickcolor": "rgb(36,36,36)",
             "ticks": "outside"
            },
            "colorscale": [
             [
              0,
              "#440154"
             ],
             [
              0.1111111111111111,
              "#482878"
             ],
             [
              0.2222222222222222,
              "#3e4989"
             ],
             [
              0.3333333333333333,
              "#31688e"
             ],
             [
              0.4444444444444444,
              "#26828e"
             ],
             [
              0.5555555555555556,
              "#1f9e89"
             ],
             [
              0.6666666666666666,
              "#35b779"
             ],
             [
              0.7777777777777778,
              "#6ece58"
             ],
             [
              0.8888888888888888,
              "#b5de2b"
             ],
             [
              1,
              "#fde725"
             ]
            ],
            "type": "histogram2d"
           }
          ],
          "histogram2dcontour": [
           {
            "colorbar": {
             "outlinewidth": 1,
             "tickcolor": "rgb(36,36,36)",
             "ticks": "outside"
            },
            "colorscale": [
             [
              0,
              "#440154"
             ],
             [
              0.1111111111111111,
              "#482878"
             ],
             [
              0.2222222222222222,
              "#3e4989"
             ],
             [
              0.3333333333333333,
              "#31688e"
             ],
             [
              0.4444444444444444,
              "#26828e"
             ],
             [
              0.5555555555555556,
              "#1f9e89"
             ],
             [
              0.6666666666666666,
              "#35b779"
             ],
             [
              0.7777777777777778,
              "#6ece58"
             ],
             [
              0.8888888888888888,
              "#b5de2b"
             ],
             [
              1,
              "#fde725"
             ]
            ],
            "type": "histogram2dcontour"
           }
          ],
          "mesh3d": [
           {
            "colorbar": {
             "outlinewidth": 1,
             "tickcolor": "rgb(36,36,36)",
             "ticks": "outside"
            },
            "type": "mesh3d"
           }
          ],
          "parcoords": [
           {
            "line": {
             "colorbar": {
              "outlinewidth": 1,
              "tickcolor": "rgb(36,36,36)",
              "ticks": "outside"
             }
            },
            "type": "parcoords"
           }
          ],
          "pie": [
           {
            "automargin": true,
            "type": "pie"
           }
          ],
          "scatter": [
           {
            "fillpattern": {
             "fillmode": "overlay",
             "size": 10,
             "solidity": 0.2
            },
            "type": "scatter"
           }
          ],
          "scatter3d": [
           {
            "line": {
             "colorbar": {
              "outlinewidth": 1,
              "tickcolor": "rgb(36,36,36)",
              "ticks": "outside"
             }
            },
            "marker": {
             "colorbar": {
              "outlinewidth": 1,
              "tickcolor": "rgb(36,36,36)",
              "ticks": "outside"
             }
            },
            "type": "scatter3d"
           }
          ],
          "scattercarpet": [
           {
            "marker": {
             "colorbar": {
              "outlinewidth": 1,
              "tickcolor": "rgb(36,36,36)",
              "ticks": "outside"
             }
            },
            "type": "scattercarpet"
           }
          ],
          "scattergeo": [
           {
            "marker": {
             "colorbar": {
              "outlinewidth": 1,
              "tickcolor": "rgb(36,36,36)",
              "ticks": "outside"
             }
            },
            "type": "scattergeo"
           }
          ],
          "scattergl": [
           {
            "marker": {
             "colorbar": {
              "outlinewidth": 1,
              "tickcolor": "rgb(36,36,36)",
              "ticks": "outside"
             }
            },
            "type": "scattergl"
           }
          ],
          "scattermap": [
           {
            "marker": {
             "colorbar": {
              "outlinewidth": 1,
              "tickcolor": "rgb(36,36,36)",
              "ticks": "outside"
             }
            },
            "type": "scattermap"
           }
          ],
          "scattermapbox": [
           {
            "marker": {
             "colorbar": {
              "outlinewidth": 1,
              "tickcolor": "rgb(36,36,36)",
              "ticks": "outside"
             }
            },
            "type": "scattermapbox"
           }
          ],
          "scatterpolar": [
           {
            "marker": {
             "colorbar": {
              "outlinewidth": 1,
              "tickcolor": "rgb(36,36,36)",
              "ticks": "outside"
             }
            },
            "type": "scatterpolar"
           }
          ],
          "scatterpolargl": [
           {
            "marker": {
             "colorbar": {
              "outlinewidth": 1,
              "tickcolor": "rgb(36,36,36)",
              "ticks": "outside"
             }
            },
            "type": "scatterpolargl"
           }
          ],
          "scatterternary": [
           {
            "marker": {
             "colorbar": {
              "outlinewidth": 1,
              "tickcolor": "rgb(36,36,36)",
              "ticks": "outside"
             }
            },
            "type": "scatterternary"
           }
          ],
          "surface": [
           {
            "colorbar": {
             "outlinewidth": 1,
             "tickcolor": "rgb(36,36,36)",
             "ticks": "outside"
            },
            "colorscale": [
             [
              0,
              "#440154"
             ],
             [
              0.1111111111111111,
              "#482878"
             ],
             [
              0.2222222222222222,
              "#3e4989"
             ],
             [
              0.3333333333333333,
              "#31688e"
             ],
             [
              0.4444444444444444,
              "#26828e"
             ],
             [
              0.5555555555555556,
              "#1f9e89"
             ],
             [
              0.6666666666666666,
              "#35b779"
             ],
             [
              0.7777777777777778,
              "#6ece58"
             ],
             [
              0.8888888888888888,
              "#b5de2b"
             ],
             [
              1,
              "#fde725"
             ]
            ],
            "type": "surface"
           }
          ],
          "table": [
           {
            "cells": {
             "fill": {
              "color": "rgb(237,237,237)"
             },
             "line": {
              "color": "white"
             }
            },
            "header": {
             "fill": {
              "color": "rgb(217,217,217)"
             },
             "line": {
              "color": "white"
             }
            },
            "type": "table"
           }
          ]
         },
         "layout": {
          "annotationdefaults": {
           "arrowhead": 0,
           "arrowwidth": 1
          },
          "autotypenumbers": "strict",
          "coloraxis": {
           "colorbar": {
            "outlinewidth": 1,
            "tickcolor": "rgb(36,36,36)",
            "ticks": "outside"
           }
          },
          "colorscale": {
           "diverging": [
            [
             0,
             "rgb(103,0,31)"
            ],
            [
             0.1,
             "rgb(178,24,43)"
            ],
            [
             0.2,
             "rgb(214,96,77)"
            ],
            [
             0.3,
             "rgb(244,165,130)"
            ],
            [
             0.4,
             "rgb(253,219,199)"
            ],
            [
             0.5,
             "rgb(247,247,247)"
            ],
            [
             0.6,
             "rgb(209,229,240)"
            ],
            [
             0.7,
             "rgb(146,197,222)"
            ],
            [
             0.8,
             "rgb(67,147,195)"
            ],
            [
             0.9,
             "rgb(33,102,172)"
            ],
            [
             1,
             "rgb(5,48,97)"
            ]
           ],
           "sequential": [
            [
             0,
             "#440154"
            ],
            [
             0.1111111111111111,
             "#482878"
            ],
            [
             0.2222222222222222,
             "#3e4989"
            ],
            [
             0.3333333333333333,
             "#31688e"
            ],
            [
             0.4444444444444444,
             "#26828e"
            ],
            [
             0.5555555555555556,
             "#1f9e89"
            ],
            [
             0.6666666666666666,
             "#35b779"
            ],
            [
             0.7777777777777778,
             "#6ece58"
            ],
            [
             0.8888888888888888,
             "#b5de2b"
            ],
            [
             1,
             "#fde725"
            ]
           ],
           "sequentialminus": [
            [
             0,
             "#440154"
            ],
            [
             0.1111111111111111,
             "#482878"
            ],
            [
             0.2222222222222222,
             "#3e4989"
            ],
            [
             0.3333333333333333,
             "#31688e"
            ],
            [
             0.4444444444444444,
             "#26828e"
            ],
            [
             0.5555555555555556,
             "#1f9e89"
            ],
            [
             0.6666666666666666,
             "#35b779"
            ],
            [
             0.7777777777777778,
             "#6ece58"
            ],
            [
             0.8888888888888888,
             "#b5de2b"
            ],
            [
             1,
             "#fde725"
            ]
           ]
          },
          "colorway": [
           "#1F77B4",
           "#FF7F0E",
           "#2CA02C",
           "#D62728",
           "#9467BD",
           "#8C564B",
           "#E377C2",
           "#7F7F7F",
           "#BCBD22",
           "#17BECF"
          ],
          "font": {
           "color": "rgb(36,36,36)"
          },
          "geo": {
           "bgcolor": "white",
           "lakecolor": "white",
           "landcolor": "white",
           "showlakes": true,
           "showland": true,
           "subunitcolor": "white"
          },
          "hoverlabel": {
           "align": "left"
          },
          "hovermode": "closest",
          "mapbox": {
           "style": "light"
          },
          "paper_bgcolor": "white",
          "plot_bgcolor": "white",
          "polar": {
           "angularaxis": {
            "gridcolor": "rgb(232,232,232)",
            "linecolor": "rgb(36,36,36)",
            "showgrid": false,
            "showline": true,
            "ticks": "outside"
           },
           "bgcolor": "white",
           "radialaxis": {
            "gridcolor": "rgb(232,232,232)",
            "linecolor": "rgb(36,36,36)",
            "showgrid": false,
            "showline": true,
            "ticks": "outside"
           }
          },
          "scene": {
           "xaxis": {
            "backgroundcolor": "white",
            "gridcolor": "rgb(232,232,232)",
            "gridwidth": 2,
            "linecolor": "rgb(36,36,36)",
            "showbackground": true,
            "showgrid": false,
            "showline": true,
            "ticks": "outside",
            "zeroline": false,
            "zerolinecolor": "rgb(36,36,36)"
           },
           "yaxis": {
            "backgroundcolor": "white",
            "gridcolor": "rgb(232,232,232)",
            "gridwidth": 2,
            "linecolor": "rgb(36,36,36)",
            "showbackground": true,
            "showgrid": false,
            "showline": true,
            "ticks": "outside",
            "zeroline": false,
            "zerolinecolor": "rgb(36,36,36)"
           },
           "zaxis": {
            "backgroundcolor": "white",
            "gridcolor": "rgb(232,232,232)",
            "gridwidth": 2,
            "linecolor": "rgb(36,36,36)",
            "showbackground": true,
            "showgrid": false,
            "showline": true,
            "ticks": "outside",
            "zeroline": false,
            "zerolinecolor": "rgb(36,36,36)"
           }
          },
          "shapedefaults": {
           "fillcolor": "black",
           "line": {
            "width": 0
           },
           "opacity": 0.3
          },
          "ternary": {
           "aaxis": {
            "gridcolor": "rgb(232,232,232)",
            "linecolor": "rgb(36,36,36)",
            "showgrid": false,
            "showline": true,
            "ticks": "outside"
           },
           "baxis": {
            "gridcolor": "rgb(232,232,232)",
            "linecolor": "rgb(36,36,36)",
            "showgrid": false,
            "showline": true,
            "ticks": "outside"
           },
           "bgcolor": "white",
           "caxis": {
            "gridcolor": "rgb(232,232,232)",
            "linecolor": "rgb(36,36,36)",
            "showgrid": false,
            "showline": true,
            "ticks": "outside"
           }
          },
          "title": {
           "x": 0.05
          },
          "xaxis": {
           "automargin": true,
           "gridcolor": "rgb(232,232,232)",
           "linecolor": "rgb(36,36,36)",
           "showgrid": false,
           "showline": true,
           "ticks": "outside",
           "title": {
            "standoff": 15
           },
           "zeroline": false,
           "zerolinecolor": "rgb(36,36,36)"
          },
          "yaxis": {
           "automargin": true,
           "gridcolor": "rgb(232,232,232)",
           "linecolor": "rgb(36,36,36)",
           "showgrid": false,
           "showline": true,
           "ticks": "outside",
           "title": {
            "standoff": 15
           },
           "zeroline": false,
           "zerolinecolor": "rgb(36,36,36)"
          }
         }
        },
        "title": {
         "text": ""
        },
        "width": 1000,
        "xaxis": {
         "anchor": "y",
         "domain": [
          0,
          0.2888888888888889
         ]
        },
        "xaxis2": {
         "anchor": "y2",
         "domain": [
          0.35555555555555557,
          0.6444444444444445
         ]
        },
        "xaxis3": {
         "anchor": "y3",
         "domain": [
          0.7111111111111111,
          1
         ]
        },
        "xaxis4": {
         "anchor": "y4",
         "domain": [
          0,
          0.2888888888888889
         ]
        },
        "xaxis5": {
         "anchor": "y5",
         "domain": [
          0.35555555555555557,
          0.6444444444444445
         ]
        },
        "xaxis6": {
         "anchor": "y6",
         "domain": [
          0.7111111111111111,
          1
         ]
        },
        "xaxis7": {
         "anchor": "y7",
         "domain": [
          0,
          0.2888888888888889
         ]
        },
        "xaxis8": {
         "anchor": "y8",
         "domain": [
          0.35555555555555557,
          0.6444444444444445
         ]
        },
        "xaxis9": {
         "anchor": "y9",
         "domain": [
          0.7111111111111111,
          1
         ]
        },
        "yaxis": {
         "anchor": "x",
         "domain": [
          0.7777777777777778,
          1
         ]
        },
        "yaxis2": {
         "anchor": "x2",
         "domain": [
          0.7777777777777778,
          1
         ]
        },
        "yaxis3": {
         "anchor": "x3",
         "domain": [
          0.7777777777777778,
          1
         ]
        },
        "yaxis4": {
         "anchor": "x4",
         "domain": [
          0.3888888888888889,
          0.6111111111111112
         ]
        },
        "yaxis5": {
         "anchor": "x5",
         "domain": [
          0.3888888888888889,
          0.6111111111111112
         ]
        },
        "yaxis6": {
         "anchor": "x6",
         "domain": [
          0.3888888888888889,
          0.6111111111111112
         ]
        },
        "yaxis7": {
         "anchor": "x7",
         "domain": [
          0,
          0.22222222222222224
         ]
        },
        "yaxis8": {
         "anchor": "x8",
         "domain": [
          0,
          0.22222222222222224
         ]
        },
        "yaxis9": {
         "anchor": "x9",
         "domain": [
          0,
          0.22222222222222224
         ]
        }
       }
      }
     },
     "metadata": {},
     "output_type": "display_data"
    }
   ],
   "source": [
    "\n",
    "from scipy.stats import gaussian_kde\n",
    "\n",
    "# Select numeric columns\n",
    "numeric_columns = df.select_dtypes(include='number').columns\n",
    "n = len(numeric_columns)\n",
    "\n",
    "# Determine subplot grid size\n",
    "cols = 3\n",
    "rows = (n + cols - 1) // cols\n",
    "\n",
    "# Lloyds Bank colours (repeat if needed)\n",
    "lloyds_palette = ['#005A30', '#000000', '#B1B3B3', '#00703C', '#004225', '#666666', '#003E2F', '#222222']\n",
    "\n",
    "# Create subplot grid\n",
    "fig = make_subplots(rows=rows, cols=cols, subplot_titles=numeric_columns)\n",
    "\n",
    "# Plot each KDE\n",
    "for i, col in enumerate(numeric_columns):\n",
    "    data = df[col].dropna()\n",
    "    kde = gaussian_kde(data)\n",
    "    x_vals = np.linspace(data.min(), data.max(), 200)\n",
    "    y_vals = kde(x_vals)\n",
    "\n",
    "    row = i // cols + 1\n",
    "    col_pos = i % cols + 1\n",
    "\n",
    "    fig.add_trace(go.Scatter(\n",
    "        x=x_vals,\n",
    "        y=y_vals,\n",
    "        mode='lines',\n",
    "        name=col,\n",
    "        line=dict(color=lloyds_palette[i % len(lloyds_palette)]),\n",
    "        showlegend=False\n",
    "    ), row=row, col=col_pos)\n",
    "\n",
    "# Update layout\n",
    "fig.update_layout(\n",
    "    height=250 * rows,\n",
    "    width=1000,\n",
    "    title_text=\"\",\n",
    "    template='simple_white',\n",
    "    margin=dict(t=60)\n",
    ")\n",
    "fig.show()\n"
   ]
  },
  {
   "cell_type": "code",
   "execution_count": null,
   "id": "296b5645",
   "metadata": {},
   "outputs": [
    {
     "data": {
      "application/vnd.plotly.v1+json": {
       "config": {
        "plotlyServerURL": "https://plot.ly"
       },
       "data": [
        {
         "marker": {
          "color": "#005A30"
         },
         "name": "Total Spent",
         "type": "box",
         "x": [
          "Not Churned",
          "Churned",
          "Not Churned",
          "Not Churned",
          "Not Churned",
          "Not Churned",
          "Not Churned",
          "Churned",
          "Not Churned",
          "Churned",
          "Not Churned",
          "Not Churned",
          "Not Churned",
          "Not Churned",
          "Not Churned",
          "Churned",
          "Not Churned",
          "Churned",
          "Not Churned",
          "Not Churned",
          "Not Churned",
          "Not Churned",
          "Not Churned",
          "Not Churned",
          "Not Churned",
          "Churned",
          "Not Churned",
          "Not Churned",
          "Not Churned",
          "Not Churned",
          "Not Churned",
          "Not Churned",
          "Churned",
          "Not Churned",
          "Not Churned",
          "Not Churned",
          "Not Churned",
          "Not Churned",
          "Not Churned",
          "Not Churned",
          "Churned",
          "Not Churned",
          "Not Churned",
          "Not Churned",
          "Not Churned",
          "Churned",
          "Not Churned",
          "Not Churned",
          "Not Churned",
          "Not Churned",
          "Churned",
          "Not Churned",
          "Not Churned",
          "Not Churned",
          "Not Churned",
          "Not Churned",
          "Not Churned",
          "Not Churned",
          "Not Churned",
          "Not Churned",
          "Churned",
          "Not Churned",
          "Not Churned",
          "Not Churned",
          "Not Churned",
          "Not Churned",
          "Not Churned",
          "Churned",
          "Not Churned",
          "Not Churned",
          "Churned",
          "Churned",
          "Churned",
          "Not Churned",
          "Churned",
          "Churned",
          "Not Churned",
          "Not Churned",
          "Churned",
          "Not Churned",
          "Churned",
          "Not Churned",
          "Not Churned",
          "Not Churned",
          "Not Churned",
          "Not Churned",
          "Not Churned",
          "Not Churned",
          "Not Churned",
          "Not Churned",
          "Not Churned",
          "Not Churned",
          "Not Churned",
          "Not Churned",
          "Not Churned",
          "Not Churned",
          "Not Churned",
          "Not Churned",
          "Not Churned",
          "Churned",
          "Not Churned",
          "Not Churned",
          "Not Churned",
          "Churned",
          "Not Churned",
          "Not Churned",
          "Churned",
          "Churned",
          "Not Churned",
          "Churned",
          "Churned",
          "Not Churned",
          "Not Churned",
          "Not Churned",
          "Not Churned",
          "Not Churned",
          "Not Churned",
          "Not Churned",
          "Churned",
          "Not Churned",
          "Not Churned",
          "Churned",
          "Churned",
          "Not Churned",
          "Not Churned",
          "Not Churned",
          "Not Churned",
          "Churned",
          "Not Churned",
          "Not Churned",
          "Not Churned",
          "Not Churned",
          "Not Churned",
          "Not Churned",
          "Not Churned",
          "Not Churned",
          "Churned",
          "Not Churned",
          "Not Churned",
          "Not Churned",
          "Not Churned",
          "Not Churned",
          "Not Churned",
          "Churned",
          "Not Churned",
          "Not Churned",
          "Not Churned",
          "Not Churned",
          "Not Churned",
          "Not Churned",
          "Not Churned",
          "Not Churned",
          "Not Churned",
          "Not Churned",
          "Not Churned",
          "Not Churned",
          "Not Churned",
          "Not Churned",
          "Not Churned",
          "Churned",
          "Not Churned",
          "Not Churned",
          "Not Churned",
          "Churned",
          "Not Churned",
          "Not Churned",
          "Not Churned",
          "Churned",
          "Not Churned",
          "Churned",
          "Not Churned",
          "Not Churned",
          "Not Churned",
          "Churned",
          "Not Churned",
          "Churned",
          "Not Churned",
          "Not Churned",
          "Not Churned",
          "Not Churned",
          "Not Churned",
          "Not Churned",
          "Churned",
          "Not Churned",
          "Not Churned",
          "Not Churned",
          "Not Churned",
          "Not Churned",
          "Not Churned",
          "Churned",
          "Not Churned",
          "Not Churned",
          "Not Churned",
          "Not Churned",
          "Not Churned",
          "Not Churned",
          "Churned",
          "Not Churned",
          "Not Churned",
          "Not Churned",
          "Churned",
          "Not Churned",
          "Not Churned",
          "Not Churned",
          "Not Churned",
          "Not Churned",
          "Not Churned",
          "Not Churned",
          "Not Churned",
          "Not Churned",
          "Not Churned",
          "Not Churned",
          "Churned",
          "Not Churned",
          "Not Churned",
          "Not Churned",
          "Churned",
          "Not Churned",
          "Not Churned",
          "Not Churned",
          "Churned",
          "Not Churned",
          "Not Churned",
          "Not Churned",
          "Not Churned",
          "Not Churned",
          "Churned",
          "Not Churned",
          "Not Churned",
          "Churned",
          "Churned",
          "Not Churned",
          "Not Churned",
          "Churned",
          "Not Churned",
          "Churned",
          "Churned",
          "Churned",
          "Churned",
          "Not Churned",
          "Not Churned",
          "Churned",
          "Not Churned",
          "Not Churned",
          "Not Churned",
          "Not Churned",
          "Not Churned",
          "Churned",
          "Not Churned",
          "Not Churned",
          "Churned",
          "Churned",
          "Not Churned",
          "Churned",
          "Not Churned",
          "Not Churned",
          "Not Churned",
          "Not Churned",
          "Not Churned",
          "Churned",
          "Churned",
          "Churned",
          "Not Churned",
          "Not Churned",
          "Not Churned",
          "Not Churned",
          "Not Churned",
          "Not Churned",
          "Not Churned",
          "Not Churned",
          "Churned",
          "Churned",
          "Not Churned",
          "Not Churned",
          "Not Churned",
          "Churned",
          "Not Churned",
          "Not Churned",
          "Not Churned",
          "Not Churned",
          "Not Churned",
          "Churned",
          "Churned",
          "Not Churned",
          "Not Churned",
          "Churned",
          "Not Churned",
          "Not Churned",
          "Not Churned",
          "Not Churned",
          "Not Churned",
          "Not Churned",
          "Not Churned",
          "Not Churned",
          "Not Churned",
          "Not Churned",
          "Not Churned",
          "Not Churned",
          "Not Churned",
          "Not Churned",
          "Not Churned",
          "Not Churned",
          "Not Churned",
          "Not Churned",
          "Not Churned",
          "Not Churned",
          "Not Churned",
          "Not Churned",
          "Not Churned",
          "Not Churned",
          "Churned",
          "Not Churned",
          "Not Churned",
          "Not Churned",
          "Churned",
          "Not Churned",
          "Not Churned",
          "Not Churned",
          "Not Churned",
          "Not Churned",
          "Not Churned",
          "Not Churned",
          "Churned",
          "Not Churned",
          "Not Churned",
          "Not Churned",
          "Not Churned",
          "Not Churned",
          "Not Churned",
          "Not Churned",
          "Not Churned",
          "Not Churned",
          "Not Churned",
          "Not Churned",
          "Churned",
          "Not Churned",
          "Not Churned",
          "Not Churned",
          "Not Churned",
          "Not Churned",
          "Not Churned",
          "Churned",
          "Not Churned",
          "Not Churned",
          "Not Churned",
          "Not Churned",
          "Not Churned",
          "Not Churned",
          "Not Churned",
          "Not Churned",
          "Churned",
          "Not Churned",
          "Churned",
          "Not Churned",
          "Not Churned",
          "Not Churned",
          "Not Churned",
          "Churned",
          "Not Churned",
          "Not Churned",
          "Not Churned",
          "Churned",
          "Not Churned",
          "Not Churned",
          "Churned",
          "Not Churned",
          "Not Churned",
          "Not Churned",
          "Not Churned",
          "Not Churned",
          "Not Churned",
          "Not Churned",
          "Not Churned",
          "Not Churned",
          "Not Churned",
          "Not Churned",
          "Not Churned",
          "Not Churned",
          "Not Churned",
          "Not Churned",
          "Churned",
          "Not Churned",
          "Not Churned",
          "Not Churned",
          "Churned",
          "Not Churned",
          "Not Churned",
          "Churned",
          "Churned",
          "Not Churned",
          "Not Churned",
          "Not Churned",
          "Not Churned",
          "Not Churned",
          "Churned",
          "Churned",
          "Not Churned",
          "Not Churned",
          "Not Churned",
          "Not Churned",
          "Not Churned",
          "Churned",
          "Not Churned",
          "Churned",
          "Not Churned",
          "Not Churned",
          "Churned",
          "Not Churned",
          "Not Churned",
          "Not Churned",
          "Churned",
          "Not Churned",
          "Not Churned",
          "Not Churned",
          "Not Churned",
          "Not Churned",
          "Not Churned",
          "Not Churned",
          "Churned",
          "Not Churned",
          "Not Churned",
          "Churned",
          "Not Churned",
          "Not Churned",
          "Not Churned",
          "Not Churned",
          "Not Churned",
          "Not Churned",
          "Not Churned",
          "Not Churned",
          "Not Churned",
          "Not Churned",
          "Churned",
          "Not Churned",
          "Not Churned",
          "Not Churned",
          "Not Churned",
          "Not Churned",
          "Not Churned",
          "Not Churned",
          "Churned",
          "Not Churned",
          "Not Churned",
          "Not Churned",
          "Not Churned",
          "Not Churned",
          "Not Churned",
          "Not Churned",
          "Not Churned",
          "Churned",
          "Not Churned",
          "Not Churned",
          "Not Churned",
          "Not Churned",
          "Not Churned",
          "Not Churned",
          "Not Churned",
          "Not Churned",
          "Not Churned",
          "Not Churned",
          "Not Churned",
          "Churned",
          "Not Churned",
          "Not Churned",
          "Not Churned",
          "Churned",
          "Not Churned",
          "Not Churned",
          "Churned",
          "Churned",
          "Not Churned",
          "Not Churned",
          "Not Churned",
          "Not Churned",
          "Not Churned",
          "Not Churned",
          "Not Churned",
          "Churned",
          "Not Churned",
          "Churned",
          "Not Churned",
          "Churned",
          "Not Churned",
          "Not Churned",
          "Not Churned",
          "Not Churned",
          "Not Churned",
          "Churned",
          "Not Churned",
          "Not Churned",
          "Churned",
          "Not Churned",
          "Not Churned",
          "Not Churned",
          "Not Churned",
          "Not Churned",
          "Not Churned",
          "Churned",
          "Not Churned",
          "Not Churned",
          "Not Churned",
          "Not Churned",
          "Not Churned",
          "Not Churned",
          "Not Churned",
          "Churned",
          "Churned",
          "Not Churned",
          "Churned",
          "Churned",
          "Churned",
          "Not Churned",
          "Not Churned",
          "Not Churned",
          "Not Churned",
          "Churned",
          "Not Churned",
          "Churned",
          "Not Churned",
          "Not Churned",
          "Churned",
          "Not Churned",
          "Not Churned",
          "Not Churned",
          "Not Churned",
          "Not Churned",
          "Not Churned",
          "Not Churned",
          "Not Churned",
          "Churned",
          "Churned",
          "Not Churned",
          "Not Churned",
          "Not Churned",
          "Not Churned",
          "Not Churned",
          "Churned",
          "Not Churned",
          "Not Churned",
          "Not Churned",
          "Not Churned",
          "Not Churned",
          "Churned",
          "Not Churned",
          "Churned",
          "Not Churned",
          "Not Churned",
          "Not Churned",
          "Not Churned",
          "Not Churned",
          "Not Churned",
          "Not Churned",
          "Not Churned",
          "Not Churned",
          "Not Churned",
          "Not Churned",
          "Not Churned",
          "Not Churned",
          "Not Churned",
          "Churned",
          "Not Churned",
          "Churned",
          "Not Churned",
          "Not Churned",
          "Churned",
          "Not Churned",
          "Not Churned",
          "Not Churned",
          "Not Churned",
          "Not Churned",
          "Not Churned",
          "Not Churned",
          "Not Churned",
          "Churned",
          "Not Churned",
          "Churned",
          "Churned",
          "Not Churned",
          "Churned",
          "Not Churned",
          "Not Churned",
          "Not Churned",
          "Not Churned",
          "Not Churned",
          "Not Churned",
          "Churned",
          "Not Churned",
          "Churned",
          "Churned",
          "Not Churned",
          "Not Churned",
          "Not Churned",
          "Not Churned",
          "Not Churned",
          "Not Churned",
          "Not Churned",
          "Not Churned",
          "Not Churned",
          "Not Churned",
          "Not Churned",
          "Not Churned",
          "Churned",
          "Not Churned",
          "Not Churned",
          "Churned",
          "Not Churned",
          "Churned",
          "Not Churned",
          "Not Churned",
          "Not Churned",
          "Not Churned",
          "Not Churned",
          "Not Churned",
          "Churned",
          "Not Churned",
          "Churned",
          "Churned",
          "Churned",
          "Churned",
          "Not Churned",
          "Not Churned",
          "Not Churned",
          "Not Churned",
          "Not Churned",
          "Churned",
          "Not Churned",
          "Churned",
          "Not Churned",
          "Not Churned",
          "Churned",
          "Not Churned",
          "Not Churned",
          "Not Churned",
          "Not Churned",
          "Not Churned",
          "Not Churned",
          "Not Churned",
          "Not Churned",
          "Not Churned",
          "Not Churned",
          "Churned",
          "Not Churned",
          "Churned",
          "Churned",
          "Not Churned",
          "Churned",
          "Not Churned",
          "Not Churned",
          "Not Churned",
          "Churned",
          "Not Churned",
          "Not Churned",
          "Not Churned",
          "Not Churned",
          "Not Churned",
          "Not Churned",
          "Churned",
          "Churned",
          "Not Churned",
          "Not Churned",
          "Not Churned",
          "Not Churned",
          "Not Churned",
          "Not Churned",
          "Not Churned",
          "Not Churned",
          "Not Churned",
          "Not Churned",
          "Not Churned",
          "Not Churned",
          "Not Churned",
          "Not Churned",
          "Not Churned",
          "Churned",
          "Not Churned",
          "Not Churned",
          "Churned",
          "Not Churned",
          "Not Churned",
          "Not Churned",
          "Not Churned",
          "Churned",
          "Not Churned",
          "Not Churned",
          "Churned",
          "Not Churned",
          "Not Churned",
          "Not Churned",
          "Not Churned",
          "Not Churned",
          "Churned",
          "Not Churned",
          "Not Churned",
          "Not Churned",
          "Churned",
          "Churned",
          "Not Churned",
          "Not Churned",
          "Churned",
          "Not Churned",
          "Not Churned",
          "Churned",
          "Not Churned",
          "Not Churned",
          "Not Churned",
          "Not Churned",
          "Not Churned",
          "Not Churned",
          "Not Churned",
          "Not Churned",
          "Not Churned",
          "Not Churned",
          "Not Churned",
          "Not Churned",
          "Not Churned",
          "Churned",
          "Not Churned",
          "Not Churned",
          "Not Churned",
          "Not Churned",
          "Not Churned",
          "Not Churned",
          "Not Churned",
          "Not Churned",
          "Not Churned",
          "Not Churned",
          "Not Churned",
          "Not Churned",
          "Not Churned",
          "Not Churned",
          "Not Churned",
          "Not Churned",
          "Churned",
          "Not Churned",
          "Not Churned",
          "Not Churned",
          "Not Churned",
          "Not Churned",
          "Not Churned",
          "Not Churned",
          "Not Churned",
          "Churned",
          "Not Churned",
          "Not Churned",
          "Not Churned",
          "Not Churned",
          "Not Churned",
          "Churned",
          "Not Churned",
          "Not Churned",
          "Not Churned",
          "Not Churned",
          "Churned",
          "Not Churned",
          "Not Churned",
          "Not Churned",
          "Churned",
          "Not Churned",
          "Not Churned",
          "Not Churned",
          "Not Churned",
          "Churned",
          "Churned",
          "Not Churned",
          "Not Churned",
          "Not Churned",
          "Not Churned",
          "Not Churned",
          "Not Churned",
          "Not Churned",
          "Not Churned",
          "Not Churned",
          "Not Churned",
          "Not Churned",
          "Churned",
          "Not Churned",
          "Churned",
          "Not Churned",
          "Not Churned",
          "Not Churned",
          "Not Churned",
          "Churned",
          "Not Churned",
          "Not Churned",
          "Not Churned",
          "Not Churned",
          "Not Churned",
          "Churned",
          "Churned",
          "Not Churned",
          "Churned",
          "Not Churned",
          "Not Churned",
          "Not Churned",
          "Not Churned",
          "Not Churned",
          "Not Churned",
          "Not Churned",
          "Churned",
          "Not Churned",
          "Not Churned",
          "Not Churned",
          "Not Churned",
          "Not Churned",
          "Not Churned",
          "Churned",
          "Churned",
          "Not Churned",
          "Not Churned",
          "Not Churned",
          "Not Churned",
          "Churned",
          "Not Churned",
          "Not Churned",
          "Not Churned",
          "Not Churned",
          "Not Churned",
          "Not Churned",
          "Not Churned",
          "Not Churned",
          "Not Churned",
          "Not Churned",
          "Churned",
          "Not Churned",
          "Not Churned",
          "Churned",
          "Churned",
          "Not Churned",
          "Not Churned",
          "Not Churned",
          "Churned",
          "Not Churned",
          "Not Churned",
          "Not Churned",
          "Not Churned",
          "Churned",
          "Not Churned",
          "Not Churned",
          "Not Churned",
          "Not Churned",
          "Churned",
          "Not Churned",
          "Not Churned",
          "Not Churned",
          "Not Churned",
          "Not Churned",
          "Not Churned",
          "Churned",
          "Not Churned",
          "Churned",
          "Not Churned",
          "Not Churned",
          "Not Churned",
          "Not Churned",
          "Not Churned",
          "Not Churned",
          "Churned",
          "Not Churned",
          "Not Churned",
          "Not Churned",
          "Not Churned",
          "Not Churned",
          "Not Churned",
          "Not Churned",
          "Not Churned",
          "Not Churned",
          "Not Churned",
          "Not Churned",
          "Churned",
          "Not Churned",
          "Not Churned",
          "Not Churned",
          "Not Churned",
          "Not Churned",
          "Not Churned",
          "Not Churned",
          "Not Churned",
          "Not Churned",
          "Not Churned",
          "Not Churned",
          "Not Churned",
          "Not Churned",
          "Not Churned",
          "Not Churned",
          "Not Churned",
          "Not Churned",
          "Not Churned",
          "Not Churned",
          "Not Churned",
          "Not Churned",
          "Not Churned",
          "Not Churned",
          "Not Churned",
          "Not Churned",
          "Not Churned",
          "Not Churned",
          "Not Churned",
          "Not Churned",
          "Churned",
          "Not Churned",
          "Not Churned",
          "Not Churned",
          "Churned",
          "Not Churned",
          "Not Churned",
          "Churned",
          "Not Churned",
          "Not Churned",
          "Not Churned",
          "Not Churned",
          "Not Churned",
          "Not Churned",
          "Not Churned",
          "Not Churned",
          "Not Churned",
          "Not Churned",
          "Not Churned",
          "Churned",
          "Churned",
          "Not Churned",
          "Not Churned",
          "Not Churned",
          "Not Churned",
          "Churned",
          "Churned",
          "Churned",
          "Churned",
          "Not Churned",
          "Not Churned",
          "Not Churned",
          "Not Churned",
          "Not Churned",
          "Not Churned",
          "Not Churned",
          "Churned",
          "Not Churned",
          "Churned",
          "Not Churned",
          "Not Churned",
          "Not Churned",
          "Not Churned",
          "Not Churned",
          "Not Churned",
          "Not Churned",
          "Not Churned",
          "Not Churned",
          "Churned",
          "Churned",
          "Not Churned",
          "Not Churned",
          "Not Churned",
          "Not Churned",
          "Not Churned",
          "Not Churned",
          "Not Churned",
          "Not Churned",
          "Not Churned",
          "Not Churned",
          "Not Churned",
          "Not Churned",
          "Not Churned",
          "Churned",
          "Not Churned",
          "Not Churned",
          "Churned",
          "Churned",
          "Not Churned",
          "Not Churned",
          "Not Churned",
          "Churned",
          "Churned",
          "Not Churned",
          "Not Churned",
          "Not Churned",
          "Churned",
          "Not Churned",
          "Not Churned",
          "Not Churned",
          "Churned",
          "Not Churned",
          "Not Churned",
          "Churned",
          "Not Churned",
          "Not Churned",
          "Not Churned",
          "Not Churned",
          "Churned",
          "Not Churned",
          "Churned",
          "Churned",
          "Not Churned",
          "Not Churned",
          "Not Churned",
          "Not Churned",
          "Churned",
          "Not Churned",
          "Not Churned",
          "Not Churned",
          "Not Churned",
          "Not Churned"
         ],
         "xaxis": "x",
         "y": {
          "bdata": "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",
          "dtype": "f8"
         },
         "yaxis": "y"
        },
        {
         "marker": {
          "color": "#000000"
         },
         "name": "Login Frequency",
         "type": "box",
         "x": [
          "Not Churned",
          "Churned",
          "Not Churned",
          "Not Churned",
          "Not Churned",
          "Not Churned",
          "Not Churned",
          "Churned",
          "Not Churned",
          "Churned",
          "Not Churned",
          "Not Churned",
          "Not Churned",
          "Not Churned",
          "Not Churned",
          "Churned",
          "Not Churned",
          "Churned",
          "Not Churned",
          "Not Churned",
          "Not Churned",
          "Not Churned",
          "Not Churned",
          "Not Churned",
          "Not Churned",
          "Churned",
          "Not Churned",
          "Not Churned",
          "Not Churned",
          "Not Churned",
          "Not Churned",
          "Not Churned",
          "Churned",
          "Not Churned",
          "Not Churned",
          "Not Churned",
          "Not Churned",
          "Not Churned",
          "Not Churned",
          "Not Churned",
          "Churned",
          "Not Churned",
          "Not Churned",
          "Not Churned",
          "Not Churned",
          "Churned",
          "Not Churned",
          "Not Churned",
          "Not Churned",
          "Not Churned",
          "Churned",
          "Not Churned",
          "Not Churned",
          "Not Churned",
          "Not Churned",
          "Not Churned",
          "Not Churned",
          "Not Churned",
          "Not Churned",
          "Not Churned",
          "Churned",
          "Not Churned",
          "Not Churned",
          "Not Churned",
          "Not Churned",
          "Not Churned",
          "Not Churned",
          "Churned",
          "Not Churned",
          "Not Churned",
          "Churned",
          "Churned",
          "Churned",
          "Not Churned",
          "Churned",
          "Churned",
          "Not Churned",
          "Not Churned",
          "Churned",
          "Not Churned",
          "Churned",
          "Not Churned",
          "Not Churned",
          "Not Churned",
          "Not Churned",
          "Not Churned",
          "Not Churned",
          "Not Churned",
          "Not Churned",
          "Not Churned",
          "Not Churned",
          "Not Churned",
          "Not Churned",
          "Not Churned",
          "Not Churned",
          "Not Churned",
          "Not Churned",
          "Not Churned",
          "Not Churned",
          "Churned",
          "Not Churned",
          "Not Churned",
          "Not Churned",
          "Churned",
          "Not Churned",
          "Not Churned",
          "Churned",
          "Churned",
          "Not Churned",
          "Churned",
          "Churned",
          "Not Churned",
          "Not Churned",
          "Not Churned",
          "Not Churned",
          "Not Churned",
          "Not Churned",
          "Not Churned",
          "Churned",
          "Not Churned",
          "Not Churned",
          "Churned",
          "Churned",
          "Not Churned",
          "Not Churned",
          "Not Churned",
          "Not Churned",
          "Churned",
          "Not Churned",
          "Not Churned",
          "Not Churned",
          "Not Churned",
          "Not Churned",
          "Not Churned",
          "Not Churned",
          "Not Churned",
          "Churned",
          "Not Churned",
          "Not Churned",
          "Not Churned",
          "Not Churned",
          "Not Churned",
          "Not Churned",
          "Churned",
          "Not Churned",
          "Not Churned",
          "Not Churned",
          "Not Churned",
          "Not Churned",
          "Not Churned",
          "Not Churned",
          "Not Churned",
          "Not Churned",
          "Not Churned",
          "Not Churned",
          "Not Churned",
          "Not Churned",
          "Not Churned",
          "Not Churned",
          "Churned",
          "Not Churned",
          "Not Churned",
          "Not Churned",
          "Churned",
          "Not Churned",
          "Not Churned",
          "Not Churned",
          "Churned",
          "Not Churned",
          "Churned",
          "Not Churned",
          "Not Churned",
          "Not Churned",
          "Churned",
          "Not Churned",
          "Churned",
          "Not Churned",
          "Not Churned",
          "Not Churned",
          "Not Churned",
          "Not Churned",
          "Not Churned",
          "Churned",
          "Not Churned",
          "Not Churned",
          "Not Churned",
          "Not Churned",
          "Not Churned",
          "Not Churned",
          "Churned",
          "Not Churned",
          "Not Churned",
          "Not Churned",
          "Not Churned",
          "Not Churned",
          "Not Churned",
          "Churned",
          "Not Churned",
          "Not Churned",
          "Not Churned",
          "Churned",
          "Not Churned",
          "Not Churned",
          "Not Churned",
          "Not Churned",
          "Not Churned",
          "Not Churned",
          "Not Churned",
          "Not Churned",
          "Not Churned",
          "Not Churned",
          "Not Churned",
          "Churned",
          "Not Churned",
          "Not Churned",
          "Not Churned",
          "Churned",
          "Not Churned",
          "Not Churned",
          "Not Churned",
          "Churned",
          "Not Churned",
          "Not Churned",
          "Not Churned",
          "Not Churned",
          "Not Churned",
          "Churned",
          "Not Churned",
          "Not Churned",
          "Churned",
          "Churned",
          "Not Churned",
          "Not Churned",
          "Churned",
          "Not Churned",
          "Churned",
          "Churned",
          "Churned",
          "Churned",
          "Not Churned",
          "Not Churned",
          "Churned",
          "Not Churned",
          "Not Churned",
          "Not Churned",
          "Not Churned",
          "Not Churned",
          "Churned",
          "Not Churned",
          "Not Churned",
          "Churned",
          "Churned",
          "Not Churned",
          "Churned",
          "Not Churned",
          "Not Churned",
          "Not Churned",
          "Not Churned",
          "Not Churned",
          "Churned",
          "Churned",
          "Churned",
          "Not Churned",
          "Not Churned",
          "Not Churned",
          "Not Churned",
          "Not Churned",
          "Not Churned",
          "Not Churned",
          "Not Churned",
          "Churned",
          "Churned",
          "Not Churned",
          "Not Churned",
          "Not Churned",
          "Churned",
          "Not Churned",
          "Not Churned",
          "Not Churned",
          "Not Churned",
          "Not Churned",
          "Churned",
          "Churned",
          "Not Churned",
          "Not Churned",
          "Churned",
          "Not Churned",
          "Not Churned",
          "Not Churned",
          "Not Churned",
          "Not Churned",
          "Not Churned",
          "Not Churned",
          "Not Churned",
          "Not Churned",
          "Not Churned",
          "Not Churned",
          "Not Churned",
          "Not Churned",
          "Not Churned",
          "Not Churned",
          "Not Churned",
          "Not Churned",
          "Not Churned",
          "Not Churned",
          "Not Churned",
          "Not Churned",
          "Not Churned",
          "Not Churned",
          "Not Churned",
          "Churned",
          "Not Churned",
          "Not Churned",
          "Not Churned",
          "Churned",
          "Not Churned",
          "Not Churned",
          "Not Churned",
          "Not Churned",
          "Not Churned",
          "Not Churned",
          "Not Churned",
          "Churned",
          "Not Churned",
          "Not Churned",
          "Not Churned",
          "Not Churned",
          "Not Churned",
          "Not Churned",
          "Not Churned",
          "Not Churned",
          "Not Churned",
          "Not Churned",
          "Not Churned",
          "Churned",
          "Not Churned",
          "Not Churned",
          "Not Churned",
          "Not Churned",
          "Not Churned",
          "Not Churned",
          "Churned",
          "Not Churned",
          "Not Churned",
          "Not Churned",
          "Not Churned",
          "Not Churned",
          "Not Churned",
          "Not Churned",
          "Not Churned",
          "Churned",
          "Not Churned",
          "Churned",
          "Not Churned",
          "Not Churned",
          "Not Churned",
          "Not Churned",
          "Churned",
          "Not Churned",
          "Not Churned",
          "Not Churned",
          "Churned",
          "Not Churned",
          "Not Churned",
          "Churned",
          "Not Churned",
          "Not Churned",
          "Not Churned",
          "Not Churned",
          "Not Churned",
          "Not Churned",
          "Not Churned",
          "Not Churned",
          "Not Churned",
          "Not Churned",
          "Not Churned",
          "Not Churned",
          "Not Churned",
          "Not Churned",
          "Not Churned",
          "Churned",
          "Not Churned",
          "Not Churned",
          "Not Churned",
          "Churned",
          "Not Churned",
          "Not Churned",
          "Churned",
          "Churned",
          "Not Churned",
          "Not Churned",
          "Not Churned",
          "Not Churned",
          "Not Churned",
          "Churned",
          "Churned",
          "Not Churned",
          "Not Churned",
          "Not Churned",
          "Not Churned",
          "Not Churned",
          "Churned",
          "Not Churned",
          "Churned",
          "Not Churned",
          "Not Churned",
          "Churned",
          "Not Churned",
          "Not Churned",
          "Not Churned",
          "Churned",
          "Not Churned",
          "Not Churned",
          "Not Churned",
          "Not Churned",
          "Not Churned",
          "Not Churned",
          "Not Churned",
          "Churned",
          "Not Churned",
          "Not Churned",
          "Churned",
          "Not Churned",
          "Not Churned",
          "Not Churned",
          "Not Churned",
          "Not Churned",
          "Not Churned",
          "Not Churned",
          "Not Churned",
          "Not Churned",
          "Not Churned",
          "Churned",
          "Not Churned",
          "Not Churned",
          "Not Churned",
          "Not Churned",
          "Not Churned",
          "Not Churned",
          "Not Churned",
          "Churned",
          "Not Churned",
          "Not Churned",
          "Not Churned",
          "Not Churned",
          "Not Churned",
          "Not Churned",
          "Not Churned",
          "Not Churned",
          "Churned",
          "Not Churned",
          "Not Churned",
          "Not Churned",
          "Not Churned",
          "Not Churned",
          "Not Churned",
          "Not Churned",
          "Not Churned",
          "Not Churned",
          "Not Churned",
          "Not Churned",
          "Churned",
          "Not Churned",
          "Not Churned",
          "Not Churned",
          "Churned",
          "Not Churned",
          "Not Churned",
          "Churned",
          "Churned",
          "Not Churned",
          "Not Churned",
          "Not Churned",
          "Not Churned",
          "Not Churned",
          "Not Churned",
          "Not Churned",
          "Churned",
          "Not Churned",
          "Churned",
          "Not Churned",
          "Churned",
          "Not Churned",
          "Not Churned",
          "Not Churned",
          "Not Churned",
          "Not Churned",
          "Churned",
          "Not Churned",
          "Not Churned",
          "Churned",
          "Not Churned",
          "Not Churned",
          "Not Churned",
          "Not Churned",
          "Not Churned",
          "Not Churned",
          "Churned",
          "Not Churned",
          "Not Churned",
          "Not Churned",
          "Not Churned",
          "Not Churned",
          "Not Churned",
          "Not Churned",
          "Churned",
          "Churned",
          "Not Churned",
          "Churned",
          "Churned",
          "Churned",
          "Not Churned",
          "Not Churned",
          "Not Churned",
          "Not Churned",
          "Churned",
          "Not Churned",
          "Churned",
          "Not Churned",
          "Not Churned",
          "Churned",
          "Not Churned",
          "Not Churned",
          "Not Churned",
          "Not Churned",
          "Not Churned",
          "Not Churned",
          "Not Churned",
          "Not Churned",
          "Churned",
          "Churned",
          "Not Churned",
          "Not Churned",
          "Not Churned",
          "Not Churned",
          "Not Churned",
          "Churned",
          "Not Churned",
          "Not Churned",
          "Not Churned",
          "Not Churned",
          "Not Churned",
          "Churned",
          "Not Churned",
          "Churned",
          "Not Churned",
          "Not Churned",
          "Not Churned",
          "Not Churned",
          "Not Churned",
          "Not Churned",
          "Not Churned",
          "Not Churned",
          "Not Churned",
          "Not Churned",
          "Not Churned",
          "Not Churned",
          "Not Churned",
          "Not Churned",
          "Churned",
          "Not Churned",
          "Churned",
          "Not Churned",
          "Not Churned",
          "Churned",
          "Not Churned",
          "Not Churned",
          "Not Churned",
          "Not Churned",
          "Not Churned",
          "Not Churned",
          "Not Churned",
          "Not Churned",
          "Churned",
          "Not Churned",
          "Churned",
          "Churned",
          "Not Churned",
          "Churned",
          "Not Churned",
          "Not Churned",
          "Not Churned",
          "Not Churned",
          "Not Churned",
          "Not Churned",
          "Churned",
          "Not Churned",
          "Churned",
          "Churned",
          "Not Churned",
          "Not Churned",
          "Not Churned",
          "Not Churned",
          "Not Churned",
          "Not Churned",
          "Not Churned",
          "Not Churned",
          "Not Churned",
          "Not Churned",
          "Not Churned",
          "Not Churned",
          "Churned",
          "Not Churned",
          "Not Churned",
          "Churned",
          "Not Churned",
          "Churned",
          "Not Churned",
          "Not Churned",
          "Not Churned",
          "Not Churned",
          "Not Churned",
          "Not Churned",
          "Churned",
          "Not Churned",
          "Churned",
          "Churned",
          "Churned",
          "Churned",
          "Not Churned",
          "Not Churned",
          "Not Churned",
          "Not Churned",
          "Not Churned",
          "Churned",
          "Not Churned",
          "Churned",
          "Not Churned",
          "Not Churned",
          "Churned",
          "Not Churned",
          "Not Churned",
          "Not Churned",
          "Not Churned",
          "Not Churned",
          "Not Churned",
          "Not Churned",
          "Not Churned",
          "Not Churned",
          "Not Churned",
          "Churned",
          "Not Churned",
          "Churned",
          "Churned",
          "Not Churned",
          "Churned",
          "Not Churned",
          "Not Churned",
          "Not Churned",
          "Churned",
          "Not Churned",
          "Not Churned",
          "Not Churned",
          "Not Churned",
          "Not Churned",
          "Not Churned",
          "Churned",
          "Churned",
          "Not Churned",
          "Not Churned",
          "Not Churned",
          "Not Churned",
          "Not Churned",
          "Not Churned",
          "Not Churned",
          "Not Churned",
          "Not Churned",
          "Not Churned",
          "Not Churned",
          "Not Churned",
          "Not Churned",
          "Not Churned",
          "Not Churned",
          "Churned",
          "Not Churned",
          "Not Churned",
          "Churned",
          "Not Churned",
          "Not Churned",
          "Not Churned",
          "Not Churned",
          "Churned",
          "Not Churned",
          "Not Churned",
          "Churned",
          "Not Churned",
          "Not Churned",
          "Not Churned",
          "Not Churned",
          "Not Churned",
          "Churned",
          "Not Churned",
          "Not Churned",
          "Not Churned",
          "Churned",
          "Churned",
          "Not Churned",
          "Not Churned",
          "Churned",
          "Not Churned",
          "Not Churned",
          "Churned",
          "Not Churned",
          "Not Churned",
          "Not Churned",
          "Not Churned",
          "Not Churned",
          "Not Churned",
          "Not Churned",
          "Not Churned",
          "Not Churned",
          "Not Churned",
          "Not Churned",
          "Not Churned",
          "Not Churned",
          "Churned",
          "Not Churned",
          "Not Churned",
          "Not Churned",
          "Not Churned",
          "Not Churned",
          "Not Churned",
          "Not Churned",
          "Not Churned",
          "Not Churned",
          "Not Churned",
          "Not Churned",
          "Not Churned",
          "Not Churned",
          "Not Churned",
          "Not Churned",
          "Not Churned",
          "Churned",
          "Not Churned",
          "Not Churned",
          "Not Churned",
          "Not Churned",
          "Not Churned",
          "Not Churned",
          "Not Churned",
          "Not Churned",
          "Churned",
          "Not Churned",
          "Not Churned",
          "Not Churned",
          "Not Churned",
          "Not Churned",
          "Churned",
          "Not Churned",
          "Not Churned",
          "Not Churned",
          "Not Churned",
          "Churned",
          "Not Churned",
          "Not Churned",
          "Not Churned",
          "Churned",
          "Not Churned",
          "Not Churned",
          "Not Churned",
          "Not Churned",
          "Churned",
          "Churned",
          "Not Churned",
          "Not Churned",
          "Not Churned",
          "Not Churned",
          "Not Churned",
          "Not Churned",
          "Not Churned",
          "Not Churned",
          "Not Churned",
          "Not Churned",
          "Not Churned",
          "Churned",
          "Not Churned",
          "Churned",
          "Not Churned",
          "Not Churned",
          "Not Churned",
          "Not Churned",
          "Churned",
          "Not Churned",
          "Not Churned",
          "Not Churned",
          "Not Churned",
          "Not Churned",
          "Churned",
          "Churned",
          "Not Churned",
          "Churned",
          "Not Churned",
          "Not Churned",
          "Not Churned",
          "Not Churned",
          "Not Churned",
          "Not Churned",
          "Not Churned",
          "Churned",
          "Not Churned",
          "Not Churned",
          "Not Churned",
          "Not Churned",
          "Not Churned",
          "Not Churned",
          "Churned",
          "Churned",
          "Not Churned",
          "Not Churned",
          "Not Churned",
          "Not Churned",
          "Churned",
          "Not Churned",
          "Not Churned",
          "Not Churned",
          "Not Churned",
          "Not Churned",
          "Not Churned",
          "Not Churned",
          "Not Churned",
          "Not Churned",
          "Not Churned",
          "Churned",
          "Not Churned",
          "Not Churned",
          "Churned",
          "Churned",
          "Not Churned",
          "Not Churned",
          "Not Churned",
          "Churned",
          "Not Churned",
          "Not Churned",
          "Not Churned",
          "Not Churned",
          "Churned",
          "Not Churned",
          "Not Churned",
          "Not Churned",
          "Not Churned",
          "Churned",
          "Not Churned",
          "Not Churned",
          "Not Churned",
          "Not Churned",
          "Not Churned",
          "Not Churned",
          "Churned",
          "Not Churned",
          "Churned",
          "Not Churned",
          "Not Churned",
          "Not Churned",
          "Not Churned",
          "Not Churned",
          "Not Churned",
          "Churned",
          "Not Churned",
          "Not Churned",
          "Not Churned",
          "Not Churned",
          "Not Churned",
          "Not Churned",
          "Not Churned",
          "Not Churned",
          "Not Churned",
          "Not Churned",
          "Not Churned",
          "Churned",
          "Not Churned",
          "Not Churned",
          "Not Churned",
          "Not Churned",
          "Not Churned",
          "Not Churned",
          "Not Churned",
          "Not Churned",
          "Not Churned",
          "Not Churned",
          "Not Churned",
          "Not Churned",
          "Not Churned",
          "Not Churned",
          "Not Churned",
          "Not Churned",
          "Not Churned",
          "Not Churned",
          "Not Churned",
          "Not Churned",
          "Not Churned",
          "Not Churned",
          "Not Churned",
          "Not Churned",
          "Not Churned",
          "Not Churned",
          "Not Churned",
          "Not Churned",
          "Not Churned",
          "Churned",
          "Not Churned",
          "Not Churned",
          "Not Churned",
          "Churned",
          "Not Churned",
          "Not Churned",
          "Churned",
          "Not Churned",
          "Not Churned",
          "Not Churned",
          "Not Churned",
          "Not Churned",
          "Not Churned",
          "Not Churned",
          "Not Churned",
          "Not Churned",
          "Not Churned",
          "Not Churned",
          "Churned",
          "Churned",
          "Not Churned",
          "Not Churned",
          "Not Churned",
          "Not Churned",
          "Churned",
          "Churned",
          "Churned",
          "Churned",
          "Not Churned",
          "Not Churned",
          "Not Churned",
          "Not Churned",
          "Not Churned",
          "Not Churned",
          "Not Churned",
          "Churned",
          "Not Churned",
          "Churned",
          "Not Churned",
          "Not Churned",
          "Not Churned",
          "Not Churned",
          "Not Churned",
          "Not Churned",
          "Not Churned",
          "Not Churned",
          "Not Churned",
          "Churned",
          "Churned",
          "Not Churned",
          "Not Churned",
          "Not Churned",
          "Not Churned",
          "Not Churned",
          "Not Churned",
          "Not Churned",
          "Not Churned",
          "Not Churned",
          "Not Churned",
          "Not Churned",
          "Not Churned",
          "Not Churned",
          "Churned",
          "Not Churned",
          "Not Churned",
          "Churned",
          "Churned",
          "Not Churned",
          "Not Churned",
          "Not Churned",
          "Churned",
          "Churned",
          "Not Churned",
          "Not Churned",
          "Not Churned",
          "Churned",
          "Not Churned",
          "Not Churned",
          "Not Churned",
          "Churned",
          "Not Churned",
          "Not Churned",
          "Churned",
          "Not Churned",
          "Not Churned",
          "Not Churned",
          "Not Churned",
          "Churned",
          "Not Churned",
          "Churned",
          "Churned",
          "Not Churned",
          "Not Churned",
          "Not Churned",
          "Not Churned",
          "Churned",
          "Not Churned",
          "Not Churned",
          "Not Churned",
          "Not Churned",
          "Not Churned"
         ],
         "xaxis": "x2",
         "y": {
          "bdata": "IgUDAikCIBEYHR4rChosKQglJxASKhMMGy0WKiImFzAYLBMGAy8aFCYKGSMxGBUiEhMDBhQWIQ4sCS0ZLxAHCxsoEQUdCi8ZGCwMBR0jFyAoExktJQErDQwvKyUqKQwkJgkOLSMgLgMeMQcBFBkhIywYDicsIhICJhEXIRwPCxcNLwskJhsSKCYiFhIpEg0nEAgiHQYmJDAqGhILGx4SKwQGFgIvMCggJxUIGSkkBA8cFCYGHiAxKQQjHjEpFgIMIiIOJyctBggbDBUmBBkrGAwdIyUeKSojASgaIyoHBAUnCw8gJQkvICEXDx4QFiseASMSDxUoAh4oIBwLBwErHCcTJyAxHgIsKyUTGgEqHBooIwMaIRYGKiIDEQYqBRQBGAkPJRIWCyYDHS4gIggiBQkRFCobBS4dCxoXEhQsFRogAQIEKQocMSURHgYLCwIUIikBMBsaGggdESEBGBkBGhAxIRwtGCQOMQUbDhguHAgjLyMXDS8RHwokHRAhDgchAxonBRchHiErGRYBChchJxwrCBsFDzAWIx4wLCEeJBAmFyUlHA4EJyEfDSQKLx8aDgQhLw0wKSIrIxwfHiANKSIIKhkhCigiLCEFLRsIBxYuHAkfBAUNBhcvIyImIgsGICMiKxwFIiEMKCwmLAwlASgFAi4ZJhkwFgEZIRYfEzASARMOCwgSCSscCzEpHiwbGjEMJhslES4JBg0GJgQQJCsOHRgnJy0ZLi4DKhsMKwImGh0tHiYpICYVCAYEERUEIx4bDDAUKCwpIQoFCxUULAkeMAQJKAMmGSUeHxEKCAIgCwopIBgHHQIQHwwgLykSAxAxKhIsDyklFxoHMBUdLQcGGysuERgcGiYaKAETGiMQDQoIGxoDLSQpCCATDC0tDSwwLQcvLxAgCRowKC8UBgsdBx0rBBgDDCMIJikmDwUoEC4cDSkLJQMIJi8iJioYEhkNJxYeHiUtKw8jBgscHhAcGTAeLQ4bMB4KFCwHIhsXLi0ZHBINDS0iDhwNIgUoCiQGFSMQFB8FBgInFgsPDSEuDicCCioeIAkwECcFLg8EGBklGCoNFAUUEicxAywfHikYBRQYEQgVDiYgJCgEFRktAS8NEB0nHQwfFCMpHCMdLCcdIgolMAcJEBUOAhoiLzESDBMkJhAuCAkEJC8mMTEtBAgrBwMBBAEuKiYlDCoKLwECDCcwJAcmGQMbGBsGGSsfLAknHQ4kHSspJhYMKDEaLhwVGyEdGCAGGxAkLx4PCB8JKhUnJysUGiYrDjApFRMOCSoEFxYUExMXHy4TLBQaBhwpBDEsCTEOHx0xFgkLGSImBS8XFg==",
          "dtype": "i1"
         },
         "yaxis": "y2"
        },
        {
         "marker": {
          "color": "#005A30"
         },
         "name": "Interactions",
         "type": "box",
         "x": [
          "Not Churned",
          "Churned",
          "Not Churned",
          "Not Churned",
          "Not Churned",
          "Not Churned",
          "Not Churned",
          "Churned",
          "Not Churned",
          "Churned",
          "Not Churned",
          "Not Churned",
          "Not Churned",
          "Not Churned",
          "Not Churned",
          "Churned",
          "Not Churned",
          "Churned",
          "Not Churned",
          "Not Churned",
          "Not Churned",
          "Not Churned",
          "Not Churned",
          "Not Churned",
          "Not Churned",
          "Churned",
          "Not Churned",
          "Not Churned",
          "Not Churned",
          "Not Churned",
          "Not Churned",
          "Not Churned",
          "Churned",
          "Not Churned",
          "Not Churned",
          "Not Churned",
          "Not Churned",
          "Not Churned",
          "Not Churned",
          "Not Churned",
          "Churned",
          "Not Churned",
          "Not Churned",
          "Not Churned",
          "Not Churned",
          "Churned",
          "Not Churned",
          "Not Churned",
          "Not Churned",
          "Not Churned",
          "Churned",
          "Not Churned",
          "Not Churned",
          "Not Churned",
          "Not Churned",
          "Not Churned",
          "Not Churned",
          "Not Churned",
          "Not Churned",
          "Not Churned",
          "Churned",
          "Not Churned",
          "Not Churned",
          "Not Churned",
          "Not Churned",
          "Not Churned",
          "Not Churned",
          "Churned",
          "Not Churned",
          "Not Churned",
          "Churned",
          "Churned",
          "Churned",
          "Not Churned",
          "Churned",
          "Churned",
          "Not Churned",
          "Not Churned",
          "Churned",
          "Not Churned",
          "Churned",
          "Not Churned",
          "Not Churned",
          "Not Churned",
          "Not Churned",
          "Not Churned",
          "Not Churned",
          "Not Churned",
          "Not Churned",
          "Not Churned",
          "Not Churned",
          "Not Churned",
          "Not Churned",
          "Not Churned",
          "Not Churned",
          "Not Churned",
          "Not Churned",
          "Not Churned",
          "Not Churned",
          "Churned",
          "Not Churned",
          "Not Churned",
          "Not Churned",
          "Churned",
          "Not Churned",
          "Not Churned",
          "Churned",
          "Churned",
          "Not Churned",
          "Churned",
          "Churned",
          "Not Churned",
          "Not Churned",
          "Not Churned",
          "Not Churned",
          "Not Churned",
          "Not Churned",
          "Not Churned",
          "Churned",
          "Not Churned",
          "Not Churned",
          "Churned",
          "Churned",
          "Not Churned",
          "Not Churned",
          "Not Churned",
          "Not Churned",
          "Churned",
          "Not Churned",
          "Not Churned",
          "Not Churned",
          "Not Churned",
          "Not Churned",
          "Not Churned",
          "Not Churned",
          "Not Churned",
          "Churned",
          "Not Churned",
          "Not Churned",
          "Not Churned",
          "Not Churned",
          "Not Churned",
          "Not Churned",
          "Churned",
          "Not Churned",
          "Not Churned",
          "Not Churned",
          "Not Churned",
          "Not Churned",
          "Not Churned",
          "Not Churned",
          "Not Churned",
          "Not Churned",
          "Not Churned",
          "Not Churned",
          "Not Churned",
          "Not Churned",
          "Not Churned",
          "Not Churned",
          "Churned",
          "Not Churned",
          "Not Churned",
          "Not Churned",
          "Churned",
          "Not Churned",
          "Not Churned",
          "Not Churned",
          "Churned",
          "Not Churned",
          "Churned",
          "Not Churned",
          "Not Churned",
          "Not Churned",
          "Churned",
          "Not Churned",
          "Churned",
          "Not Churned",
          "Not Churned",
          "Not Churned",
          "Not Churned",
          "Not Churned",
          "Not Churned",
          "Churned",
          "Not Churned",
          "Not Churned",
          "Not Churned",
          "Not Churned",
          "Not Churned",
          "Not Churned",
          "Churned",
          "Not Churned",
          "Not Churned",
          "Not Churned",
          "Not Churned",
          "Not Churned",
          "Not Churned",
          "Churned",
          "Not Churned",
          "Not Churned",
          "Not Churned",
          "Churned",
          "Not Churned",
          "Not Churned",
          "Not Churned",
          "Not Churned",
          "Not Churned",
          "Not Churned",
          "Not Churned",
          "Not Churned",
          "Not Churned",
          "Not Churned",
          "Not Churned",
          "Churned",
          "Not Churned",
          "Not Churned",
          "Not Churned",
          "Churned",
          "Not Churned",
          "Not Churned",
          "Not Churned",
          "Churned",
          "Not Churned",
          "Not Churned",
          "Not Churned",
          "Not Churned",
          "Not Churned",
          "Churned",
          "Not Churned",
          "Not Churned",
          "Churned",
          "Churned",
          "Not Churned",
          "Not Churned",
          "Churned",
          "Not Churned",
          "Churned",
          "Churned",
          "Churned",
          "Churned",
          "Not Churned",
          "Not Churned",
          "Churned",
          "Not Churned",
          "Not Churned",
          "Not Churned",
          "Not Churned",
          "Not Churned",
          "Churned",
          "Not Churned",
          "Not Churned",
          "Churned",
          "Churned",
          "Not Churned",
          "Churned",
          "Not Churned",
          "Not Churned",
          "Not Churned",
          "Not Churned",
          "Not Churned",
          "Churned",
          "Churned",
          "Churned",
          "Not Churned",
          "Not Churned",
          "Not Churned",
          "Not Churned",
          "Not Churned",
          "Not Churned",
          "Not Churned",
          "Not Churned",
          "Churned",
          "Churned",
          "Not Churned",
          "Not Churned",
          "Not Churned",
          "Churned",
          "Not Churned",
          "Not Churned",
          "Not Churned",
          "Not Churned",
          "Not Churned",
          "Churned",
          "Churned",
          "Not Churned",
          "Not Churned",
          "Churned",
          "Not Churned",
          "Not Churned",
          "Not Churned",
          "Not Churned",
          "Not Churned",
          "Not Churned",
          "Not Churned",
          "Not Churned",
          "Not Churned",
          "Not Churned",
          "Not Churned",
          "Not Churned",
          "Not Churned",
          "Not Churned",
          "Not Churned",
          "Not Churned",
          "Not Churned",
          "Not Churned",
          "Not Churned",
          "Not Churned",
          "Not Churned",
          "Not Churned",
          "Not Churned",
          "Not Churned",
          "Churned",
          "Not Churned",
          "Not Churned",
          "Not Churned",
          "Churned",
          "Not Churned",
          "Not Churned",
          "Not Churned",
          "Not Churned",
          "Not Churned",
          "Not Churned",
          "Not Churned",
          "Churned",
          "Not Churned",
          "Not Churned",
          "Not Churned",
          "Not Churned",
          "Not Churned",
          "Not Churned",
          "Not Churned",
          "Not Churned",
          "Not Churned",
          "Not Churned",
          "Not Churned",
          "Churned",
          "Not Churned",
          "Not Churned",
          "Not Churned",
          "Not Churned",
          "Not Churned",
          "Not Churned",
          "Churned",
          "Not Churned",
          "Not Churned",
          "Not Churned",
          "Not Churned",
          "Not Churned",
          "Not Churned",
          "Not Churned",
          "Not Churned",
          "Churned",
          "Not Churned",
          "Churned",
          "Not Churned",
          "Not Churned",
          "Not Churned",
          "Not Churned",
          "Churned",
          "Not Churned",
          "Not Churned",
          "Not Churned",
          "Churned",
          "Not Churned",
          "Not Churned",
          "Churned",
          "Not Churned",
          "Not Churned",
          "Not Churned",
          "Not Churned",
          "Not Churned",
          "Not Churned",
          "Not Churned",
          "Not Churned",
          "Not Churned",
          "Not Churned",
          "Not Churned",
          "Not Churned",
          "Not Churned",
          "Not Churned",
          "Not Churned",
          "Churned",
          "Not Churned",
          "Not Churned",
          "Not Churned",
          "Churned",
          "Not Churned",
          "Not Churned",
          "Churned",
          "Churned",
          "Not Churned",
          "Not Churned",
          "Not Churned",
          "Not Churned",
          "Not Churned",
          "Churned",
          "Churned",
          "Not Churned",
          "Not Churned",
          "Not Churned",
          "Not Churned",
          "Not Churned",
          "Churned",
          "Not Churned",
          "Churned",
          "Not Churned",
          "Not Churned",
          "Churned",
          "Not Churned",
          "Not Churned",
          "Not Churned",
          "Churned",
          "Not Churned",
          "Not Churned",
          "Not Churned",
          "Not Churned",
          "Not Churned",
          "Not Churned",
          "Not Churned",
          "Churned",
          "Not Churned",
          "Not Churned",
          "Churned",
          "Not Churned",
          "Not Churned",
          "Not Churned",
          "Not Churned",
          "Not Churned",
          "Not Churned",
          "Not Churned",
          "Not Churned",
          "Not Churned",
          "Not Churned",
          "Churned",
          "Not Churned",
          "Not Churned",
          "Not Churned",
          "Not Churned",
          "Not Churned",
          "Not Churned",
          "Not Churned",
          "Churned",
          "Not Churned",
          "Not Churned",
          "Not Churned",
          "Not Churned",
          "Not Churned",
          "Not Churned",
          "Not Churned",
          "Not Churned",
          "Churned",
          "Not Churned",
          "Not Churned",
          "Not Churned",
          "Not Churned",
          "Not Churned",
          "Not Churned",
          "Not Churned",
          "Not Churned",
          "Not Churned",
          "Not Churned",
          "Not Churned",
          "Churned",
          "Not Churned",
          "Not Churned",
          "Not Churned",
          "Churned",
          "Not Churned",
          "Not Churned",
          "Churned",
          "Churned",
          "Not Churned",
          "Not Churned",
          "Not Churned",
          "Not Churned",
          "Not Churned",
          "Not Churned",
          "Not Churned",
          "Churned",
          "Not Churned",
          "Churned",
          "Not Churned",
          "Churned",
          "Not Churned",
          "Not Churned",
          "Not Churned",
          "Not Churned",
          "Not Churned",
          "Churned",
          "Not Churned",
          "Not Churned",
          "Churned",
          "Not Churned",
          "Not Churned",
          "Not Churned",
          "Not Churned",
          "Not Churned",
          "Not Churned",
          "Churned",
          "Not Churned",
          "Not Churned",
          "Not Churned",
          "Not Churned",
          "Not Churned",
          "Not Churned",
          "Not Churned",
          "Churned",
          "Churned",
          "Not Churned",
          "Churned",
          "Churned",
          "Churned",
          "Not Churned",
          "Not Churned",
          "Not Churned",
          "Not Churned",
          "Churned",
          "Not Churned",
          "Churned",
          "Not Churned",
          "Not Churned",
          "Churned",
          "Not Churned",
          "Not Churned",
          "Not Churned",
          "Not Churned",
          "Not Churned",
          "Not Churned",
          "Not Churned",
          "Not Churned",
          "Churned",
          "Churned",
          "Not Churned",
          "Not Churned",
          "Not Churned",
          "Not Churned",
          "Not Churned",
          "Churned",
          "Not Churned",
          "Not Churned",
          "Not Churned",
          "Not Churned",
          "Not Churned",
          "Churned",
          "Not Churned",
          "Churned",
          "Not Churned",
          "Not Churned",
          "Not Churned",
          "Not Churned",
          "Not Churned",
          "Not Churned",
          "Not Churned",
          "Not Churned",
          "Not Churned",
          "Not Churned",
          "Not Churned",
          "Not Churned",
          "Not Churned",
          "Not Churned",
          "Churned",
          "Not Churned",
          "Churned",
          "Not Churned",
          "Not Churned",
          "Churned",
          "Not Churned",
          "Not Churned",
          "Not Churned",
          "Not Churned",
          "Not Churned",
          "Not Churned",
          "Not Churned",
          "Not Churned",
          "Churned",
          "Not Churned",
          "Churned",
          "Churned",
          "Not Churned",
          "Churned",
          "Not Churned",
          "Not Churned",
          "Not Churned",
          "Not Churned",
          "Not Churned",
          "Not Churned",
          "Churned",
          "Not Churned",
          "Churned",
          "Churned",
          "Not Churned",
          "Not Churned",
          "Not Churned",
          "Not Churned",
          "Not Churned",
          "Not Churned",
          "Not Churned",
          "Not Churned",
          "Not Churned",
          "Not Churned",
          "Not Churned",
          "Not Churned",
          "Churned",
          "Not Churned",
          "Not Churned",
          "Churned",
          "Not Churned",
          "Churned",
          "Not Churned",
          "Not Churned",
          "Not Churned",
          "Not Churned",
          "Not Churned",
          "Not Churned",
          "Churned",
          "Not Churned",
          "Churned",
          "Churned",
          "Churned",
          "Churned",
          "Not Churned",
          "Not Churned",
          "Not Churned",
          "Not Churned",
          "Not Churned",
          "Churned",
          "Not Churned",
          "Churned",
          "Not Churned",
          "Not Churned",
          "Churned",
          "Not Churned",
          "Not Churned",
          "Not Churned",
          "Not Churned",
          "Not Churned",
          "Not Churned",
          "Not Churned",
          "Not Churned",
          "Not Churned",
          "Not Churned",
          "Churned",
          "Not Churned",
          "Churned",
          "Churned",
          "Not Churned",
          "Churned",
          "Not Churned",
          "Not Churned",
          "Not Churned",
          "Churned",
          "Not Churned",
          "Not Churned",
          "Not Churned",
          "Not Churned",
          "Not Churned",
          "Not Churned",
          "Churned",
          "Churned",
          "Not Churned",
          "Not Churned",
          "Not Churned",
          "Not Churned",
          "Not Churned",
          "Not Churned",
          "Not Churned",
          "Not Churned",
          "Not Churned",
          "Not Churned",
          "Not Churned",
          "Not Churned",
          "Not Churned",
          "Not Churned",
          "Not Churned",
          "Churned",
          "Not Churned",
          "Not Churned",
          "Churned",
          "Not Churned",
          "Not Churned",
          "Not Churned",
          "Not Churned",
          "Churned",
          "Not Churned",
          "Not Churned",
          "Churned",
          "Not Churned",
          "Not Churned",
          "Not Churned",
          "Not Churned",
          "Not Churned",
          "Churned",
          "Not Churned",
          "Not Churned",
          "Not Churned",
          "Churned",
          "Churned",
          "Not Churned",
          "Not Churned",
          "Churned",
          "Not Churned",
          "Not Churned",
          "Churned",
          "Not Churned",
          "Not Churned",
          "Not Churned",
          "Not Churned",
          "Not Churned",
          "Not Churned",
          "Not Churned",
          "Not Churned",
          "Not Churned",
          "Not Churned",
          "Not Churned",
          "Not Churned",
          "Not Churned",
          "Churned",
          "Not Churned",
          "Not Churned",
          "Not Churned",
          "Not Churned",
          "Not Churned",
          "Not Churned",
          "Not Churned",
          "Not Churned",
          "Not Churned",
          "Not Churned",
          "Not Churned",
          "Not Churned",
          "Not Churned",
          "Not Churned",
          "Not Churned",
          "Not Churned",
          "Churned",
          "Not Churned",
          "Not Churned",
          "Not Churned",
          "Not Churned",
          "Not Churned",
          "Not Churned",
          "Not Churned",
          "Not Churned",
          "Churned",
          "Not Churned",
          "Not Churned",
          "Not Churned",
          "Not Churned",
          "Not Churned",
          "Churned",
          "Not Churned",
          "Not Churned",
          "Not Churned",
          "Not Churned",
          "Churned",
          "Not Churned",
          "Not Churned",
          "Not Churned",
          "Churned",
          "Not Churned",
          "Not Churned",
          "Not Churned",
          "Not Churned",
          "Churned",
          "Churned",
          "Not Churned",
          "Not Churned",
          "Not Churned",
          "Not Churned",
          "Not Churned",
          "Not Churned",
          "Not Churned",
          "Not Churned",
          "Not Churned",
          "Not Churned",
          "Not Churned",
          "Churned",
          "Not Churned",
          "Churned",
          "Not Churned",
          "Not Churned",
          "Not Churned",
          "Not Churned",
          "Churned",
          "Not Churned",
          "Not Churned",
          "Not Churned",
          "Not Churned",
          "Not Churned",
          "Churned",
          "Churned",
          "Not Churned",
          "Churned",
          "Not Churned",
          "Not Churned",
          "Not Churned",
          "Not Churned",
          "Not Churned",
          "Not Churned",
          "Not Churned",
          "Churned",
          "Not Churned",
          "Not Churned",
          "Not Churned",
          "Not Churned",
          "Not Churned",
          "Not Churned",
          "Churned",
          "Churned",
          "Not Churned",
          "Not Churned",
          "Not Churned",
          "Not Churned",
          "Churned",
          "Not Churned",
          "Not Churned",
          "Not Churned",
          "Not Churned",
          "Not Churned",
          "Not Churned",
          "Not Churned",
          "Not Churned",
          "Not Churned",
          "Not Churned",
          "Churned",
          "Not Churned",
          "Not Churned",
          "Churned",
          "Churned",
          "Not Churned",
          "Not Churned",
          "Not Churned",
          "Churned",
          "Not Churned",
          "Not Churned",
          "Not Churned",
          "Not Churned",
          "Churned",
          "Not Churned",
          "Not Churned",
          "Not Churned",
          "Not Churned",
          "Churned",
          "Not Churned",
          "Not Churned",
          "Not Churned",
          "Not Churned",
          "Not Churned",
          "Not Churned",
          "Churned",
          "Not Churned",
          "Churned",
          "Not Churned",
          "Not Churned",
          "Not Churned",
          "Not Churned",
          "Not Churned",
          "Not Churned",
          "Churned",
          "Not Churned",
          "Not Churned",
          "Not Churned",
          "Not Churned",
          "Not Churned",
          "Not Churned",
          "Not Churned",
          "Not Churned",
          "Not Churned",
          "Not Churned",
          "Not Churned",
          "Churned",
          "Not Churned",
          "Not Churned",
          "Not Churned",
          "Not Churned",
          "Not Churned",
          "Not Churned",
          "Not Churned",
          "Not Churned",
          "Not Churned",
          "Not Churned",
          "Not Churned",
          "Not Churned",
          "Not Churned",
          "Not Churned",
          "Not Churned",
          "Not Churned",
          "Not Churned",
          "Not Churned",
          "Not Churned",
          "Not Churned",
          "Not Churned",
          "Not Churned",
          "Not Churned",
          "Not Churned",
          "Not Churned",
          "Not Churned",
          "Not Churned",
          "Not Churned",
          "Not Churned",
          "Churned",
          "Not Churned",
          "Not Churned",
          "Not Churned",
          "Churned",
          "Not Churned",
          "Not Churned",
          "Churned",
          "Not Churned",
          "Not Churned",
          "Not Churned",
          "Not Churned",
          "Not Churned",
          "Not Churned",
          "Not Churned",
          "Not Churned",
          "Not Churned",
          "Not Churned",
          "Not Churned",
          "Churned",
          "Churned",
          "Not Churned",
          "Not Churned",
          "Not Churned",
          "Not Churned",
          "Churned",
          "Churned",
          "Churned",
          "Churned",
          "Not Churned",
          "Not Churned",
          "Not Churned",
          "Not Churned",
          "Not Churned",
          "Not Churned",
          "Not Churned",
          "Churned",
          "Not Churned",
          "Churned",
          "Not Churned",
          "Not Churned",
          "Not Churned",
          "Not Churned",
          "Not Churned",
          "Not Churned",
          "Not Churned",
          "Not Churned",
          "Not Churned",
          "Churned",
          "Churned",
          "Not Churned",
          "Not Churned",
          "Not Churned",
          "Not Churned",
          "Not Churned",
          "Not Churned",
          "Not Churned",
          "Not Churned",
          "Not Churned",
          "Not Churned",
          "Not Churned",
          "Not Churned",
          "Not Churned",
          "Churned",
          "Not Churned",
          "Not Churned",
          "Churned",
          "Churned",
          "Not Churned",
          "Not Churned",
          "Not Churned",
          "Churned",
          "Churned",
          "Not Churned",
          "Not Churned",
          "Not Churned",
          "Churned",
          "Not Churned",
          "Not Churned",
          "Not Churned",
          "Churned",
          "Not Churned",
          "Not Churned",
          "Churned",
          "Not Churned",
          "Not Churned",
          "Not Churned",
          "Not Churned",
          "Churned",
          "Not Churned",
          "Churned",
          "Churned",
          "Not Churned",
          "Not Churned",
          "Not Churned",
          "Not Churned",
          "Churned",
          "Not Churned",
          "Not Churned",
          "Not Churned",
          "Not Churned",
          "Not Churned"
         ],
         "xaxis": "x3",
         "y": {
          "bdata": "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",
          "dtype": "f8"
         },
         "yaxis": "y3"
        },
        {
         "marker": {
          "color": "#000000"
         },
         "name": "Unresolved",
         "type": "box",
         "x": [
          "Not Churned",
          "Churned",
          "Not Churned",
          "Not Churned",
          "Not Churned",
          "Not Churned",
          "Not Churned",
          "Churned",
          "Not Churned",
          "Churned",
          "Not Churned",
          "Not Churned",
          "Not Churned",
          "Not Churned",
          "Not Churned",
          "Churned",
          "Not Churned",
          "Churned",
          "Not Churned",
          "Not Churned",
          "Not Churned",
          "Not Churned",
          "Not Churned",
          "Not Churned",
          "Not Churned",
          "Churned",
          "Not Churned",
          "Not Churned",
          "Not Churned",
          "Not Churned",
          "Not Churned",
          "Not Churned",
          "Churned",
          "Not Churned",
          "Not Churned",
          "Not Churned",
          "Not Churned",
          "Not Churned",
          "Not Churned",
          "Not Churned",
          "Churned",
          "Not Churned",
          "Not Churned",
          "Not Churned",
          "Not Churned",
          "Churned",
          "Not Churned",
          "Not Churned",
          "Not Churned",
          "Not Churned",
          "Churned",
          "Not Churned",
          "Not Churned",
          "Not Churned",
          "Not Churned",
          "Not Churned",
          "Not Churned",
          "Not Churned",
          "Not Churned",
          "Not Churned",
          "Churned",
          "Not Churned",
          "Not Churned",
          "Not Churned",
          "Not Churned",
          "Not Churned",
          "Not Churned",
          "Churned",
          "Not Churned",
          "Not Churned",
          "Churned",
          "Churned",
          "Churned",
          "Not Churned",
          "Churned",
          "Churned",
          "Not Churned",
          "Not Churned",
          "Churned",
          "Not Churned",
          "Churned",
          "Not Churned",
          "Not Churned",
          "Not Churned",
          "Not Churned",
          "Not Churned",
          "Not Churned",
          "Not Churned",
          "Not Churned",
          "Not Churned",
          "Not Churned",
          "Not Churned",
          "Not Churned",
          "Not Churned",
          "Not Churned",
          "Not Churned",
          "Not Churned",
          "Not Churned",
          "Not Churned",
          "Churned",
          "Not Churned",
          "Not Churned",
          "Not Churned",
          "Churned",
          "Not Churned",
          "Not Churned",
          "Churned",
          "Churned",
          "Not Churned",
          "Churned",
          "Churned",
          "Not Churned",
          "Not Churned",
          "Not Churned",
          "Not Churned",
          "Not Churned",
          "Not Churned",
          "Not Churned",
          "Churned",
          "Not Churned",
          "Not Churned",
          "Churned",
          "Churned",
          "Not Churned",
          "Not Churned",
          "Not Churned",
          "Not Churned",
          "Churned",
          "Not Churned",
          "Not Churned",
          "Not Churned",
          "Not Churned",
          "Not Churned",
          "Not Churned",
          "Not Churned",
          "Not Churned",
          "Churned",
          "Not Churned",
          "Not Churned",
          "Not Churned",
          "Not Churned",
          "Not Churned",
          "Not Churned",
          "Churned",
          "Not Churned",
          "Not Churned",
          "Not Churned",
          "Not Churned",
          "Not Churned",
          "Not Churned",
          "Not Churned",
          "Not Churned",
          "Not Churned",
          "Not Churned",
          "Not Churned",
          "Not Churned",
          "Not Churned",
          "Not Churned",
          "Not Churned",
          "Churned",
          "Not Churned",
          "Not Churned",
          "Not Churned",
          "Churned",
          "Not Churned",
          "Not Churned",
          "Not Churned",
          "Churned",
          "Not Churned",
          "Churned",
          "Not Churned",
          "Not Churned",
          "Not Churned",
          "Churned",
          "Not Churned",
          "Churned",
          "Not Churned",
          "Not Churned",
          "Not Churned",
          "Not Churned",
          "Not Churned",
          "Not Churned",
          "Churned",
          "Not Churned",
          "Not Churned",
          "Not Churned",
          "Not Churned",
          "Not Churned",
          "Not Churned",
          "Churned",
          "Not Churned",
          "Not Churned",
          "Not Churned",
          "Not Churned",
          "Not Churned",
          "Not Churned",
          "Churned",
          "Not Churned",
          "Not Churned",
          "Not Churned",
          "Churned",
          "Not Churned",
          "Not Churned",
          "Not Churned",
          "Not Churned",
          "Not Churned",
          "Not Churned",
          "Not Churned",
          "Not Churned",
          "Not Churned",
          "Not Churned",
          "Not Churned",
          "Churned",
          "Not Churned",
          "Not Churned",
          "Not Churned",
          "Churned",
          "Not Churned",
          "Not Churned",
          "Not Churned",
          "Churned",
          "Not Churned",
          "Not Churned",
          "Not Churned",
          "Not Churned",
          "Not Churned",
          "Churned",
          "Not Churned",
          "Not Churned",
          "Churned",
          "Churned",
          "Not Churned",
          "Not Churned",
          "Churned",
          "Not Churned",
          "Churned",
          "Churned",
          "Churned",
          "Churned",
          "Not Churned",
          "Not Churned",
          "Churned",
          "Not Churned",
          "Not Churned",
          "Not Churned",
          "Not Churned",
          "Not Churned",
          "Churned",
          "Not Churned",
          "Not Churned",
          "Churned",
          "Churned",
          "Not Churned",
          "Churned",
          "Not Churned",
          "Not Churned",
          "Not Churned",
          "Not Churned",
          "Not Churned",
          "Churned",
          "Churned",
          "Churned",
          "Not Churned",
          "Not Churned",
          "Not Churned",
          "Not Churned",
          "Not Churned",
          "Not Churned",
          "Not Churned",
          "Not Churned",
          "Churned",
          "Churned",
          "Not Churned",
          "Not Churned",
          "Not Churned",
          "Churned",
          "Not Churned",
          "Not Churned",
          "Not Churned",
          "Not Churned",
          "Not Churned",
          "Churned",
          "Churned",
          "Not Churned",
          "Not Churned",
          "Churned",
          "Not Churned",
          "Not Churned",
          "Not Churned",
          "Not Churned",
          "Not Churned",
          "Not Churned",
          "Not Churned",
          "Not Churned",
          "Not Churned",
          "Not Churned",
          "Not Churned",
          "Not Churned",
          "Not Churned",
          "Not Churned",
          "Not Churned",
          "Not Churned",
          "Not Churned",
          "Not Churned",
          "Not Churned",
          "Not Churned",
          "Not Churned",
          "Not Churned",
          "Not Churned",
          "Not Churned",
          "Churned",
          "Not Churned",
          "Not Churned",
          "Not Churned",
          "Churned",
          "Not Churned",
          "Not Churned",
          "Not Churned",
          "Not Churned",
          "Not Churned",
          "Not Churned",
          "Not Churned",
          "Churned",
          "Not Churned",
          "Not Churned",
          "Not Churned",
          "Not Churned",
          "Not Churned",
          "Not Churned",
          "Not Churned",
          "Not Churned",
          "Not Churned",
          "Not Churned",
          "Not Churned",
          "Churned",
          "Not Churned",
          "Not Churned",
          "Not Churned",
          "Not Churned",
          "Not Churned",
          "Not Churned",
          "Churned",
          "Not Churned",
          "Not Churned",
          "Not Churned",
          "Not Churned",
          "Not Churned",
          "Not Churned",
          "Not Churned",
          "Not Churned",
          "Churned",
          "Not Churned",
          "Churned",
          "Not Churned",
          "Not Churned",
          "Not Churned",
          "Not Churned",
          "Churned",
          "Not Churned",
          "Not Churned",
          "Not Churned",
          "Churned",
          "Not Churned",
          "Not Churned",
          "Churned",
          "Not Churned",
          "Not Churned",
          "Not Churned",
          "Not Churned",
          "Not Churned",
          "Not Churned",
          "Not Churned",
          "Not Churned",
          "Not Churned",
          "Not Churned",
          "Not Churned",
          "Not Churned",
          "Not Churned",
          "Not Churned",
          "Not Churned",
          "Churned",
          "Not Churned",
          "Not Churned",
          "Not Churned",
          "Churned",
          "Not Churned",
          "Not Churned",
          "Churned",
          "Churned",
          "Not Churned",
          "Not Churned",
          "Not Churned",
          "Not Churned",
          "Not Churned",
          "Churned",
          "Churned",
          "Not Churned",
          "Not Churned",
          "Not Churned",
          "Not Churned",
          "Not Churned",
          "Churned",
          "Not Churned",
          "Churned",
          "Not Churned",
          "Not Churned",
          "Churned",
          "Not Churned",
          "Not Churned",
          "Not Churned",
          "Churned",
          "Not Churned",
          "Not Churned",
          "Not Churned",
          "Not Churned",
          "Not Churned",
          "Not Churned",
          "Not Churned",
          "Churned",
          "Not Churned",
          "Not Churned",
          "Churned",
          "Not Churned",
          "Not Churned",
          "Not Churned",
          "Not Churned",
          "Not Churned",
          "Not Churned",
          "Not Churned",
          "Not Churned",
          "Not Churned",
          "Not Churned",
          "Churned",
          "Not Churned",
          "Not Churned",
          "Not Churned",
          "Not Churned",
          "Not Churned",
          "Not Churned",
          "Not Churned",
          "Churned",
          "Not Churned",
          "Not Churned",
          "Not Churned",
          "Not Churned",
          "Not Churned",
          "Not Churned",
          "Not Churned",
          "Not Churned",
          "Churned",
          "Not Churned",
          "Not Churned",
          "Not Churned",
          "Not Churned",
          "Not Churned",
          "Not Churned",
          "Not Churned",
          "Not Churned",
          "Not Churned",
          "Not Churned",
          "Not Churned",
          "Churned",
          "Not Churned",
          "Not Churned",
          "Not Churned",
          "Churned",
          "Not Churned",
          "Not Churned",
          "Churned",
          "Churned",
          "Not Churned",
          "Not Churned",
          "Not Churned",
          "Not Churned",
          "Not Churned",
          "Not Churned",
          "Not Churned",
          "Churned",
          "Not Churned",
          "Churned",
          "Not Churned",
          "Churned",
          "Not Churned",
          "Not Churned",
          "Not Churned",
          "Not Churned",
          "Not Churned",
          "Churned",
          "Not Churned",
          "Not Churned",
          "Churned",
          "Not Churned",
          "Not Churned",
          "Not Churned",
          "Not Churned",
          "Not Churned",
          "Not Churned",
          "Churned",
          "Not Churned",
          "Not Churned",
          "Not Churned",
          "Not Churned",
          "Not Churned",
          "Not Churned",
          "Not Churned",
          "Churned",
          "Churned",
          "Not Churned",
          "Churned",
          "Churned",
          "Churned",
          "Not Churned",
          "Not Churned",
          "Not Churned",
          "Not Churned",
          "Churned",
          "Not Churned",
          "Churned",
          "Not Churned",
          "Not Churned",
          "Churned",
          "Not Churned",
          "Not Churned",
          "Not Churned",
          "Not Churned",
          "Not Churned",
          "Not Churned",
          "Not Churned",
          "Not Churned",
          "Churned",
          "Churned",
          "Not Churned",
          "Not Churned",
          "Not Churned",
          "Not Churned",
          "Not Churned",
          "Churned",
          "Not Churned",
          "Not Churned",
          "Not Churned",
          "Not Churned",
          "Not Churned",
          "Churned",
          "Not Churned",
          "Churned",
          "Not Churned",
          "Not Churned",
          "Not Churned",
          "Not Churned",
          "Not Churned",
          "Not Churned",
          "Not Churned",
          "Not Churned",
          "Not Churned",
          "Not Churned",
          "Not Churned",
          "Not Churned",
          "Not Churned",
          "Not Churned",
          "Churned",
          "Not Churned",
          "Churned",
          "Not Churned",
          "Not Churned",
          "Churned",
          "Not Churned",
          "Not Churned",
          "Not Churned",
          "Not Churned",
          "Not Churned",
          "Not Churned",
          "Not Churned",
          "Not Churned",
          "Churned",
          "Not Churned",
          "Churned",
          "Churned",
          "Not Churned",
          "Churned",
          "Not Churned",
          "Not Churned",
          "Not Churned",
          "Not Churned",
          "Not Churned",
          "Not Churned",
          "Churned",
          "Not Churned",
          "Churned",
          "Churned",
          "Not Churned",
          "Not Churned",
          "Not Churned",
          "Not Churned",
          "Not Churned",
          "Not Churned",
          "Not Churned",
          "Not Churned",
          "Not Churned",
          "Not Churned",
          "Not Churned",
          "Not Churned",
          "Churned",
          "Not Churned",
          "Not Churned",
          "Churned",
          "Not Churned",
          "Churned",
          "Not Churned",
          "Not Churned",
          "Not Churned",
          "Not Churned",
          "Not Churned",
          "Not Churned",
          "Churned",
          "Not Churned",
          "Churned",
          "Churned",
          "Churned",
          "Churned",
          "Not Churned",
          "Not Churned",
          "Not Churned",
          "Not Churned",
          "Not Churned",
          "Churned",
          "Not Churned",
          "Churned",
          "Not Churned",
          "Not Churned",
          "Churned",
          "Not Churned",
          "Not Churned",
          "Not Churned",
          "Not Churned",
          "Not Churned",
          "Not Churned",
          "Not Churned",
          "Not Churned",
          "Not Churned",
          "Not Churned",
          "Churned",
          "Not Churned",
          "Churned",
          "Churned",
          "Not Churned",
          "Churned",
          "Not Churned",
          "Not Churned",
          "Not Churned",
          "Churned",
          "Not Churned",
          "Not Churned",
          "Not Churned",
          "Not Churned",
          "Not Churned",
          "Not Churned",
          "Churned",
          "Churned",
          "Not Churned",
          "Not Churned",
          "Not Churned",
          "Not Churned",
          "Not Churned",
          "Not Churned",
          "Not Churned",
          "Not Churned",
          "Not Churned",
          "Not Churned",
          "Not Churned",
          "Not Churned",
          "Not Churned",
          "Not Churned",
          "Not Churned",
          "Churned",
          "Not Churned",
          "Not Churned",
          "Churned",
          "Not Churned",
          "Not Churned",
          "Not Churned",
          "Not Churned",
          "Churned",
          "Not Churned",
          "Not Churned",
          "Churned",
          "Not Churned",
          "Not Churned",
          "Not Churned",
          "Not Churned",
          "Not Churned",
          "Churned",
          "Not Churned",
          "Not Churned",
          "Not Churned",
          "Churned",
          "Churned",
          "Not Churned",
          "Not Churned",
          "Churned",
          "Not Churned",
          "Not Churned",
          "Churned",
          "Not Churned",
          "Not Churned",
          "Not Churned",
          "Not Churned",
          "Not Churned",
          "Not Churned",
          "Not Churned",
          "Not Churned",
          "Not Churned",
          "Not Churned",
          "Not Churned",
          "Not Churned",
          "Not Churned",
          "Churned",
          "Not Churned",
          "Not Churned",
          "Not Churned",
          "Not Churned",
          "Not Churned",
          "Not Churned",
          "Not Churned",
          "Not Churned",
          "Not Churned",
          "Not Churned",
          "Not Churned",
          "Not Churned",
          "Not Churned",
          "Not Churned",
          "Not Churned",
          "Not Churned",
          "Churned",
          "Not Churned",
          "Not Churned",
          "Not Churned",
          "Not Churned",
          "Not Churned",
          "Not Churned",
          "Not Churned",
          "Not Churned",
          "Churned",
          "Not Churned",
          "Not Churned",
          "Not Churned",
          "Not Churned",
          "Not Churned",
          "Churned",
          "Not Churned",
          "Not Churned",
          "Not Churned",
          "Not Churned",
          "Churned",
          "Not Churned",
          "Not Churned",
          "Not Churned",
          "Churned",
          "Not Churned",
          "Not Churned",
          "Not Churned",
          "Not Churned",
          "Churned",
          "Churned",
          "Not Churned",
          "Not Churned",
          "Not Churned",
          "Not Churned",
          "Not Churned",
          "Not Churned",
          "Not Churned",
          "Not Churned",
          "Not Churned",
          "Not Churned",
          "Not Churned",
          "Churned",
          "Not Churned",
          "Churned",
          "Not Churned",
          "Not Churned",
          "Not Churned",
          "Not Churned",
          "Churned",
          "Not Churned",
          "Not Churned",
          "Not Churned",
          "Not Churned",
          "Not Churned",
          "Churned",
          "Churned",
          "Not Churned",
          "Churned",
          "Not Churned",
          "Not Churned",
          "Not Churned",
          "Not Churned",
          "Not Churned",
          "Not Churned",
          "Not Churned",
          "Churned",
          "Not Churned",
          "Not Churned",
          "Not Churned",
          "Not Churned",
          "Not Churned",
          "Not Churned",
          "Churned",
          "Churned",
          "Not Churned",
          "Not Churned",
          "Not Churned",
          "Not Churned",
          "Churned",
          "Not Churned",
          "Not Churned",
          "Not Churned",
          "Not Churned",
          "Not Churned",
          "Not Churned",
          "Not Churned",
          "Not Churned",
          "Not Churned",
          "Not Churned",
          "Churned",
          "Not Churned",
          "Not Churned",
          "Churned",
          "Churned",
          "Not Churned",
          "Not Churned",
          "Not Churned",
          "Churned",
          "Not Churned",
          "Not Churned",
          "Not Churned",
          "Not Churned",
          "Churned",
          "Not Churned",
          "Not Churned",
          "Not Churned",
          "Not Churned",
          "Churned",
          "Not Churned",
          "Not Churned",
          "Not Churned",
          "Not Churned",
          "Not Churned",
          "Not Churned",
          "Churned",
          "Not Churned",
          "Churned",
          "Not Churned",
          "Not Churned",
          "Not Churned",
          "Not Churned",
          "Not Churned",
          "Not Churned",
          "Churned",
          "Not Churned",
          "Not Churned",
          "Not Churned",
          "Not Churned",
          "Not Churned",
          "Not Churned",
          "Not Churned",
          "Not Churned",
          "Not Churned",
          "Not Churned",
          "Not Churned",
          "Churned",
          "Not Churned",
          "Not Churned",
          "Not Churned",
          "Not Churned",
          "Not Churned",
          "Not Churned",
          "Not Churned",
          "Not Churned",
          "Not Churned",
          "Not Churned",
          "Not Churned",
          "Not Churned",
          "Not Churned",
          "Not Churned",
          "Not Churned",
          "Not Churned",
          "Not Churned",
          "Not Churned",
          "Not Churned",
          "Not Churned",
          "Not Churned",
          "Not Churned",
          "Not Churned",
          "Not Churned",
          "Not Churned",
          "Not Churned",
          "Not Churned",
          "Not Churned",
          "Not Churned",
          "Churned",
          "Not Churned",
          "Not Churned",
          "Not Churned",
          "Churned",
          "Not Churned",
          "Not Churned",
          "Churned",
          "Not Churned",
          "Not Churned",
          "Not Churned",
          "Not Churned",
          "Not Churned",
          "Not Churned",
          "Not Churned",
          "Not Churned",
          "Not Churned",
          "Not Churned",
          "Not Churned",
          "Churned",
          "Churned",
          "Not Churned",
          "Not Churned",
          "Not Churned",
          "Not Churned",
          "Churned",
          "Churned",
          "Churned",
          "Churned",
          "Not Churned",
          "Not Churned",
          "Not Churned",
          "Not Churned",
          "Not Churned",
          "Not Churned",
          "Not Churned",
          "Churned",
          "Not Churned",
          "Churned",
          "Not Churned",
          "Not Churned",
          "Not Churned",
          "Not Churned",
          "Not Churned",
          "Not Churned",
          "Not Churned",
          "Not Churned",
          "Not Churned",
          "Churned",
          "Churned",
          "Not Churned",
          "Not Churned",
          "Not Churned",
          "Not Churned",
          "Not Churned",
          "Not Churned",
          "Not Churned",
          "Not Churned",
          "Not Churned",
          "Not Churned",
          "Not Churned",
          "Not Churned",
          "Not Churned",
          "Churned",
          "Not Churned",
          "Not Churned",
          "Churned",
          "Churned",
          "Not Churned",
          "Not Churned",
          "Not Churned",
          "Churned",
          "Churned",
          "Not Churned",
          "Not Churned",
          "Not Churned",
          "Churned",
          "Not Churned",
          "Not Churned",
          "Not Churned",
          "Churned",
          "Not Churned",
          "Not Churned",
          "Churned",
          "Not Churned",
          "Not Churned",
          "Not Churned",
          "Not Churned",
          "Churned",
          "Not Churned",
          "Churned",
          "Churned",
          "Not Churned",
          "Not Churned",
          "Not Churned",
          "Not Churned",
          "Churned",
          "Not Churned",
          "Not Churned",
          "Not Churned",
          "Not Churned",
          "Not Churned"
         ],
         "xaxis": "x4",
         "y": {
          "bdata": "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",
          "dtype": "f8"
         },
         "yaxis": "y4"
        }
       ],
       "layout": {
        "annotations": [
         {
          "font": {
           "size": 16
          },
          "showarrow": false,
          "text": "Total Spent vs Churn",
          "x": 0.225,
          "xanchor": "center",
          "xref": "paper",
          "y": 1,
          "yanchor": "bottom",
          "yref": "paper"
         },
         {
          "font": {
           "size": 16
          },
          "showarrow": false,
          "text": "Login Frequency vs Churn",
          "x": 0.775,
          "xanchor": "center",
          "xref": "paper",
          "y": 1,
          "yanchor": "bottom",
          "yref": "paper"
         },
         {
          "font": {
           "size": 16
          },
          "showarrow": false,
          "text": "Num Interactions vs Churn",
          "x": 0.225,
          "xanchor": "center",
          "xref": "paper",
          "y": 0.375,
          "yanchor": "bottom",
          "yref": "paper"
         },
         {
          "font": {
           "size": 16
          },
          "showarrow": false,
          "text": "Unresolved Issues vs Churn",
          "x": 0.775,
          "xanchor": "center",
          "xref": "paper",
          "y": 0.375,
          "yanchor": "bottom",
          "yref": "paper"
         }
        ],
        "height": 700,
        "showlegend": false,
        "template": {
         "data": {
          "bar": [
           {
            "error_x": {
             "color": "rgb(36,36,36)"
            },
            "error_y": {
             "color": "rgb(36,36,36)"
            },
            "marker": {
             "line": {
              "color": "white",
              "width": 0.5
             },
             "pattern": {
              "fillmode": "overlay",
              "size": 10,
              "solidity": 0.2
             }
            },
            "type": "bar"
           }
          ],
          "barpolar": [
           {
            "marker": {
             "line": {
              "color": "white",
              "width": 0.5
             },
             "pattern": {
              "fillmode": "overlay",
              "size": 10,
              "solidity": 0.2
             }
            },
            "type": "barpolar"
           }
          ],
          "carpet": [
           {
            "aaxis": {
             "endlinecolor": "rgb(36,36,36)",
             "gridcolor": "white",
             "linecolor": "white",
             "minorgridcolor": "white",
             "startlinecolor": "rgb(36,36,36)"
            },
            "baxis": {
             "endlinecolor": "rgb(36,36,36)",
             "gridcolor": "white",
             "linecolor": "white",
             "minorgridcolor": "white",
             "startlinecolor": "rgb(36,36,36)"
            },
            "type": "carpet"
           }
          ],
          "choropleth": [
           {
            "colorbar": {
             "outlinewidth": 1,
             "tickcolor": "rgb(36,36,36)",
             "ticks": "outside"
            },
            "type": "choropleth"
           }
          ],
          "contour": [
           {
            "colorbar": {
             "outlinewidth": 1,
             "tickcolor": "rgb(36,36,36)",
             "ticks": "outside"
            },
            "colorscale": [
             [
              0,
              "#440154"
             ],
             [
              0.1111111111111111,
              "#482878"
             ],
             [
              0.2222222222222222,
              "#3e4989"
             ],
             [
              0.3333333333333333,
              "#31688e"
             ],
             [
              0.4444444444444444,
              "#26828e"
             ],
             [
              0.5555555555555556,
              "#1f9e89"
             ],
             [
              0.6666666666666666,
              "#35b779"
             ],
             [
              0.7777777777777778,
              "#6ece58"
             ],
             [
              0.8888888888888888,
              "#b5de2b"
             ],
             [
              1,
              "#fde725"
             ]
            ],
            "type": "contour"
           }
          ],
          "contourcarpet": [
           {
            "colorbar": {
             "outlinewidth": 1,
             "tickcolor": "rgb(36,36,36)",
             "ticks": "outside"
            },
            "type": "contourcarpet"
           }
          ],
          "heatmap": [
           {
            "colorbar": {
             "outlinewidth": 1,
             "tickcolor": "rgb(36,36,36)",
             "ticks": "outside"
            },
            "colorscale": [
             [
              0,
              "#440154"
             ],
             [
              0.1111111111111111,
              "#482878"
             ],
             [
              0.2222222222222222,
              "#3e4989"
             ],
             [
              0.3333333333333333,
              "#31688e"
             ],
             [
              0.4444444444444444,
              "#26828e"
             ],
             [
              0.5555555555555556,
              "#1f9e89"
             ],
             [
              0.6666666666666666,
              "#35b779"
             ],
             [
              0.7777777777777778,
              "#6ece58"
             ],
             [
              0.8888888888888888,
              "#b5de2b"
             ],
             [
              1,
              "#fde725"
             ]
            ],
            "type": "heatmap"
           }
          ],
          "histogram": [
           {
            "marker": {
             "line": {
              "color": "white",
              "width": 0.6
             }
            },
            "type": "histogram"
           }
          ],
          "histogram2d": [
           {
            "colorbar": {
             "outlinewidth": 1,
             "tickcolor": "rgb(36,36,36)",
             "ticks": "outside"
            },
            "colorscale": [
             [
              0,
              "#440154"
             ],
             [
              0.1111111111111111,
              "#482878"
             ],
             [
              0.2222222222222222,
              "#3e4989"
             ],
             [
              0.3333333333333333,
              "#31688e"
             ],
             [
              0.4444444444444444,
              "#26828e"
             ],
             [
              0.5555555555555556,
              "#1f9e89"
             ],
             [
              0.6666666666666666,
              "#35b779"
             ],
             [
              0.7777777777777778,
              "#6ece58"
             ],
             [
              0.8888888888888888,
              "#b5de2b"
             ],
             [
              1,
              "#fde725"
             ]
            ],
            "type": "histogram2d"
           }
          ],
          "histogram2dcontour": [
           {
            "colorbar": {
             "outlinewidth": 1,
             "tickcolor": "rgb(36,36,36)",
             "ticks": "outside"
            },
            "colorscale": [
             [
              0,
              "#440154"
             ],
             [
              0.1111111111111111,
              "#482878"
             ],
             [
              0.2222222222222222,
              "#3e4989"
             ],
             [
              0.3333333333333333,
              "#31688e"
             ],
             [
              0.4444444444444444,
              "#26828e"
             ],
             [
              0.5555555555555556,
              "#1f9e89"
             ],
             [
              0.6666666666666666,
              "#35b779"
             ],
             [
              0.7777777777777778,
              "#6ece58"
             ],
             [
              0.8888888888888888,
              "#b5de2b"
             ],
             [
              1,
              "#fde725"
             ]
            ],
            "type": "histogram2dcontour"
           }
          ],
          "mesh3d": [
           {
            "colorbar": {
             "outlinewidth": 1,
             "tickcolor": "rgb(36,36,36)",
             "ticks": "outside"
            },
            "type": "mesh3d"
           }
          ],
          "parcoords": [
           {
            "line": {
             "colorbar": {
              "outlinewidth": 1,
              "tickcolor": "rgb(36,36,36)",
              "ticks": "outside"
             }
            },
            "type": "parcoords"
           }
          ],
          "pie": [
           {
            "automargin": true,
            "type": "pie"
           }
          ],
          "scatter": [
           {
            "fillpattern": {
             "fillmode": "overlay",
             "size": 10,
             "solidity": 0.2
            },
            "type": "scatter"
           }
          ],
          "scatter3d": [
           {
            "line": {
             "colorbar": {
              "outlinewidth": 1,
              "tickcolor": "rgb(36,36,36)",
              "ticks": "outside"
             }
            },
            "marker": {
             "colorbar": {
              "outlinewidth": 1,
              "tickcolor": "rgb(36,36,36)",
              "ticks": "outside"
             }
            },
            "type": "scatter3d"
           }
          ],
          "scattercarpet": [
           {
            "marker": {
             "colorbar": {
              "outlinewidth": 1,
              "tickcolor": "rgb(36,36,36)",
              "ticks": "outside"
             }
            },
            "type": "scattercarpet"
           }
          ],
          "scattergeo": [
           {
            "marker": {
             "colorbar": {
              "outlinewidth": 1,
              "tickcolor": "rgb(36,36,36)",
              "ticks": "outside"
             }
            },
            "type": "scattergeo"
           }
          ],
          "scattergl": [
           {
            "marker": {
             "colorbar": {
              "outlinewidth": 1,
              "tickcolor": "rgb(36,36,36)",
              "ticks": "outside"
             }
            },
            "type": "scattergl"
           }
          ],
          "scattermap": [
           {
            "marker": {
             "colorbar": {
              "outlinewidth": 1,
              "tickcolor": "rgb(36,36,36)",
              "ticks": "outside"
             }
            },
            "type": "scattermap"
           }
          ],
          "scattermapbox": [
           {
            "marker": {
             "colorbar": {
              "outlinewidth": 1,
              "tickcolor": "rgb(36,36,36)",
              "ticks": "outside"
             }
            },
            "type": "scattermapbox"
           }
          ],
          "scatterpolar": [
           {
            "marker": {
             "colorbar": {
              "outlinewidth": 1,
              "tickcolor": "rgb(36,36,36)",
              "ticks": "outside"
             }
            },
            "type": "scatterpolar"
           }
          ],
          "scatterpolargl": [
           {
            "marker": {
             "colorbar": {
              "outlinewidth": 1,
              "tickcolor": "rgb(36,36,36)",
              "ticks": "outside"
             }
            },
            "type": "scatterpolargl"
           }
          ],
          "scatterternary": [
           {
            "marker": {
             "colorbar": {
              "outlinewidth": 1,
              "tickcolor": "rgb(36,36,36)",
              "ticks": "outside"
             }
            },
            "type": "scatterternary"
           }
          ],
          "surface": [
           {
            "colorbar": {
             "outlinewidth": 1,
             "tickcolor": "rgb(36,36,36)",
             "ticks": "outside"
            },
            "colorscale": [
             [
              0,
              "#440154"
             ],
             [
              0.1111111111111111,
              "#482878"
             ],
             [
              0.2222222222222222,
              "#3e4989"
             ],
             [
              0.3333333333333333,
              "#31688e"
             ],
             [
              0.4444444444444444,
              "#26828e"
             ],
             [
              0.5555555555555556,
              "#1f9e89"
             ],
             [
              0.6666666666666666,
              "#35b779"
             ],
             [
              0.7777777777777778,
              "#6ece58"
             ],
             [
              0.8888888888888888,
              "#b5de2b"
             ],
             [
              1,
              "#fde725"
             ]
            ],
            "type": "surface"
           }
          ],
          "table": [
           {
            "cells": {
             "fill": {
              "color": "rgb(237,237,237)"
             },
             "line": {
              "color": "white"
             }
            },
            "header": {
             "fill": {
              "color": "rgb(217,217,217)"
             },
             "line": {
              "color": "white"
             }
            },
            "type": "table"
           }
          ]
         },
         "layout": {
          "annotationdefaults": {
           "arrowhead": 0,
           "arrowwidth": 1
          },
          "autotypenumbers": "strict",
          "coloraxis": {
           "colorbar": {
            "outlinewidth": 1,
            "tickcolor": "rgb(36,36,36)",
            "ticks": "outside"
           }
          },
          "colorscale": {
           "diverging": [
            [
             0,
             "rgb(103,0,31)"
            ],
            [
             0.1,
             "rgb(178,24,43)"
            ],
            [
             0.2,
             "rgb(214,96,77)"
            ],
            [
             0.3,
             "rgb(244,165,130)"
            ],
            [
             0.4,
             "rgb(253,219,199)"
            ],
            [
             0.5,
             "rgb(247,247,247)"
            ],
            [
             0.6,
             "rgb(209,229,240)"
            ],
            [
             0.7,
             "rgb(146,197,222)"
            ],
            [
             0.8,
             "rgb(67,147,195)"
            ],
            [
             0.9,
             "rgb(33,102,172)"
            ],
            [
             1,
             "rgb(5,48,97)"
            ]
           ],
           "sequential": [
            [
             0,
             "#440154"
            ],
            [
             0.1111111111111111,
             "#482878"
            ],
            [
             0.2222222222222222,
             "#3e4989"
            ],
            [
             0.3333333333333333,
             "#31688e"
            ],
            [
             0.4444444444444444,
             "#26828e"
            ],
            [
             0.5555555555555556,
             "#1f9e89"
            ],
            [
             0.6666666666666666,
             "#35b779"
            ],
            [
             0.7777777777777778,
             "#6ece58"
            ],
            [
             0.8888888888888888,
             "#b5de2b"
            ],
            [
             1,
             "#fde725"
            ]
           ],
           "sequentialminus": [
            [
             0,
             "#440154"
            ],
            [
             0.1111111111111111,
             "#482878"
            ],
            [
             0.2222222222222222,
             "#3e4989"
            ],
            [
             0.3333333333333333,
             "#31688e"
            ],
            [
             0.4444444444444444,
             "#26828e"
            ],
            [
             0.5555555555555556,
             "#1f9e89"
            ],
            [
             0.6666666666666666,
             "#35b779"
            ],
            [
             0.7777777777777778,
             "#6ece58"
            ],
            [
             0.8888888888888888,
             "#b5de2b"
            ],
            [
             1,
             "#fde725"
            ]
           ]
          },
          "colorway": [
           "#1F77B4",
           "#FF7F0E",
           "#2CA02C",
           "#D62728",
           "#9467BD",
           "#8C564B",
           "#E377C2",
           "#7F7F7F",
           "#BCBD22",
           "#17BECF"
          ],
          "font": {
           "color": "rgb(36,36,36)"
          },
          "geo": {
           "bgcolor": "white",
           "lakecolor": "white",
           "landcolor": "white",
           "showlakes": true,
           "showland": true,
           "subunitcolor": "white"
          },
          "hoverlabel": {
           "align": "left"
          },
          "hovermode": "closest",
          "mapbox": {
           "style": "light"
          },
          "paper_bgcolor": "white",
          "plot_bgcolor": "white",
          "polar": {
           "angularaxis": {
            "gridcolor": "rgb(232,232,232)",
            "linecolor": "rgb(36,36,36)",
            "showgrid": false,
            "showline": true,
            "ticks": "outside"
           },
           "bgcolor": "white",
           "radialaxis": {
            "gridcolor": "rgb(232,232,232)",
            "linecolor": "rgb(36,36,36)",
            "showgrid": false,
            "showline": true,
            "ticks": "outside"
           }
          },
          "scene": {
           "xaxis": {
            "backgroundcolor": "white",
            "gridcolor": "rgb(232,232,232)",
            "gridwidth": 2,
            "linecolor": "rgb(36,36,36)",
            "showbackground": true,
            "showgrid": false,
            "showline": true,
            "ticks": "outside",
            "zeroline": false,
            "zerolinecolor": "rgb(36,36,36)"
           },
           "yaxis": {
            "backgroundcolor": "white",
            "gridcolor": "rgb(232,232,232)",
            "gridwidth": 2,
            "linecolor": "rgb(36,36,36)",
            "showbackground": true,
            "showgrid": false,
            "showline": true,
            "ticks": "outside",
            "zeroline": false,
            "zerolinecolor": "rgb(36,36,36)"
           },
           "zaxis": {
            "backgroundcolor": "white",
            "gridcolor": "rgb(232,232,232)",
            "gridwidth": 2,
            "linecolor": "rgb(36,36,36)",
            "showbackground": true,
            "showgrid": false,
            "showline": true,
            "ticks": "outside",
            "zeroline": false,
            "zerolinecolor": "rgb(36,36,36)"
           }
          },
          "shapedefaults": {
           "fillcolor": "black",
           "line": {
            "width": 0
           },
           "opacity": 0.3
          },
          "ternary": {
           "aaxis": {
            "gridcolor": "rgb(232,232,232)",
            "linecolor": "rgb(36,36,36)",
            "showgrid": false,
            "showline": true,
            "ticks": "outside"
           },
           "baxis": {
            "gridcolor": "rgb(232,232,232)",
            "linecolor": "rgb(36,36,36)",
            "showgrid": false,
            "showline": true,
            "ticks": "outside"
           },
           "bgcolor": "white",
           "caxis": {
            "gridcolor": "rgb(232,232,232)",
            "linecolor": "rgb(36,36,36)",
            "showgrid": false,
            "showline": true,
            "ticks": "outside"
           }
          },
          "title": {
           "x": 0.05
          },
          "xaxis": {
           "automargin": true,
           "gridcolor": "rgb(232,232,232)",
           "linecolor": "rgb(36,36,36)",
           "showgrid": false,
           "showline": true,
           "ticks": "outside",
           "title": {
            "standoff": 15
           },
           "zeroline": false,
           "zerolinecolor": "rgb(36,36,36)"
          },
          "yaxis": {
           "automargin": true,
           "gridcolor": "rgb(232,232,232)",
           "linecolor": "rgb(36,36,36)",
           "showgrid": false,
           "showline": true,
           "ticks": "outside",
           "title": {
            "standoff": 15
           },
           "zeroline": false,
           "zerolinecolor": "rgb(36,36,36)"
          }
         }
        },
        "title": {
         "text": "Bivariate Analysis: Customer Behavior vs Churn"
        },
        "width": 900,
        "xaxis": {
         "anchor": "y",
         "domain": [
          0,
          0.45
         ]
        },
        "xaxis2": {
         "anchor": "y2",
         "domain": [
          0.55,
          1
         ]
        },
        "xaxis3": {
         "anchor": "y3",
         "domain": [
          0,
          0.45
         ]
        },
        "xaxis4": {
         "anchor": "y4",
         "domain": [
          0.55,
          1
         ]
        },
        "yaxis": {
         "anchor": "x",
         "domain": [
          0.625,
          1
         ]
        },
        "yaxis2": {
         "anchor": "x2",
         "domain": [
          0.625,
          1
         ]
        },
        "yaxis3": {
         "anchor": "x3",
         "domain": [
          0,
          0.375
         ]
        },
        "yaxis4": {
         "anchor": "x4",
         "domain": [
          0,
          0.375
         ]
        }
       }
      }
     },
     "metadata": {},
     "output_type": "display_data"
    }
   ],
   "source": [
    "# Lloyds Bank colour scheme\n",
    "lloyds_colors = ['#005A30', '#000000']\n",
    "\n",
    "# 2x2 subplot setup\n",
    "fig = make_subplots(\n",
    "    rows=2, cols=2,\n",
    "    subplot_titles=(\n",
    "        \"Total Spent vs Churn\",\n",
    "        \"Login Frequency vs Churn\",\n",
    "        \"Num Interactions vs Churn\",\n",
    "        \"Unresolved Issues vs Churn\"\n",
    "    )\n",
    ")\n",
    "\n",
    "# Total Spent vs Churn\n",
    "fig.add_trace(go.Box(\n",
    "    y=df['TotalSpent'],\n",
    "    x=df['Churn'],\n",
    "    marker_color=lloyds_colors[0],\n",
    "    name=\"Total Spent\"\n",
    "), row=1, col=1)\n",
    "\n",
    "# Login Frequency vs Churn\n",
    "fig.add_trace(go.Box(\n",
    "    y=df['LoginFrequency'],\n",
    "    x=df['Churn'],\n",
    "    marker_color=lloyds_colors[1],\n",
    "    name=\"Login Frequency\"\n",
    "), row=1, col=2)\n",
    "\n",
    "# Num Interactions vs Churn\n",
    "fig.add_trace(go.Box(\n",
    "    y=df['NumInteractions'],\n",
    "    x=df['Churn'],\n",
    "    marker_color=lloyds_colors[0],\n",
    "    name=\"Interactions\"\n",
    "), row=2, col=1)\n",
    "\n",
    "# Unresolved Issues vs Churn\n",
    "fig.add_trace(go.Box(\n",
    "    y=df['UnresolvedCount'],\n",
    "    x=df['Churn'],\n",
    "    marker_color=lloyds_colors[1],\n",
    "    name=\"Unresolved\"\n",
    "), row=2, col=2)\n",
    "\n",
    "# Layout and styling\n",
    "fig.update_layout(\n",
    "    title_text=\"Bivariate Analysis: Customer Behavior vs Churn\",\n",
    "    template=\"simple_white\",\n",
    "    showlegend=False,\n",
    "    height=700,\n",
    "    width=900\n",
    ")\n",
    "fig.show()\n"
   ]
  },
  {
   "cell_type": "markdown",
   "id": "2dc35453",
   "metadata": {},
   "source": [
    "1. Churned customers seem to have lower transaction amounts on average\n",
    "2. Customers who churned, logged in less frequently "
   ]
  },
  {
   "cell_type": "code",
   "execution_count": 10,
   "id": "9ad875f0",
   "metadata": {},
   "outputs": [
    {
     "data": {
      "application/vnd.plotly.v1+json": {
       "config": {
        "plotlyServerURL": "https://plot.ly"
       },
       "data": [
        {
         "marker": {
          "color": "#005A30"
         },
         "name": "Churned",
         "showlegend": true,
         "type": "bar",
         "x": [
          "Divorced",
          "Married",
          "Single",
          "Widowed"
         ],
         "xaxis": "x",
         "y": {
          "bdata": "LjwsNg==",
          "dtype": "i1"
         },
         "yaxis": "y"
        },
        {
         "marker": {
          "color": "#000000"
         },
         "name": "Not Churned",
         "showlegend": true,
         "type": "bar",
         "x": [
          "Divorced",
          "Married",
          "Single",
          "Widowed"
         ],
         "xaxis": "x",
         "y": {
          "bdata": "ygDJAKsA3gA=",
          "dtype": "i2"
         },
         "yaxis": "y"
        },
        {
         "marker": {
          "color": "#005A30"
         },
         "name": "Churned",
         "showlegend": false,
         "type": "bar",
         "x": [
          "20-29",
          "30-39",
          "40-49",
          "50-59",
          "60-69",
          "<20"
         ],
         "xaxis": "x2",
         "y": {
          "bdata": "JiIrKSgI",
          "dtype": "i1"
         },
         "yaxis": "y2"
        },
        {
         "marker": {
          "color": "#000000"
         },
         "name": "Not Churned",
         "showlegend": false,
         "type": "bar",
         "x": [
          "20-29",
          "30-39",
          "40-49",
          "50-59",
          "60-69",
          "<20"
         ],
         "xaxis": "x2",
         "y": {
          "bdata": "pQCXAI8AnACUACEA",
          "dtype": "i2"
         },
         "yaxis": "y2"
        },
        {
         "marker": {
          "color": "#005A30"
         },
         "name": "Churned",
         "showlegend": false,
         "type": "bar",
         "x": [
          "Mobile App",
          "Online Banking",
          "Website"
         ],
         "xaxis": "x3",
         "y": {
          "bdata": "T0Y3",
          "dtype": "i1"
         },
         "yaxis": "y3"
        },
        {
         "marker": {
          "color": "#000000"
         },
         "name": "Not Churned",
         "showlegend": false,
         "type": "bar",
         "x": [
          "Mobile App",
          "Online Banking",
          "Website"
         ],
         "xaxis": "x3",
         "y": {
          "bdata": "BwEXAf4A",
          "dtype": "i2"
         },
         "yaxis": "y3"
        },
        {
         "marker": {
          "color": "#005A30"
         },
         "name": "Churned",
         "showlegend": false,
         "type": "bar",
         "x": [
          "F",
          "M"
         ],
         "xaxis": "x4",
         "y": {
          "bdata": "ZWc=",
          "dtype": "i1"
         },
         "yaxis": "y4"
        },
        {
         "marker": {
          "color": "#000000"
         },
         "name": "Not Churned",
         "showlegend": false,
         "type": "bar",
         "x": [
          "F",
          "M"
         ],
         "xaxis": "x4",
         "y": {
          "bdata": "nAGAAQ==",
          "dtype": "i2"
         },
         "yaxis": "y4"
        }
       ],
       "layout": {
        "annotations": [
         {
          "font": {
           "size": 16
          },
          "showarrow": false,
          "text": "Marital Status vs Churn",
          "x": 0.225,
          "xanchor": "center",
          "xref": "paper",
          "y": 1,
          "yanchor": "bottom",
          "yref": "paper"
         },
         {
          "font": {
           "size": 16
          },
          "showarrow": false,
          "text": "Age Group vs Churn",
          "x": 0.775,
          "xanchor": "center",
          "xref": "paper",
          "y": 1,
          "yanchor": "bottom",
          "yref": "paper"
         },
         {
          "font": {
           "size": 16
          },
          "showarrow": false,
          "text": "Service Used vs Churn",
          "x": 0.225,
          "xanchor": "center",
          "xref": "paper",
          "y": 0.375,
          "yanchor": "bottom",
          "yref": "paper"
         },
         {
          "font": {
           "size": 16
          },
          "showarrow": false,
          "text": "Gender vs Churn",
          "x": 0.775,
          "xanchor": "center",
          "xref": "paper",
          "y": 0.375,
          "yanchor": "bottom",
          "yref": "paper"
         }
        ],
        "barmode": "group",
        "height": 700,
        "template": {
         "data": {
          "bar": [
           {
            "error_x": {
             "color": "rgb(36,36,36)"
            },
            "error_y": {
             "color": "rgb(36,36,36)"
            },
            "marker": {
             "line": {
              "color": "white",
              "width": 0.5
             },
             "pattern": {
              "fillmode": "overlay",
              "size": 10,
              "solidity": 0.2
             }
            },
            "type": "bar"
           }
          ],
          "barpolar": [
           {
            "marker": {
             "line": {
              "color": "white",
              "width": 0.5
             },
             "pattern": {
              "fillmode": "overlay",
              "size": 10,
              "solidity": 0.2
             }
            },
            "type": "barpolar"
           }
          ],
          "carpet": [
           {
            "aaxis": {
             "endlinecolor": "rgb(36,36,36)",
             "gridcolor": "white",
             "linecolor": "white",
             "minorgridcolor": "white",
             "startlinecolor": "rgb(36,36,36)"
            },
            "baxis": {
             "endlinecolor": "rgb(36,36,36)",
             "gridcolor": "white",
             "linecolor": "white",
             "minorgridcolor": "white",
             "startlinecolor": "rgb(36,36,36)"
            },
            "type": "carpet"
           }
          ],
          "choropleth": [
           {
            "colorbar": {
             "outlinewidth": 1,
             "tickcolor": "rgb(36,36,36)",
             "ticks": "outside"
            },
            "type": "choropleth"
           }
          ],
          "contour": [
           {
            "colorbar": {
             "outlinewidth": 1,
             "tickcolor": "rgb(36,36,36)",
             "ticks": "outside"
            },
            "colorscale": [
             [
              0,
              "#440154"
             ],
             [
              0.1111111111111111,
              "#482878"
             ],
             [
              0.2222222222222222,
              "#3e4989"
             ],
             [
              0.3333333333333333,
              "#31688e"
             ],
             [
              0.4444444444444444,
              "#26828e"
             ],
             [
              0.5555555555555556,
              "#1f9e89"
             ],
             [
              0.6666666666666666,
              "#35b779"
             ],
             [
              0.7777777777777778,
              "#6ece58"
             ],
             [
              0.8888888888888888,
              "#b5de2b"
             ],
             [
              1,
              "#fde725"
             ]
            ],
            "type": "contour"
           }
          ],
          "contourcarpet": [
           {
            "colorbar": {
             "outlinewidth": 1,
             "tickcolor": "rgb(36,36,36)",
             "ticks": "outside"
            },
            "type": "contourcarpet"
           }
          ],
          "heatmap": [
           {
            "colorbar": {
             "outlinewidth": 1,
             "tickcolor": "rgb(36,36,36)",
             "ticks": "outside"
            },
            "colorscale": [
             [
              0,
              "#440154"
             ],
             [
              0.1111111111111111,
              "#482878"
             ],
             [
              0.2222222222222222,
              "#3e4989"
             ],
             [
              0.3333333333333333,
              "#31688e"
             ],
             [
              0.4444444444444444,
              "#26828e"
             ],
             [
              0.5555555555555556,
              "#1f9e89"
             ],
             [
              0.6666666666666666,
              "#35b779"
             ],
             [
              0.7777777777777778,
              "#6ece58"
             ],
             [
              0.8888888888888888,
              "#b5de2b"
             ],
             [
              1,
              "#fde725"
             ]
            ],
            "type": "heatmap"
           }
          ],
          "histogram": [
           {
            "marker": {
             "line": {
              "color": "white",
              "width": 0.6
             }
            },
            "type": "histogram"
           }
          ],
          "histogram2d": [
           {
            "colorbar": {
             "outlinewidth": 1,
             "tickcolor": "rgb(36,36,36)",
             "ticks": "outside"
            },
            "colorscale": [
             [
              0,
              "#440154"
             ],
             [
              0.1111111111111111,
              "#482878"
             ],
             [
              0.2222222222222222,
              "#3e4989"
             ],
             [
              0.3333333333333333,
              "#31688e"
             ],
             [
              0.4444444444444444,
              "#26828e"
             ],
             [
              0.5555555555555556,
              "#1f9e89"
             ],
             [
              0.6666666666666666,
              "#35b779"
             ],
             [
              0.7777777777777778,
              "#6ece58"
             ],
             [
              0.8888888888888888,
              "#b5de2b"
             ],
             [
              1,
              "#fde725"
             ]
            ],
            "type": "histogram2d"
           }
          ],
          "histogram2dcontour": [
           {
            "colorbar": {
             "outlinewidth": 1,
             "tickcolor": "rgb(36,36,36)",
             "ticks": "outside"
            },
            "colorscale": [
             [
              0,
              "#440154"
             ],
             [
              0.1111111111111111,
              "#482878"
             ],
             [
              0.2222222222222222,
              "#3e4989"
             ],
             [
              0.3333333333333333,
              "#31688e"
             ],
             [
              0.4444444444444444,
              "#26828e"
             ],
             [
              0.5555555555555556,
              "#1f9e89"
             ],
             [
              0.6666666666666666,
              "#35b779"
             ],
             [
              0.7777777777777778,
              "#6ece58"
             ],
             [
              0.8888888888888888,
              "#b5de2b"
             ],
             [
              1,
              "#fde725"
             ]
            ],
            "type": "histogram2dcontour"
           }
          ],
          "mesh3d": [
           {
            "colorbar": {
             "outlinewidth": 1,
             "tickcolor": "rgb(36,36,36)",
             "ticks": "outside"
            },
            "type": "mesh3d"
           }
          ],
          "parcoords": [
           {
            "line": {
             "colorbar": {
              "outlinewidth": 1,
              "tickcolor": "rgb(36,36,36)",
              "ticks": "outside"
             }
            },
            "type": "parcoords"
           }
          ],
          "pie": [
           {
            "automargin": true,
            "type": "pie"
           }
          ],
          "scatter": [
           {
            "fillpattern": {
             "fillmode": "overlay",
             "size": 10,
             "solidity": 0.2
            },
            "type": "scatter"
           }
          ],
          "scatter3d": [
           {
            "line": {
             "colorbar": {
              "outlinewidth": 1,
              "tickcolor": "rgb(36,36,36)",
              "ticks": "outside"
             }
            },
            "marker": {
             "colorbar": {
              "outlinewidth": 1,
              "tickcolor": "rgb(36,36,36)",
              "ticks": "outside"
             }
            },
            "type": "scatter3d"
           }
          ],
          "scattercarpet": [
           {
            "marker": {
             "colorbar": {
              "outlinewidth": 1,
              "tickcolor": "rgb(36,36,36)",
              "ticks": "outside"
             }
            },
            "type": "scattercarpet"
           }
          ],
          "scattergeo": [
           {
            "marker": {
             "colorbar": {
              "outlinewidth": 1,
              "tickcolor": "rgb(36,36,36)",
              "ticks": "outside"
             }
            },
            "type": "scattergeo"
           }
          ],
          "scattergl": [
           {
            "marker": {
             "colorbar": {
              "outlinewidth": 1,
              "tickcolor": "rgb(36,36,36)",
              "ticks": "outside"
             }
            },
            "type": "scattergl"
           }
          ],
          "scattermap": [
           {
            "marker": {
             "colorbar": {
              "outlinewidth": 1,
              "tickcolor": "rgb(36,36,36)",
              "ticks": "outside"
             }
            },
            "type": "scattermap"
           }
          ],
          "scattermapbox": [
           {
            "marker": {
             "colorbar": {
              "outlinewidth": 1,
              "tickcolor": "rgb(36,36,36)",
              "ticks": "outside"
             }
            },
            "type": "scattermapbox"
           }
          ],
          "scatterpolar": [
           {
            "marker": {
             "colorbar": {
              "outlinewidth": 1,
              "tickcolor": "rgb(36,36,36)",
              "ticks": "outside"
             }
            },
            "type": "scatterpolar"
           }
          ],
          "scatterpolargl": [
           {
            "marker": {
             "colorbar": {
              "outlinewidth": 1,
              "tickcolor": "rgb(36,36,36)",
              "ticks": "outside"
             }
            },
            "type": "scatterpolargl"
           }
          ],
          "scatterternary": [
           {
            "marker": {
             "colorbar": {
              "outlinewidth": 1,
              "tickcolor": "rgb(36,36,36)",
              "ticks": "outside"
             }
            },
            "type": "scatterternary"
           }
          ],
          "surface": [
           {
            "colorbar": {
             "outlinewidth": 1,
             "tickcolor": "rgb(36,36,36)",
             "ticks": "outside"
            },
            "colorscale": [
             [
              0,
              "#440154"
             ],
             [
              0.1111111111111111,
              "#482878"
             ],
             [
              0.2222222222222222,
              "#3e4989"
             ],
             [
              0.3333333333333333,
              "#31688e"
             ],
             [
              0.4444444444444444,
              "#26828e"
             ],
             [
              0.5555555555555556,
              "#1f9e89"
             ],
             [
              0.6666666666666666,
              "#35b779"
             ],
             [
              0.7777777777777778,
              "#6ece58"
             ],
             [
              0.8888888888888888,
              "#b5de2b"
             ],
             [
              1,
              "#fde725"
             ]
            ],
            "type": "surface"
           }
          ],
          "table": [
           {
            "cells": {
             "fill": {
              "color": "rgb(237,237,237)"
             },
             "line": {
              "color": "white"
             }
            },
            "header": {
             "fill": {
              "color": "rgb(217,217,217)"
             },
             "line": {
              "color": "white"
             }
            },
            "type": "table"
           }
          ]
         },
         "layout": {
          "annotationdefaults": {
           "arrowhead": 0,
           "arrowwidth": 1
          },
          "autotypenumbers": "strict",
          "coloraxis": {
           "colorbar": {
            "outlinewidth": 1,
            "tickcolor": "rgb(36,36,36)",
            "ticks": "outside"
           }
          },
          "colorscale": {
           "diverging": [
            [
             0,
             "rgb(103,0,31)"
            ],
            [
             0.1,
             "rgb(178,24,43)"
            ],
            [
             0.2,
             "rgb(214,96,77)"
            ],
            [
             0.3,
             "rgb(244,165,130)"
            ],
            [
             0.4,
             "rgb(253,219,199)"
            ],
            [
             0.5,
             "rgb(247,247,247)"
            ],
            [
             0.6,
             "rgb(209,229,240)"
            ],
            [
             0.7,
             "rgb(146,197,222)"
            ],
            [
             0.8,
             "rgb(67,147,195)"
            ],
            [
             0.9,
             "rgb(33,102,172)"
            ],
            [
             1,
             "rgb(5,48,97)"
            ]
           ],
           "sequential": [
            [
             0,
             "#440154"
            ],
            [
             0.1111111111111111,
             "#482878"
            ],
            [
             0.2222222222222222,
             "#3e4989"
            ],
            [
             0.3333333333333333,
             "#31688e"
            ],
            [
             0.4444444444444444,
             "#26828e"
            ],
            [
             0.5555555555555556,
             "#1f9e89"
            ],
            [
             0.6666666666666666,
             "#35b779"
            ],
            [
             0.7777777777777778,
             "#6ece58"
            ],
            [
             0.8888888888888888,
             "#b5de2b"
            ],
            [
             1,
             "#fde725"
            ]
           ],
           "sequentialminus": [
            [
             0,
             "#440154"
            ],
            [
             0.1111111111111111,
             "#482878"
            ],
            [
             0.2222222222222222,
             "#3e4989"
            ],
            [
             0.3333333333333333,
             "#31688e"
            ],
            [
             0.4444444444444444,
             "#26828e"
            ],
            [
             0.5555555555555556,
             "#1f9e89"
            ],
            [
             0.6666666666666666,
             "#35b779"
            ],
            [
             0.7777777777777778,
             "#6ece58"
            ],
            [
             0.8888888888888888,
             "#b5de2b"
            ],
            [
             1,
             "#fde725"
            ]
           ]
          },
          "colorway": [
           "#1F77B4",
           "#FF7F0E",
           "#2CA02C",
           "#D62728",
           "#9467BD",
           "#8C564B",
           "#E377C2",
           "#7F7F7F",
           "#BCBD22",
           "#17BECF"
          ],
          "font": {
           "color": "rgb(36,36,36)"
          },
          "geo": {
           "bgcolor": "white",
           "lakecolor": "white",
           "landcolor": "white",
           "showlakes": true,
           "showland": true,
           "subunitcolor": "white"
          },
          "hoverlabel": {
           "align": "left"
          },
          "hovermode": "closest",
          "mapbox": {
           "style": "light"
          },
          "paper_bgcolor": "white",
          "plot_bgcolor": "white",
          "polar": {
           "angularaxis": {
            "gridcolor": "rgb(232,232,232)",
            "linecolor": "rgb(36,36,36)",
            "showgrid": false,
            "showline": true,
            "ticks": "outside"
           },
           "bgcolor": "white",
           "radialaxis": {
            "gridcolor": "rgb(232,232,232)",
            "linecolor": "rgb(36,36,36)",
            "showgrid": false,
            "showline": true,
            "ticks": "outside"
           }
          },
          "scene": {
           "xaxis": {
            "backgroundcolor": "white",
            "gridcolor": "rgb(232,232,232)",
            "gridwidth": 2,
            "linecolor": "rgb(36,36,36)",
            "showbackground": true,
            "showgrid": false,
            "showline": true,
            "ticks": "outside",
            "zeroline": false,
            "zerolinecolor": "rgb(36,36,36)"
           },
           "yaxis": {
            "backgroundcolor": "white",
            "gridcolor": "rgb(232,232,232)",
            "gridwidth": 2,
            "linecolor": "rgb(36,36,36)",
            "showbackground": true,
            "showgrid": false,
            "showline": true,
            "ticks": "outside",
            "zeroline": false,
            "zerolinecolor": "rgb(36,36,36)"
           },
           "zaxis": {
            "backgroundcolor": "white",
            "gridcolor": "rgb(232,232,232)",
            "gridwidth": 2,
            "linecolor": "rgb(36,36,36)",
            "showbackground": true,
            "showgrid": false,
            "showline": true,
            "ticks": "outside",
            "zeroline": false,
            "zerolinecolor": "rgb(36,36,36)"
           }
          },
          "shapedefaults": {
           "fillcolor": "black",
           "line": {
            "width": 0
           },
           "opacity": 0.3
          },
          "ternary": {
           "aaxis": {
            "gridcolor": "rgb(232,232,232)",
            "linecolor": "rgb(36,36,36)",
            "showgrid": false,
            "showline": true,
            "ticks": "outside"
           },
           "baxis": {
            "gridcolor": "rgb(232,232,232)",
            "linecolor": "rgb(36,36,36)",
            "showgrid": false,
            "showline": true,
            "ticks": "outside"
           },
           "bgcolor": "white",
           "caxis": {
            "gridcolor": "rgb(232,232,232)",
            "linecolor": "rgb(36,36,36)",
            "showgrid": false,
            "showline": true,
            "ticks": "outside"
           }
          },
          "title": {
           "x": 0.05
          },
          "xaxis": {
           "automargin": true,
           "gridcolor": "rgb(232,232,232)",
           "linecolor": "rgb(36,36,36)",
           "showgrid": false,
           "showline": true,
           "ticks": "outside",
           "title": {
            "standoff": 15
           },
           "zeroline": false,
           "zerolinecolor": "rgb(36,36,36)"
          },
          "yaxis": {
           "automargin": true,
           "gridcolor": "rgb(232,232,232)",
           "linecolor": "rgb(36,36,36)",
           "showgrid": false,
           "showline": true,
           "ticks": "outside",
           "title": {
            "standoff": 15
           },
           "zeroline": false,
           "zerolinecolor": "rgb(36,36,36)"
          }
         }
        },
        "title": {
         "text": "Categorical Variables vs Churn"
        },
        "width": 900,
        "xaxis": {
         "anchor": "y",
         "domain": [
          0,
          0.45
         ]
        },
        "xaxis2": {
         "anchor": "y2",
         "domain": [
          0.55,
          1
         ]
        },
        "xaxis3": {
         "anchor": "y3",
         "domain": [
          0,
          0.45
         ]
        },
        "xaxis4": {
         "anchor": "y4",
         "domain": [
          0.55,
          1
         ]
        },
        "yaxis": {
         "anchor": "x",
         "domain": [
          0.625,
          1
         ]
        },
        "yaxis2": {
         "anchor": "x2",
         "domain": [
          0.625,
          1
         ]
        },
        "yaxis3": {
         "anchor": "x3",
         "domain": [
          0,
          0.375
         ]
        },
        "yaxis4": {
         "anchor": "x4",
         "domain": [
          0,
          0.375
         ]
        }
       }
      }
     },
     "metadata": {},
     "output_type": "display_data"
    }
   ],
   "source": [
    "\n",
    "\n",
    "# Lloyds Bank colours\n",
    "lloyds_colors = ['#005A30', '#000000']\n",
    "\n",
    "# Create subplots\n",
    "fig = make_subplots(\n",
    "    rows=2, cols=2,\n",
    "    subplot_titles=(\n",
    "        \"Marital Status vs Churn\",\n",
    "        \"Age Group vs Churn\",\n",
    "        \"Service Used vs Churn\",\n",
    "        \"Gender vs Churn\"\n",
    "    )\n",
    ")\n",
    "\n",
    "# Helper function to add bar traces\n",
    "def add_bar_trace(df, x_col, row, col, color):\n",
    "    grouped = df.groupby([x_col, 'Churn']).size().unstack().fillna(0)\n",
    "    for i, churn_status in enumerate(grouped.columns):\n",
    "        fig.add_trace(go.Bar(\n",
    "            x=grouped.index,\n",
    "            y=grouped[churn_status],\n",
    "            name=churn_status,\n",
    "            marker_color=color[i % len(color)],\n",
    "            showlegend=(row == 1 and col == 1)  # Show legend only once\n",
    "        ), row=row, col=col)\n",
    "\n",
    "# Add plots\n",
    "add_bar_trace(df, 'MaritalStatus', 1, 1, lloyds_colors)\n",
    "add_bar_trace(df, 'AgeGroup', 1, 2, lloyds_colors)\n",
    "add_bar_trace(df, 'ServiceUsage', 2, 1, lloyds_colors)\n",
    "add_bar_trace(df, 'Gender', 2, 2, lloyds_colors)\n",
    "\n",
    "# Layout styling\n",
    "fig.update_layout(\n",
    "    title_text=\"Categorical Variables vs Churn\",\n",
    "    barmode='group',\n",
    "    template=\"simple_white\",\n",
    "    height=700,\n",
    "    width=900\n",
    ")\n",
    "\n",
    "fig.show()\n"
   ]
  },
  {
   "cell_type": "markdown",
   "id": "b7cacfaf",
   "metadata": {},
   "source": [
    "1. Lowest Churn is observed in the younger demographic.\n",
    "2. Majority of Churned customer appear to have been amongst mobile app and Online Banking users.\n",
    "3. Married and Widowed individuals have historically churned more compared to divorced and singles.\n"
   ]
  },
  {
   "cell_type": "code",
   "execution_count": 25,
   "id": "f10610f8",
   "metadata": {},
   "outputs": [
    {
     "name": "stderr",
     "output_type": "stream",
     "text": [
      "C:\\Users\\ARKA\\AppData\\Local\\Temp\\ipykernel_34184\\2114443884.py:5: FutureWarning:\n",
      "\n",
      "\n",
      "\n",
      "Passing `palette` without assigning `hue` is deprecated and will be removed in v0.14.0. Assign the `x` variable to `hue` and set `legend=False` for the same effect.\n",
      "\n",
      "\n"
     ]
    },
    {
     "data": {
      "image/png": "[encoded data removed]",
      "text/plain": [
       "<Figure size 800x500 with 1 Axes>"
      ]
     },
     "metadata": {},
     "output_type": "display_data"
    }
   ],
   "source": [
    "avg_age = df.groupby('MaritalStatus')['Age'].mean().reset_index()\n",
    "\n",
    "# --- 2. Plot using seaborn ---\n",
    "plt.figure(figsize=(8, 5))\n",
    "sns.barplot(x='MaritalStatus', y='Age', data=avg_age, palette='viridis')\n",
    "\n",
    "plt.title(\"Average Age by Marital Status\")\n",
    "plt.xlabel(\"Marital Status\")\n",
    "plt.ylabel(\"Average Age\")\n",
    "plt.xticks(rotation=45)\n",
    "plt.tight_layout()\n",
    "plt.show()"
   ]
  },
  {
   "cell_type": "markdown",
   "id": "6a669456",
   "metadata": {},
   "source": [
    "## Conclusions\n",
    "\n",
    "Customer Demographics\n",
    "\n",
    "Majority of customers are older (age 40+), and predominantly married, divorced, or widowed.\n",
    "\n",
    "Young and single customers represent a smaller portion, but they churn the least.\n",
    "\n",
    "Churn is higher among married and widowed customers.\n",
    "\n",
    "Income & Activity\n",
    "\n",
    "More customers fall into a high income-band, but income does not significantly affect churn.\n",
    "\n",
    "Customers who churned tend to:\n",
    "\n",
    "Have fewer logins (low engagement).\n",
    "\n",
    "Make fewer and lower-value transactions.\n",
    "\n",
    "Use remote channels (e.g., mobile app, online banking) more, but not effectively.\n",
    "\n",
    "Support & Engagement\n",
    "\n",
    "Customers with more transactions also interact more with customer support — possibly due to complexity or issues.\n",
    "\n",
    "Recommendations\n",
    "\n",
    "1. Target Younger Demographic\n",
    "Why: They churn less and may be more receptive to digital services.\n",
    "\n",
    "How: Run digital campaigns focused on convenience, app features, and rewards for younger users.\n",
    "\n",
    "2. Improve Digital Experience\n",
    "Why: Churned customers often used online/mobile banking but still disengaged.\n",
    "\n",
    "How:\n",
    "\n",
    "Improve UX/UI of digital channels.\n",
    "\n",
    "Add interactive onboarding, transaction summaries, and chat-based support.\n",
    "\n",
    "3. Re-engagement Strategy for Older Customers\n",
    "Why: Older, married/widowed customers churn more, despite being the majority.\n",
    "\n",
    "How:\n",
    "\n",
    "Launch personalized communication.\n",
    "\n",
    "Offer simplified tools, in-branch assistance, or hybrid services.\n",
    "\n",
    "4. Behavioral Triggers for Retention\n",
    "Why: Low login and transaction activity predict churn.\n",
    "\n",
    "How:\n",
    "\n",
    "Implement early warning systems for inactivity.\n",
    "\n",
    "Trigger retention campaigns (e.g., emails, app notifications, special offers).\n",
    "\n",
    "5. Customer Education\n",
    "Why: High-income users and support-heavy customers may lack awareness of services.\n",
    "\n",
    "How:\n",
    "\n",
    "Provide interactive guides, support webinars, or help center content.\n",
    "\n",
    "Promote automated and self-service tools to reduce friction"
   ]
  }
 ],
 "metadata": {
  "kernelspec": {
   "display_name": "Python 3",
   "language": "python",
   "name": "python3"
  },
  "language_info": {
   "codemirror_mode": {
    "name": "ipython",
    "version": 3
   },
   "file_extension": ".py",
   "mimetype": "text/x-python",
   "name": "python",
   "nbconvert_exporter": "python",
   "pygments_lexer": "ipython3",
   "version": "3.11.4"
  }
 },
 "nbformat": 4,
 "nbformat_minor": 5
}
